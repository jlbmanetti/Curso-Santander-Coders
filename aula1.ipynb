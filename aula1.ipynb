{
 "cells": [
  {
   "attachments": {},
   "cell_type": "markdown",
   "metadata": {},
   "source": [
    "# Aula 1\n",
    "usar sempre o jupyter - exntensão .ipynb\n",
    "anotações da turma - https://dontpad.com/turma999"
   ]
  },
  {
   "attachments": {},
   "cell_type": "markdown",
   "metadata": {},
   "source": [
    "# PEP 8 - Guidelines for coding in python\n",
    "PEP 8 is a set of guidelines for coding in Python. It provides recommendations and best practices for writing clean, readable, and maintainable Python code. Following PEP 8 can help improve the consistency and readability of your codebase. Here are some key points from PEP 8:\n",
    "\n",
    "Indentation: Use 4 spaces for indentation. Avoid tabs or mixing tabs and spaces.\n",
    "\n",
    "Line Length: Keep lines of code limited to a maximum of 79 characters. For long lines, you can break them into multiple lines using parentheses or backslashes.\n",
    "\n",
    "Naming Conventions:\n",
    "\n",
    "Use lowercase letters and underscores for variable, function, and module names (e.g., my_variable, my_function, my_module).\n",
    "Use CapWords (also known as CamelCase) for class names (e.g., MyClass, MyClassMethod).\n",
    "Import Statements: Import each module on a separate line. Avoid using wildcard imports (from module import *). Instead, import specific names or use the module name as a prefix.\n",
    "\n",
    "Whitespace:\n",
    "\n",
    "Use a single space after commas in function calls and definitions (my_function(arg1, arg2)).\n",
    "Use whitespace around operators (x = y + z).\n",
    "Don't use extraneous whitespace, especially at the end of lines or surrounding parentheses.\n",
    "Comments: Use comments to explain your code when necessary. Place them on a separate line above the code they refer to. Keep comments concise and to the point.\n",
    "\n",
    "Function and Class Documentation: Use docstrings to document functions, classes, and methods. Follow the conventions outlined in PEP 257 for writing docstrings.\n",
    "\n",
    "Other Recommendations:\n",
    "\n",
    "Avoid writing very long functions or methods.\n",
    "Use blank lines to separate logical sections within a function or method.\n",
    "Be consistent with your code style and follow PEP 8 consistently throughout your project."
   ]
  },
  {
   "cell_type": "code",
   "execution_count": 6,
   "metadata": {},
   "outputs": [
    {
     "name": "stdout",
     "output_type": "stream",
     "text": [
      "\t cria uma tabulação, enquanto \n",
      "cria uma nova linha\n"
     ]
    }
   ],
   "source": [
    "print('\\t cria uma tabulação, enquanto \\ncria uma nova linha')"
   ]
  },
  {
   "cell_type": "code",
   "execution_count": 7,
   "metadata": {},
   "outputs": [
    {
     "data": {
      "text/plain": [
       "'um texto qualquer no jupyter na última linha funciona como print'"
      ]
     },
     "execution_count": 7,
     "metadata": {},
     "output_type": "execute_result"
    }
   ],
   "source": [
    "\"um texto qualquer no jupyter na última linha funciona como print\""
   ]
  },
  {
   "cell_type": "code",
   "execution_count": 9,
   "metadata": {},
   "outputs": [
    {
     "name": "stdout",
     "output_type": "stream",
     "text": [
      "oieu você\n"
     ]
    }
   ],
   "source": [
    "print('oi'+'eu',\"você\") # com , ele da um espaço automaticamente"
   ]
  },
  {
   "cell_type": "code",
   "execution_count": 11,
   "metadata": {},
   "outputs": [
    {
     "name": "stdout",
     "output_type": "stream",
     "text": [
      "what's your name\n"
     ]
    }
   ],
   "source": [
    "print('what\\'s your name') # \\ antes da ' quebra a funcionalidade das aspas"
   ]
  },
  {
   "attachments": {},
   "cell_type": "markdown",
   "metadata": {},
   "source": [
    "Exercícios da aula"
   ]
  },
  {
   "cell_type": "code",
   "execution_count": null,
   "metadata": {},
   "outputs": [],
   "source": [
    "#E"
   ]
  }
 ],
 "metadata": {
  "kernelspec": {
   "display_name": "Python 3",
   "language": "python",
   "name": "python3"
  },
  "language_info": {
   "codemirror_mode": {
    "name": "ipython",
    "version": 3
   },
   "file_extension": ".py",
   "mimetype": "text/x-python",
   "name": "python",
   "nbconvert_exporter": "python",
   "pygments_lexer": "ipython3",
   "version": "3.11.1"
  },
  "orig_nbformat": 4
 },
 "nbformat": 4,
 "nbformat_minor": 2
}
