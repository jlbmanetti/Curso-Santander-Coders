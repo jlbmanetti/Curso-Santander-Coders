{
 "cells": [
  {
   "cell_type": "markdown",
   "id": "40fa4a78-b4df-4415-b537-c7c310d9e070",
   "metadata": {},
   "source": [
    "# Exercício\n",
    "\n",
    "1 - Implemente um webhook produtor e cliente que trafegue um evento relacionado a venda de um item em um site e-commerce, o evento deverá respeitar o seguinte padrão:\n",
    "\n",
    "```\n",
    "{\n",
    " \"id\": 2,\n",
    " \"unidade\": \"São Paulo\",\n",
    " \"client\": 1,\n",
    " \"data_venda\": \"2023-09-22 21:24:35\",\n",
    " \"pagamento\": \"Crédito\",\n",
    " \"valor\": 22.50\n",
    "}\n",
    "```\n",
    "\n",
    "1 - Vocês deverão implementar um servidor flask com um endpoint que receba o evento descrito e o persista em um arquivo Parquet\n",
    "\n",
    "2 - Vocês deverão criar um produtor que publique os eventos no endpoint (webhook) criado"
   ]
  },
  {
   "cell_type": "code",
   "execution_count": null,
   "id": "a5e72863-744b-498e-85ff-ba1a02ded4ce",
   "metadata": {},
   "outputs": [],
   "source": []
  }
 ],
 "metadata": {
  "kernelspec": {
   "display_name": "Python 3 (ipykernel)",
   "language": "python",
   "name": "python3"
  },
  "language_info": {
   "codemirror_mode": {
    "name": "ipython",
    "version": 3
   },
   "file_extension": ".py",
   "mimetype": "text/x-python",
   "name": "python",
   "nbconvert_exporter": "python",
   "pygments_lexer": "ipython3",
   "version": "3.10.10"
  }
 },
 "nbformat": 4,
 "nbformat_minor": 5
}
