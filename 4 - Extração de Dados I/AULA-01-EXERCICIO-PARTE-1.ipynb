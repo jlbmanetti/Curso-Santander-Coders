{
 "cells": [
  {
   "cell_type": "markdown",
   "metadata": {},
   "source": [
    "# Exercício Parte 1 - ETL e ELT"
   ]
  },
  {
   "cell_type": "markdown",
   "metadata": {},
   "source": [
    "1 - Crie um Processo utilizando a estratégia de ETL para carregar os dados da base payments em um sistema de armazenamento onde deverá ser aplicada uma regra de negócio que conte quantos pagamentos foram realizados através de cada meio de pagamento."
   ]
  },
  {
   "cell_type": "code",
   "execution_count": 66,
   "metadata": {},
   "outputs": [],
   "source": [
    "import pandas as pd\n",
    "\n",
    "df_read = pd.read_csv('aula1_olist_order_payments_dataset.csv')\n",
    "df = df_read"
   ]
  },
  {
   "cell_type": "code",
   "execution_count": 67,
   "metadata": {},
   "outputs": [],
   "source": [
    "df_sum = df.groupby('payment_type').count().reset_index().iloc[:,0:2].rename(columns={'order_id':'count'})"
   ]
  },
  {
   "cell_type": "code",
   "execution_count": 68,
   "metadata": {},
   "outputs": [],
   "source": [
    "df_sum.to_csv('aula1_ETL_output.csv', index=False, sep=',', mode='w')"
   ]
  },
  {
   "cell_type": "markdown",
   "metadata": {
    "vscode": {
     "languageId": "plaintext"
    }
   },
   "source": [
    "2 - Utilize-se do exemplo anterior, aplicando a estratégia de ELT"
   ]
  },
  {
   "cell_type": "code",
   "execution_count": 69,
   "metadata": {},
   "outputs": [],
   "source": [
    "#Part 1 - Extract\n",
    "df_raw = pd.read_csv('aula1_olist_order_payments_dataset.csv')\n",
    "df_raw.to_csv('aula1_ELT_RAW_output.csv', index=False, sep=',', mode='w')"
   ]
  },
  {
   "cell_type": "code",
   "execution_count": 70,
   "metadata": {},
   "outputs": [],
   "source": [
    "#Part 2 - Load & Transform\n",
    "df_transform = pd.read_csv('aula1_ELT_RAW_output.csv')\n",
    "#nenhum ação de tratamento\n",
    "df_transform.to_csv('aula1_ELT_REFINED_output.csv', index=False, sep=',', mode='w')"
   ]
  },
  {
   "cell_type": "code",
   "execution_count": 71,
   "metadata": {},
   "outputs": [],
   "source": [
    "#Part 3 - Load & Analytics\n",
    "df_analytics = pd.read_csv('aula1_ELT_RAW_output.csv')\n",
    "df_analytics = df_load.groupby('payment_type').count().reset_index().iloc[:,0:2].rename(columns={'order_id':'count'})\n",
    "df_analytics.to_csv('aula1_ELT_ANALYTICS_output.csv', index=False, sep=',', mode='w')"
   ]
  },
  {
   "cell_type": "code",
   "execution_count": null,
   "metadata": {},
   "outputs": [],
   "source": []
  }
 ],
 "metadata": {
  "kernelspec": {
   "display_name": "Python 3",
   "language": "python",
   "name": "python3"
  },
  "language_info": {
   "codemirror_mode": {
    "name": "ipython",
    "version": 3
   },
   "file_extension": ".py",
   "mimetype": "text/x-python",
   "name": "python",
   "nbconvert_exporter": "python",
   "pygments_lexer": "ipython3",
   "version": "3.11.1"
  },
  "orig_nbformat": 4
 },
 "nbformat": 4,
 "nbformat_minor": 2
}
