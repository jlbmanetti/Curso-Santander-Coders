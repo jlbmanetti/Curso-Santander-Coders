{
 "cells": [
  {
   "cell_type": "markdown",
   "metadata": {},
   "source": [
    "### Aula 1 - Curso Python 2 Santander Coders 2023"
   ]
  },
  {
   "cell_type": "markdown",
   "metadata": {},
   "source": [
    "## Exercícios\n",
    "\n",
    "1. Defina duas tuplas: uma com nomes de comida (pelo menos 5 nomes) e outra com os preços das comidas - preservando a ordem. Mostre no *standard output* a relação de comida-preço.\n",
    "\n",
    "2. Agora, ainda com as tuplas acima, pegue apenas o nome e o preço das três comidas no meio da tupla. (considere \"meio da lista\" como sendo, por exemplo: ('A', 'B', 'C', 'D', 'E') --> ('B', 'C', 'D').\n",
    "\n",
    "3. Defina uma tupla com pelo menos cinco valores e mostre no *standard output* esta tupla invertida. (exemplo, (1, 2, 3, 4) --> (4, 3, 2, 1)\n",
    "\n",
    "4. Dada a seguinte tupla: (('a', 23),('b', 37),('c', 11), ('d',29)). Ordene esta tupla de acordo com o segundo item.\n",
    "\n",
    "5. Defina uma tupla com pelo menos dez itens e crie uma nova tupla com apenas os itens de índice PAR da tupla original."
   ]
  },
  {
   "cell_type": "code",
   "execution_count": 20,
   "metadata": {},
   "outputs": [
    {
     "name": "stdout",
     "output_type": "stream",
     "text": [
      "[('banana', 10), ('maca', 20), ('pera', 30), ('laranja', 40), ('morango', 50)]\n"
     ]
    }
   ],
   "source": [
    "#ex 1\n",
    "comidas = 'banana', 'maca', 'pera', 'laranja', 'morango'\n",
    "precos = 10, 20, 30, 40, 50\n",
    "\n",
    "lista = list(zip(comidas, precos))\n",
    "\n",
    "print(lista)"
   ]
  },
  {
   "cell_type": "code",
   "execution_count": 22,
   "metadata": {},
   "outputs": [
    {
     "name": "stdout",
     "output_type": "stream",
     "text": [
      "[('maca', 20), ('pera', 30), ('laranja', 40)]\n"
     ]
    }
   ],
   "source": [
    "#ex 2\n",
    "comidas = 'banana', 'maca', 'pera', 'laranja', 'morango'\n",
    "precos = 10, 20, 30, 40, 50\n",
    "\n",
    "ci, *cmeio, cf = comidas\n",
    "pi, *pmeio, pf = precos\n",
    "\n",
    "print(list(zip(cmeio,pmeio)))\n"
   ]
  },
  {
   "cell_type": "code",
   "execution_count": 23,
   "metadata": {},
   "outputs": [
    {
     "name": "stdout",
     "output_type": "stream",
     "text": [
      "('morango', 'laranja', 'pera', 'maca', 'banana')\n"
     ]
    }
   ],
   "source": [
    "#ex 3\n",
    "nova_tupla = tuple(comidas)\n",
    "nova_tupla_invertida = nova_tupla[::-1] # de 0 ao fim ao passo de menos 1\n",
    "print(nova_tupla_invertida)"
   ]
  },
  {
   "cell_type": "code",
   "execution_count": 24,
   "metadata": {},
   "outputs": [
    {
     "name": "stdout",
     "output_type": "stream",
     "text": [
      "(('c', 11), ('a', 23), ('d', 29), ('b', 37))\n"
     ]
    }
   ],
   "source": [
    "#ex 4\n",
    "tupla_ex4 = (('a', 23),('b', 37),('c', 11), ('d',29))\n",
    "tupla_ordenada = tuple(sorted(list(tupla_ex4),key=lambda x:x[1])) #lambda parameters: expression, sorted only used with list\n",
    "\n",
    "print(tupla_ordenada)"
   ]
  },
  {
   "cell_type": "code",
   "execution_count": 28,
   "metadata": {},
   "outputs": [
    {
     "name": "stdout",
     "output_type": "stream",
     "text": [
      "[0, 2, 4, 6, 8]\n"
     ]
    }
   ],
   "source": [
    "#ex 5\n",
    "tupla1 = tuple(range(10))\n",
    "tupla1_par = list()\n",
    "\n",
    "for i in tupla1:\n",
    "    if i % 2 == 0 or i == 0:\n",
    "        tupla1_par.append(i)\n",
    "\n",
    "print(tupla1_par)"
   ]
  },
  {
   "cell_type": "code",
   "execution_count": null,
   "metadata": {},
   "outputs": [],
   "source": []
  }
 ],
 "metadata": {
  "kernelspec": {
   "display_name": "Python 3",
   "language": "python",
   "name": "python3"
  },
  "language_info": {
   "codemirror_mode": {
    "name": "ipython",
    "version": 3
   },
   "file_extension": ".py",
   "mimetype": "text/x-python",
   "name": "python",
   "nbconvert_exporter": "python",
   "pygments_lexer": "ipython3",
   "version": "3.11.1"
  },
  "orig_nbformat": 4
 },
 "nbformat": 4,
 "nbformat_minor": 2
}
