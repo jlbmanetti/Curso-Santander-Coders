{
 "cells": [
  {
   "attachments": {},
   "cell_type": "markdown",
   "metadata": {},
   "source": [
    "# EXERCÍCIOS - AULA 2\n",
    "6) Faça um programa que mostre uma questão de múltipla escolha com 5 opções (letras a, b, c, d, e). \n",
    "Sabendo a resposta certa, o programa deve receber a opção do usuário e informar a letra que o usuário marcou e se a resposta está certa ou errada.\n",
    "\n",
    "7)\n",
    "Vamos fazer um programa para verificar quem é o assassino de um crime. Para descobrir o assassino, \n",
    "a polícia faz um pequeno questionário com 5 perguntas \n",
    "onde a resposta só pode ser sim ou não:\n",
    "\n",
    "a. Mora perto da vítima?\n",
    "\n",
    "b. Já trabalhou com a vítima?\n",
    "\n",
    "c. Telefonou para a vítima?\n",
    "\n",
    "d. Esteve no local do crime?\n",
    "\n",
    "e. Devia para a vítima?\n",
    "\n",
    "Cada resposta sim dá um ponto para o suspeito. A polícia considera que os suspeitos com 5 pontos são os assassinos, com 4 a 3 pontos \n",
    "são cúmplices e 2 pontos são apenas suspeitos, necessitando outras investigações. Valores iguais ou abaixo de 1 são liberados.'''\n",
    "\n",
    "8) Um produto vai sofrer aumento de acordo com a Tabela 1 abaixo. Faça um programa que peça para o usuário digitar o valor do produto de acordo \n",
    "com o preço antigo e escreva uma das mensagens da Tabela 2, de acordo com o preço reajustado:\n",
    "\n",
    "Tabela 1\n",
    "\n",
    "| Preço Antigo         | % de aumento |\n",
    "|----------------------|--------------|\n",
    "| Até 50 reais         | 5%           |\n",
    "| Entre 50 e 100 reais | 10%          |\n",
    "| De 100 a 150 reais   | 13%          |\n",
    "| Acima de 150 reais   | 15%          |\n",
    "\n",
    "Tabela 2\n",
    "\n",
    "| Preço Novo            | Mensagem   |\n",
    "|-----------------------|------------|\n",
    "| Até 80 reais          | Barato     |\n",
    "| Entre 80 e 115 reais  | Razoável   |\n",
    "| Entre 115 e 150 reais | Normal     |\n",
    "| Entre 150 e 170 reais | Caro       |\n",
    "| Acima de 170 reais    | Muito Caro |\n",
    "\n",
    "9) Desafio 1 - Faça um programa que leia 3 números e informe o maior deles."
   ]
  },
  {
   "cell_type": "code",
   "execution_count": 3,
   "metadata": {},
   "outputs": [
    {
     "name": "stdout",
     "output_type": "stream",
     "text": [
      "Maior de 18 anos\n"
     ]
    }
   ],
   "source": [
    "# 1 Faça um programa que peça a idade do usuário e imprima se ele é maior ou menor de 18 anos.\n",
    "\n",
    "idade = int(input('Digite a sua idade :'))\n",
    "maioridade = 18\n",
    "\n",
    "if idade >= maioridade:\n",
    "    print(\"Maior de 18 anos\")\n",
    "else:\n",
    "    print(\"Menor de 18 anos\")\n",
    "\n",
    "João Manetti"
   ]
  },
  {
   "cell_type": "code",
   "execution_count": 6,
   "metadata": {},
   "outputs": [
    {
     "name": "stdout",
     "output_type": "stream",
     "text": [
      "Número nulo\n"
     ]
    }
   ],
   "source": [
    "# 2 Faça um programa que peça um número e mostre se ele é positivo ou negativo. Alternativa: acrescentar nulo\n",
    "# ex2\n",
    "\n",
    "num = float(input('Digite um número :'))\n",
    "\n",
    "if num > 0:\n",
    "    print(\"Número positivo\")\n",
    "elif num < 0:\n",
    "    print(\"Número negativo\")\n",
    "else:\n",
    "    print(\"Número nulo\")\n",
    "\n",
    "João Manetti\n"
   ]
  },
  {
   "cell_type": "code",
   "execution_count": 9,
   "metadata": {},
   "outputs": [
    {
     "name": "stdout",
     "output_type": "stream",
     "text": [
      "O número 2.0 é maior que 1.0\n"
     ]
    }
   ],
   "source": [
    "# Faça um programa que peça dois números e mostre o maior deles.\n",
    "\n",
    "#EX 3 - João Manetti\n",
    "num1 = float(input('Digite um número :'))\n",
    "num2 = float(input('Digite um número :'))\n",
    "\n",
    "if num1 > num2:\n",
    "    print(f'{num1}')\n",
    "elif num1 < num2:\n",
    "    print(f'{num2}')\n",
    "else:\n",
    "    print(f'O número {num1} é igual a {num2}')"
   ]
  },
  {
   "cell_type": "code",
   "execution_count": null,
   "metadata": {},
   "outputs": [],
   "source": [
    "''' 4  Faça um programa que leia a validade das informações:\n",
    "\n",
    "a. Idade: entre 0 e 150;\n",
    "\n",
    "b. Salário: maior que 0;\n",
    "\n",
    "c. Sexo: M, F ou Outro;\n",
    "\n",
    "O programa deve imprimir uma mensagem de erro para cada informação inválida.\n",
    "'''\n",
    "# EX 4\n",
    "idade = int(input('Digite a sua idade: '))\n",
    "if idade is > 0 or <= 150:\n",
    "else:\n",
    "    print('Valor inválido')\n",
    "\n",
    "salario = float(input('Digite o seu salário: '))\n",
    "if salario is > 0:\n",
    "else:\n",
    "    print('Valor inválido')\n",
    "\n",
    "sexo = input('Digite o seu sexo (M, F ou Outro): ')\n",
    "if sexo == \"M\":\n",
    "    print('Sexo masculino')\n",
    "elif sexo == \"F\":\n",
    "    print('Sexo feminino')\n",
    "elif sexo == \"Outro\":\n",
    "    print('Sexo Outro')\n",
    "else:\n",
    "    print('valor inválido')\n",
    "\n"
   ]
  },
  {
   "cell_type": "code",
   "execution_count": 13,
   "metadata": {},
   "outputs": [
    {
     "name": "stdout",
     "output_type": "stream",
     "text": [
      "Você foi aprovado\n"
     ]
    }
   ],
   "source": [
    "# 5 Escreva um programa que peça a nota de 3 provas de um aluno e verifique se ele passou ou não de ano.\n",
    "#Obs.: O aluno irá passar de ano se sua média for maior que 6.\n",
    "\n",
    "# EX 5\n",
    "n1 = float(input('Digite a primeira nota: '))\n",
    "n2 = float(input('Digite a segunda nota: '))\n",
    "n3 = float(input('Digite a terceira nota: '))\n",
    "\n",
    "media_notas = (n1+n2+n3)/3\n",
    "media = 6\n",
    "\n",
    "if media_notas >= media:\n",
    "    print('Você foi aprovado')\n",
    "elif media_notas < media:\n",
    "    print('Você foi reprovado')\n",
    "else:\n",
    "    print('Valor inserido incorreto')"
   ]
  },
  {
   "cell_type": "code",
   "execution_count": null,
   "metadata": {},
   "outputs": [],
   "source": []
  }
 ],
 "metadata": {
  "kernelspec": {
   "display_name": "Python 3",
   "language": "python",
   "name": "python3"
  },
  "language_info": {
   "codemirror_mode": {
    "name": "ipython",
    "version": 3
   },
   "file_extension": ".py",
   "mimetype": "text/x-python",
   "name": "python",
   "nbconvert_exporter": "python",
   "pygments_lexer": "ipython3",
   "version": "3.11.1"
  },
  "orig_nbformat": 4
 },
 "nbformat": 4,
 "nbformat_minor": 2
}
