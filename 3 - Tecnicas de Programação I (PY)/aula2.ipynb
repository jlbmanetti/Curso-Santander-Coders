{
 "cells": [
  {
   "cell_type": "markdown",
   "metadata": {},
   "source": [
    "### Anotações de aula - aula 2"
   ]
  },
  {
   "cell_type": "code",
   "execution_count": 1,
   "metadata": {},
   "outputs": [],
   "source": [
    "# começando a partir do meio da aula 2. aula 1 foi introdução ao numpy\n",
    "import numpy as np"
   ]
  },
  {
   "cell_type": "code",
   "execution_count": 2,
   "metadata": {},
   "outputs": [
    {
     "name": "stdout",
     "output_type": "stream",
     "text": [
      "[[ 0  1  2  3  4  5]\n",
      " [ 6  7  8  9 10 11]\n",
      " [12 13 14 15 16 17]]\n"
     ]
    }
   ],
   "source": [
    "x = np.arange(18).reshape(3,6) #vetor range de 0 a 17 reshaped para uma matriz 3x6\n",
    "print(x)"
   ]
  },
  {
   "cell_type": "code",
   "execution_count": 3,
   "metadata": {},
   "outputs": [
    {
     "name": "stdout",
     "output_type": "stream",
     "text": [
      "[[False False False False False False]\n",
      " [False False  True  True  True  True]\n",
      " [ True  True  True  True  True  True]]\n"
     ]
    }
   ],
   "source": [
    "#máscara booleana\n",
    "mask = (x > 7) #retorna true e false para as comparações\n",
    "print(mask)"
   ]
  },
  {
   "cell_type": "code",
   "execution_count": 4,
   "metadata": {},
   "outputs": [
    {
     "name": "stdout",
     "output_type": "stream",
     "text": [
      "[ 8  9 10 11 12 13 14 15 16 17]\n"
     ]
    }
   ],
   "source": [
    "#somente os valures que passaram na máscara\n",
    "print(x[mask])"
   ]
  },
  {
   "cell_type": "code",
   "execution_count": 5,
   "metadata": {},
   "outputs": [
    {
     "name": "stdout",
     "output_type": "stream",
     "text": [
      "[[0 1 2 3 4 5]\n",
      " [6 7 0 0 0 0]\n",
      " [0 0 0 0 0 0]]\n"
     ]
    }
   ],
   "source": [
    "#modificando valores que passaram na mascara\n",
    "x[mask]=0\n",
    "print(x)"
   ]
  },
  {
   "cell_type": "code",
   "execution_count": 6,
   "metadata": {},
   "outputs": [
    {
     "data": {
      "text/plain": [
       "array([[0, 1, 2, 3, 4, 5],\n",
       "       [6, 7, 0, 0, 0, 0],\n",
       "       [0, 0, 0, 0, 0, 0]])"
      ]
     },
     "execution_count": 6,
     "metadata": {},
     "output_type": "execute_result"
    }
   ],
   "source": [
    "x"
   ]
  },
  {
   "cell_type": "code",
   "execution_count": 15,
   "metadata": {},
   "outputs": [
    {
     "name": "stdout",
     "output_type": "stream",
     "text": [
      "[[5 7 8 2 4 1]\n",
      " [5 9 2 3 4 7]\n",
      " [1 9 4 7 4 4]]\n"
     ]
    }
   ],
   "source": [
    "x = np.random.randint(0,10,18).reshape(3,6) #entre 0 e 10 18 n rand\n",
    "print(x)"
   ]
  },
  {
   "cell_type": "code",
   "execution_count": 16,
   "metadata": {},
   "outputs": [
    {
     "name": "stdout",
     "output_type": "stream",
     "text": [
      "[[5 9 2]\n",
      " [1 9 4]]\n"
     ]
    }
   ],
   "source": [
    "y = np.copy(x[1:,:3]) #forma de fazer slice no x sem continuar apontando para o msm obj\n",
    "print(y)"
   ]
  },
  {
   "cell_type": "code",
   "execution_count": 17,
   "metadata": {},
   "outputs": [
    {
     "name": "stdout",
     "output_type": "stream",
     "text": [
      "[[5 7 8 2 4 1]\n",
      " [5 9 2 3 4 7]\n",
      " [1 9 4 7 4 4]]\n"
     ]
    }
   ],
   "source": [
    "y[1,1] = -1\n",
    "print(x) #não alterou o objeto inicial, pois utilizou-se o copy"
   ]
  },
  {
   "cell_type": "code",
   "execution_count": 18,
   "metadata": {},
   "outputs": [
    {
     "name": "stdout",
     "output_type": "stream",
     "text": [
      "<memory at 0x0000021164843920>\n",
      "<memory at 0x0000021164843920>\n",
      "<memory at 0x0000021164843920>\n"
     ]
    }
   ],
   "source": [
    "z = x[1:,:3] #sem utilizar o copy\n",
    "print(x.data)\n",
    "print(y.data)\n",
    "print(z.data)"
   ]
  },
  {
   "cell_type": "markdown",
   "metadata": {},
   "source": [
    "### Exercícios"
   ]
  },
  {
   "cell_type": "markdown",
   "metadata": {},
   "source": [
    "### Exercício 1\n",
    "Construa um array unidimensional com 30 números inteiros escolhidos de forma randômica no intervalo entre 0 e 20. Reformate o array para que se torne uma matriz `A` com 5 linhas e 6 colunas."
   ]
  },
  {
   "cell_type": "code",
   "execution_count": 21,
   "metadata": {},
   "outputs": [
    {
     "name": "stdout",
     "output_type": "stream",
     "text": [
      "[[14 16  8  9  3 11]\n",
      " [14 12  3  3  2 16]\n",
      " [ 9 16  3 16 10 15]\n",
      " [ 4 10  2  7  9  8]\n",
      " [ 9 19  3 16 15 18]]\n"
     ]
    }
   ],
   "source": [
    "#1\n",
    "x = np.random.randint(0,20,30)\n",
    "A = x.reshape(5,6)\n",
    "print(A)"
   ]
  },
  {
   "cell_type": "markdown",
   "metadata": {},
   "source": [
    "### Exercício 2\n",
    "Crie uma __view__ da matriz `A` gerada na célula anterior contendo:\n",
    "- as linhas de `A` com índices 0,1 e 3\n",
    "- as linhas de `A` com índice 1 e 2 e as colunas com índice 0,2 e 4\n",
    "- as linhas de `A` com índice 1 e 3 e as colunas com índice 1 e 3"
   ]
  },
  {
   "cell_type": "code",
   "execution_count": 24,
   "metadata": {},
   "outputs": [
    {
     "name": "stdout",
     "output_type": "stream",
     "text": [
      "[[14 16  8  9  3 11]\n",
      " [14 12  3  3  2 16]\n",
      " [ 4 10  2  7  9  8]]\n",
      "[[14  3  2]\n",
      " [ 9  3 10]]\n",
      "[12  7]\n"
     ]
    }
   ],
   "source": [
    "#2\n",
    "view1 = A[[0,1,3],]\n",
    "view2 = A[1:3,[0,2,4]]\n",
    "view3 = A[[1,3],[1,3]]\n",
    "print(view1)\n",
    "print(view2)\n",
    "print(view3)"
   ]
  },
  {
   "cell_type": "markdown",
   "metadata": {},
   "source": [
    "### Exercício 3\n",
    "Construa um array `A` bidimensional 5x6 com 30 números inteiros escolhidos de forma randômica no intervalo entre 0 e 20. \n",
    "- faça uma cópia do array `A` criado, chamando a cópia de `Ac`\n",
    "- Substitua todos os elementos do array `A` que sejam maiores que 10 pelo valor -1 \n",
    "- Substitua todos os elementos do array `Ac` que sejam maiores que 7 e menores que 15 pelo valor -1 \n",
    "\n",
    "__Dica:__ Gere máscaras booleanas para realizar as modificações nos arrays."
   ]
  },
  {
   "cell_type": "code",
   "execution_count": 29,
   "metadata": {},
   "outputs": [
    {
     "name": "stdout",
     "output_type": "stream",
     "text": [
      "[[-1  0 -1  4 10 -1]\n",
      " [ 3 -1  6  9 -1 -1]\n",
      " [ 2  6  6  0  0 10]\n",
      " [-1 -1 -1 -1  9  3]\n",
      " [ 3  7  2  1  7 10]]\n",
      "[[17  0 -1  4 -1 -1]\n",
      " [ 3 -1  6 -1 16 19]\n",
      " [ 2  6  6  0  0 -1]\n",
      " [-1 19 -1 19 -1  3]\n",
      " [ 3  7  2  1  7 -1]]\n"
     ]
    }
   ],
   "source": [
    "#3\n",
    "A = np.random.randint(0,20,30).reshape(5,6)\n",
    "Ac = np.copy(A)\n",
    "\n",
    "mask = (A > 10)\n",
    "mask2 = ((Ac > 7) & (Ac < 15)) # & and, | or\n",
    "\n",
    "A[mask] = -1\n",
    "Ac[mask2] = -1\n",
    "\n",
    "print(A)\n",
    "print(Ac)"
   ]
  },
  {
   "cell_type": "markdown",
   "metadata": {},
   "source": [
    "### Exercício 4\n",
    "Construa um array `A` com 20 linhas e 10 colunas onde os elementos são os números interios de  1 até 200.\n",
    "- Crie uma __view__ de `A` chamada `A_lpares` contendo apenas as linhas de `A` com índice par. \n",
    "- Crie uma __view__ de `A` chamada `A_lpares_cimpares` contendo as linhas `A` com índice par e colunas com índice ímpar. "
   ]
  },
  {
   "cell_type": "code",
   "execution_count": null,
   "metadata": {},
   "outputs": [],
   "source": [
    "#4\n",
    "A = np.arange(1,201,1).reshape(20,10)\n",
    "\n",
    "l_odd = []\n",
    "c_even = []\n",
    "\n",
    "for i,a in enumerate(A):\n",
    "    for j,b in enumerate(a):\n",
    "        if j % 2 != 0 and i == 0:\n",
    "            c_even.append(j)\n",
    "    if i % 2 == 0:\n",
    "        l_odd.append(i)\n",
    "\n",
    "print(l_odd)\n",
    "print(c_even)\n",
    "\n",
    "A_lpares = A[l_odd,]\n",
    "A_lpares_cimpares = A[l_odd,:][:,c_even]\n",
    "\n",
    "print(A_lpares)\n",
    "print(A_lpares_cimpares)\n",
    "\n",
    "#rows, col = np.indices(a.shape)\n",
    "#mask_lapares = (rows % 2 == 0) | (col % 2 == 0)"
   ]
  },
  {
   "cell_type": "markdown",
   "metadata": {},
   "source": [
    "### Exercício 5\n",
    "Substitua os elememtos do array `A` do exercício anterior por -1 quando pelo menos um dos índices do elemento é par. \n",
    "\n",
    "__Dica:__ Construa uma máscara booleana"
   ]
  },
  {
   "cell_type": "code",
   "execution_count": 57,
   "metadata": {},
   "outputs": [
    {
     "name": "stdout",
     "output_type": "stream",
     "text": [
      "[[  1   3   5   7   9]\n",
      " [ 21  23  25  27  29]\n",
      " [ 41  43  45  47  49]\n",
      " [ 61  63  65  67  69]\n",
      " [ 81  83  85  87  89]\n",
      " [101 103 105 107 109]\n",
      " [121 123 125 127 129]\n",
      " [141 143 145 147 149]\n",
      " [161 163 165 167 169]\n",
      " [181 183 185 187 189]]\n"
     ]
    }
   ],
   "source": [
    "#5\n",
    "A = np.arange(1,201,1).reshape(20,10)\n",
    "\n",
    "#boolean mask for rows and columns\n",
    "A_lodd = (np.arange(A.shape[0]) % 2 == 0)\n",
    "A_codd = (np.arange(A.shape[1]) % 2 == 0)\n",
    "\n",
    "#boolean mask for the matrix\n",
    "A_lcodd = np.ix_(A_lodd,A_codd)\n",
    "\n",
    "print(A[A_lcodd])"
   ]
  },
  {
   "cell_type": "markdown",
   "metadata": {},
   "source": [
    "### Exercício 6\n",
    "Considere o array `X` de números tipo float gerado a partir de uma distribuição uniforme no intervalo entre 0 e 1. Escreva um código para encontrar os três menores valores do array.\n",
    "\n",
    "__Dica:__ Converta o array em uma lista e ordene."
   ]
  },
  {
   "cell_type": "code",
   "execution_count": 70,
   "metadata": {},
   "outputs": [
    {
     "name": "stdout",
     "output_type": "stream",
     "text": [
      "[0.05010947 0.16158965 0.27099475 0.3742663  0.40465801 0.61818183\n",
      " 0.62903116 0.69263381 0.72467902 0.9668606 ]\n",
      "[0.05010947 0.16158965 0.27099475]\n"
     ]
    }
   ],
   "source": [
    "#6\n",
    "X = np.random.uniform(0.0,1.0,10) #distribuição uniforme entre 0 e 1 randômica\n",
    "X_sorted = np.sort(X)\n",
    "print(X_sorted)\n",
    "print(X_sorted[:3])"
   ]
  },
  {
   "cell_type": "markdown",
   "metadata": {},
   "source": [
    "### Exercício 7\n",
    "Escreva uma função chamada `troca_colunas` que recebe um array e o índice de duas colunas como parâmetros e retorna o array com as colunas trocadas. Por exemplo:\n",
    "```python\n",
    "X = np.array([[0, 1, 2, 3, 4, 5], \n",
    "              [0, 1, 2, 3, 4, 5], \n",
    "              [0, 1, 2, 3, 4, 5]])\n",
    "\n",
    "X = troca_colunas(X,1,3)\n",
    "print(X)\n",
    "```\n",
    "deve resultar em\n",
    "```python\n",
    "[[0 3 2 1 4 5]\n",
    " [0 3 2 1 4 5]\n",
    " [0 3 2 1 4 5]]\n",
    "```\n"
   ]
  },
  {
   "cell_type": "code",
   "execution_count": 86,
   "metadata": {},
   "outputs": [
    {
     "name": "stdout",
     "output_type": "stream",
     "text": [
      "[[0. 4. 2. 3. 1. 5.]\n",
      " [0. 4. 2. 3. 1. 5.]\n",
      " [0. 4. 2. 3. 1. 5.]]\n"
     ]
    }
   ],
   "source": [
    "#7\n",
    "X = np.array([[0, 1, 2, 3, 4, 5], \n",
    "              [0, 1, 2, 3, 4, 5], \n",
    "              [0, 1, 2, 3, 4, 5]])\n",
    "\n",
    "def troca_colunas(X,i:int,j:int):\n",
    "    r_shape_zeros = np.zeros(X.shape[0])\n",
    "    c_size = X.shape[1]\n",
    "    X = np.hstack((X,r_shape_zeros.reshape(-1,1))) #reshape calculating -1 term and seting 1 column\n",
    "\n",
    "    column1 = X[:,i:i+1]\n",
    "    column2 = X[:,j:j+1]\n",
    "\n",
    "    X_temp = np.copy(X)\n",
    "    X_temp[:,i:i+1] = column2\n",
    "    X_temp[:,j:j+1] = column1\n",
    "\n",
    "    X = X_temp[:,:c_size]\n",
    "\n",
    "    return X\n",
    "\n",
    "result = troca_colunas(X,1,4)\n",
    "print(result)"
   ]
  },
  {
   "cell_type": "markdown",
   "metadata": {},
   "source": [
    "### Exercício 8\n",
    "Escreva um código para, data uma matriz, zerar todos os elementos abaixo da diagonal principal da matriz. Por exemplo:\n",
    "```python\n",
    "[[2 8 3 4 8]\n",
    " [4 8 7 7 3]\n",
    " [8 2 3 1 4]\n",
    " [8 6 3 8 1]\n",
    " [6 4 4 6 1]]\n",
    "```\n",
    "deve resultar em\n",
    "```python\n",
    "[[2 8 3 4 8]\n",
    " [0 8 7 7 3]\n",
    " [0 0 3 1 4]\n",
    " [0 0 0 8 1]\n",
    " [0 0 0 0 1]]\n",
    "```"
   ]
  },
  {
   "cell_type": "code",
   "execution_count": 96,
   "metadata": {},
   "outputs": [
    {
     "name": "stdout",
     "output_type": "stream",
     "text": [
      "[[2. 8. 3. 4. 8.]\n",
      " [0. 8. 7. 7. 3.]\n",
      " [0. 0. 3. 1. 4.]\n",
      " [0. 0. 0. 8. 1.]\n",
      " [0. 0. 0. 0. 1.]]\n"
     ]
    }
   ],
   "source": [
    "#8\n",
    "A =  np.array([[2, 8, 3, 4, 8],\n",
    "               [4, 8, 7, 7, 3],\n",
    "               [8, 2, 3, 1, 4],\n",
    "               [8, 6, 3, 8, 1],\n",
    "               [6, 4, 4, 6, 1]])\n",
    "\n",
    "if A.shape[0] == A.shape[1]:\n",
    "    I = np.identity(A.shape[0])\n",
    "\n",
    "for i,a in enumerate(I):\n",
    "    for j,b in enumerate(a):\n",
    "        if j >= i:\n",
    "          I[i,j] = 1\n",
    "        else:\n",
    "          I[i,j] = 0\n",
    "\n",
    "#print(I)\n",
    "print(np.multiply(A,I))\n"
   ]
  }
 ],
 "metadata": {
  "kernelspec": {
   "display_name": "Python 3",
   "language": "python",
   "name": "python3"
  },
  "language_info": {
   "codemirror_mode": {
    "name": "ipython",
    "version": 3
   },
   "file_extension": ".py",
   "mimetype": "text/x-python",
   "name": "python",
   "nbconvert_exporter": "python",
   "pygments_lexer": "ipython3",
   "version": "3.11.1"
  },
  "orig_nbformat": 4
 },
 "nbformat": 4,
 "nbformat_minor": 2
}
