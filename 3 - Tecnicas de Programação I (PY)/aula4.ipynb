{
 "cells": [
  {
   "cell_type": "code",
   "execution_count": 1,
   "metadata": {},
   "outputs": [],
   "source": [
    "import pandas as pd\n",
    "import numpy as np"
   ]
  },
  {
   "cell_type": "code",
   "execution_count": 3,
   "metadata": {},
   "outputs": [
    {
     "name": "stdout",
     "output_type": "stream",
     "text": [
      "0    0\n",
      "1    1\n",
      "3    2\n",
      "dtype: int32\n"
     ]
    }
   ],
   "source": [
    "indice = [0,1,3]\n",
    "valores = np.arange(3)\n",
    "\n",
    "serie = pd.Series(valores, index=indice) #cria uma serie (pd) com valores e indices definidos\n",
    "\n",
    "print(serie)"
   ]
  },
  {
   "cell_type": "code",
   "execution_count": 4,
   "metadata": {},
   "outputs": [
    {
     "name": "stdout",
     "output_type": "stream",
     "text": [
      "4    NaN\n",
      "3    2.0\n",
      "2    NaN\n",
      "1    1.0\n",
      "0    0.0\n",
      "dtype: float64\n"
     ]
    }
   ],
   "source": [
    "serie_reindex = serie.reindex([4,3,2,1,0])\n",
    "print(serie_reindex)"
   ]
  },
  {
   "cell_type": "code",
   "execution_count": 8,
   "metadata": {},
   "outputs": [
    {
     "name": "stdout",
     "output_type": "stream",
     "text": [
      "4     True\n",
      "3    False\n",
      "2     True\n",
      "1    False\n",
      "0    False\n",
      "dtype: bool\n",
      "4   -1.0\n",
      "3    2.0\n",
      "2   -1.0\n",
      "1    1.0\n",
      "0    0.0\n",
      "dtype: float64\n"
     ]
    }
   ],
   "source": [
    "series_mask_NaN = pd.isna(serie_reindex) #nan not a number\n",
    "print(series_mask_NaN)\n",
    "serie_reindex[series_mask_NaN] = -1\n",
    "print(serie_reindex)"
   ]
  },
  {
   "cell_type": "code",
   "execution_count": 10,
   "metadata": {},
   "outputs": [
    {
     "name": "stdout",
     "output_type": "stream",
     "text": [
      "4   -1\n",
      "3    2\n",
      "2   -1\n",
      "1    1\n",
      "0    0\n",
      "dtype: int32\n"
     ]
    }
   ],
   "source": [
    "indice = [0,1,3]\n",
    "valores = np.arange(3)\n",
    "\n",
    "serie = pd.Series(valores, index=indice)\n",
    "serie_reindex = serie.reindex([4,3,2,1,0], fill_value=-1) #re index com substituição de NaN\n",
    "\n",
    "print(serie_reindex)"
   ]
  },
  {
   "cell_type": "code",
   "execution_count": 19,
   "metadata": {},
   "outputs": [
    {
     "name": "stdout",
     "output_type": "stream",
     "text": [
      "id3    3\n",
      "id8    8\n",
      "id0    0\n",
      "id4    4\n",
      "id5    5\n",
      "dtype: int64\n"
     ]
    }
   ],
   "source": [
    "values_s1 = [3,8,0,4,5]\n",
    "index_s1 = ['id' + str(i) for i in values_s1]\n",
    "\n",
    "s1 = pd.Series(values_s1, index=index_s1)\n",
    "\n",
    "print(s1)"
   ]
  },
  {
   "cell_type": "code",
   "execution_count": 18,
   "metadata": {},
   "outputs": [
    {
     "name": "stdout",
     "output_type": "stream",
     "text": [
      "id3    3\n",
      "id9    9\n",
      "id8    8\n",
      "id5    5\n",
      "dtype: int64\n"
     ]
    }
   ],
   "source": [
    "values_s2 = [3,9,8,5]\n",
    "index_s2 = ['id' + str(i) for i in values_s2]\n",
    "\n",
    "s2 = pd.Series(values_s2, index = index_s2)\n",
    "print(s2)"
   ]
  },
  {
   "cell_type": "code",
   "execution_count": 20,
   "metadata": {},
   "outputs": [
    {
     "name": "stdout",
     "output_type": "stream",
     "text": [
      "id0     NaN\n",
      "id3     6.0\n",
      "id4     NaN\n",
      "id5    10.0\n",
      "id8    16.0\n",
      "id9     NaN\n",
      "dtype: float64\n"
     ]
    }
   ],
   "source": [
    "print(s1+s2)"
   ]
  },
  {
   "cell_type": "code",
   "execution_count": 24,
   "metadata": {},
   "outputs": [
    {
     "name": "stdout",
     "output_type": "stream",
     "text": [
      "d    1\n",
      "a    0\n",
      "b    1\n",
      "c    5\n",
      "dtype: int32\n",
      "a    0\n",
      "d    1\n",
      "b    1\n",
      "c    5\n",
      "dtype: int32\n",
      "d    1\n",
      "a    0\n",
      "b    1\n",
      "c    5\n",
      "dtype: int32\n"
     ]
    }
   ],
   "source": [
    "r = pd.Series(np.random.randint(0,10,4), index = ['d', 'a', 'b', 'c'])\n",
    "print(r)\n",
    "\n",
    "print(r.sort_index()) #ordena pelos rotulos\n",
    "#print(r.sort_values()) #ordedna pelos valores\n",
    "print(r)"
   ]
  },
  {
   "cell_type": "code",
   "execution_count": null,
   "metadata": {},
   "outputs": [],
   "source": [
    "s = pd.Series(np.arange(7), index='abcdabc') #<----- aqui está com erro\n",
    "print(s)\n",
    "\n",
    "s.unique #valores unicos\n",
    "s.value_counts #count\n",
    "s.isin(['b','d'])"
   ]
  },
  {
   "cell_type": "code",
   "execution_count": 27,
   "metadata": {},
   "outputs": [
    {
     "name": "stdout",
     "output_type": "stream",
     "text": [
      "  state  year   pop\n",
      "0    FL  2010  17.2\n",
      "1    FL  2011  11.4\n",
      "2    GA  2010  12.6\n",
      "3    GA  2011  12.4\n",
      "4    GA  2013  12.6\n",
      "5    FL  2009   6.5\n",
      "6    FL  2014  12.2\n"
     ]
    }
   ],
   "source": [
    "# dataframes\n",
    "d = {'state': ['FL', 'FL', 'GA', 'GA', 'GA', 'FL', 'FL'],\n",
    "     'year': [2010,2011,2010,2011,2013,2009,2014],\n",
    "     'pop': [17.2,11.4,12.6,12.4,12.6,6.5,12.2]}\n",
    "\n",
    "df_d = pd.DataFrame(d)\n",
    "print(df_d)"
   ]
  },
  {
   "cell_type": "code",
   "execution_count": 31,
   "metadata": {},
   "outputs": [
    {
     "data": {
      "text/html": [
       "<div>\n",
       "<style scoped>\n",
       "    .dataframe tbody tr th:only-of-type {\n",
       "        vertical-align: middle;\n",
       "    }\n",
       "\n",
       "    .dataframe tbody tr th {\n",
       "        vertical-align: top;\n",
       "    }\n",
       "\n",
       "    .dataframe thead th {\n",
       "        text-align: right;\n",
       "    }\n",
       "</style>\n",
       "<table border=\"1\" class=\"dataframe\">\n",
       "  <thead>\n",
       "    <tr style=\"text-align: right;\">\n",
       "      <th></th>\n",
       "      <th>state</th>\n",
       "      <th>year</th>\n",
       "      <th>pop</th>\n",
       "    </tr>\n",
       "  </thead>\n",
       "  <tbody>\n",
       "    <tr>\n",
       "      <th>0</th>\n",
       "      <td>FL</td>\n",
       "      <td>2010</td>\n",
       "      <td>17.2</td>\n",
       "    </tr>\n",
       "    <tr>\n",
       "      <th>1</th>\n",
       "      <td>FL</td>\n",
       "      <td>2011</td>\n",
       "      <td>11.4</td>\n",
       "    </tr>\n",
       "    <tr>\n",
       "      <th>2</th>\n",
       "      <td>GA</td>\n",
       "      <td>2010</td>\n",
       "      <td>12.6</td>\n",
       "    </tr>\n",
       "    <tr>\n",
       "      <th>3</th>\n",
       "      <td>GA</td>\n",
       "      <td>2011</td>\n",
       "      <td>12.4</td>\n",
       "    </tr>\n",
       "    <tr>\n",
       "      <th>4</th>\n",
       "      <td>GA</td>\n",
       "      <td>2013</td>\n",
       "      <td>12.6</td>\n",
       "    </tr>\n",
       "  </tbody>\n",
       "</table>\n",
       "</div>"
      ],
      "text/plain": [
       "  state  year   pop\n",
       "0    FL  2010  17.2\n",
       "1    FL  2011  11.4\n",
       "2    GA  2010  12.6\n",
       "3    GA  2011  12.4\n",
       "4    GA  2013  12.6"
      ]
     },
     "execution_count": 31,
     "metadata": {},
     "output_type": "execute_result"
    }
   ],
   "source": [
    "df_d.head() # mostra as primeiras 5 linhas do dataframe"
   ]
  },
  {
   "cell_type": "code",
   "execution_count": 32,
   "metadata": {},
   "outputs": [
    {
     "data": {
      "text/plain": [
       "state     object\n",
       "year       int64\n",
       "pop      float64\n",
       "dtype: object"
      ]
     },
     "execution_count": 32,
     "metadata": {},
     "output_type": "execute_result"
    }
   ],
   "source": [
    "df_d.dtypes"
   ]
  },
  {
   "cell_type": "code",
   "execution_count": 33,
   "metadata": {},
   "outputs": [
    {
     "name": "stdout",
     "output_type": "stream",
     "text": [
      "        FL    CA\n",
      "2010  15.4  13.6\n",
      "2011  45.3  34.9\n"
     ]
    }
   ],
   "source": [
    "dod = {'FL': {2010:15.4, 2011:45.3},\n",
    "       'CA': {2010:13.6, 2011:34.9}}\n",
    "\n",
    "df_dod = pd.DataFrame(dod)\n",
    "print(df_dod)"
   ]
  },
  {
   "cell_type": "code",
   "execution_count": null,
   "metadata": {},
   "outputs": [],
   "source": []
  }
 ],
 "metadata": {
  "kernelspec": {
   "display_name": "Python 3",
   "language": "python",
   "name": "python3"
  },
  "language_info": {
   "codemirror_mode": {
    "name": "ipython",
    "version": 3
   },
   "file_extension": ".py",
   "mimetype": "text/x-python",
   "name": "python",
   "nbconvert_exporter": "python",
   "pygments_lexer": "ipython3",
   "version": "3.11.1"
  },
  "orig_nbformat": 4
 },
 "nbformat": 4,
 "nbformat_minor": 2
}
