{
 "cells": [
  {
   "cell_type": "code",
   "execution_count": 1,
   "metadata": {},
   "outputs": [],
   "source": [
    "import pandas as pd"
   ]
  },
  {
   "cell_type": "code",
   "execution_count": 2,
   "metadata": {},
   "outputs": [
    {
     "name": "stdout",
     "output_type": "stream",
     "text": [
      "Writing missing.csv\n"
     ]
    }
   ],
   "source": [
    "%%writefile missing.csv\n",
    "Colorado,,,,\n",
    "Ohio,3,5,6,9\n",
    "Oregon,,,,\n",
    "Texas,9,12,,\n",
    "Utah,,,,"
   ]
  },
  {
   "cell_type": "code",
   "execution_count": 3,
   "metadata": {},
   "outputs": [],
   "source": [
    "df = pd.read_csv('missing.csv', header=None)"
   ]
  },
  {
   "cell_type": "code",
   "execution_count": 4,
   "metadata": {},
   "outputs": [
    {
     "name": "stdout",
     "output_type": "stream",
     "text": [
      "          0    1     2    3    4\n",
      "0  Colorado  NaN   NaN  NaN  NaN\n",
      "1      Ohio  3.0   5.0  6.0  9.0\n",
      "2    Oregon  NaN   NaN  NaN  NaN\n",
      "3     Texas  9.0  12.0  NaN  NaN\n",
      "4      Utah  NaN   NaN  NaN  NaN\n"
     ]
    }
   ],
   "source": [
    "print(df)"
   ]
  },
  {
   "cell_type": "code",
   "execution_count": 5,
   "metadata": {},
   "outputs": [
    {
     "name": "stdout",
     "output_type": "stream",
     "text": [
      "       0      1      2      3      4\n",
      "0  False   True   True   True   True\n",
      "1  False  False  False  False  False\n",
      "2  False   True   True   True   True\n",
      "3  False  False  False   True   True\n",
      "4  False   True   True   True   True\n"
     ]
    }
   ],
   "source": [
    "#ISNULL\n",
    "print(df.isnull())"
   ]
  },
  {
   "cell_type": "code",
   "execution_count": 6,
   "metadata": {},
   "outputs": [
    {
     "name": "stdout",
     "output_type": "stream",
     "text": [
      "      0    1    2    3    4\n",
      "1  Ohio  3.0  5.0  6.0  9.0\n"
     ]
    }
   ],
   "source": [
    "#DROPNA\n",
    "print(df.dropna())"
   ]
  },
  {
   "cell_type": "code",
   "execution_count": 15,
   "metadata": {},
   "outputs": [
    {
     "name": "stdout",
     "output_type": "stream",
     "text": [
      "       0    1     2    3    4\n",
      "1   Ohio  3.0   5.0  6.0  9.0\n",
      "3  Texas  9.0  12.0  NaN  NaN\n"
     ]
    }
   ],
   "source": [
    "#print(df.dropna(how='all'))\n",
    "#print(df.dropna(how='any', axis=1))\n",
    "print(df.dropna(thresh=2)) # defini o mínimo de NAN para dropar\n"
   ]
  },
  {
   "cell_type": "code",
   "execution_count": null,
   "metadata": {},
   "outputs": [],
   "source": [
    "# df.reset_index(drop='True')"
   ]
  },
  {
   "cell_type": "code",
   "execution_count": null,
   "metadata": {},
   "outputs": [],
   "source": []
  }
 ],
 "metadata": {
  "kernelspec": {
   "display_name": "Python 3",
   "language": "python",
   "name": "python3"
  },
  "language_info": {
   "codemirror_mode": {
    "name": "ipython",
    "version": 3
   },
   "file_extension": ".py",
   "mimetype": "text/x-python",
   "name": "python",
   "nbconvert_exporter": "python",
   "pygments_lexer": "ipython3",
   "version": "3.11.1"
  },
  "orig_nbformat": 4
 },
 "nbformat": 4,
 "nbformat_minor": 2
}
