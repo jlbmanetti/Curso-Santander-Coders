{
 "cells": [
  {
   "cell_type": "markdown",
   "metadata": {},
   "source": [
    "### Anotações de aula - aula 3"
   ]
  },
  {
   "cell_type": "code",
   "execution_count": 1,
   "metadata": {},
   "outputs": [],
   "source": [
    "import numpy as np"
   ]
  },
  {
   "cell_type": "code",
   "execution_count": null,
   "metadata": {},
   "outputs": [],
   "source": [
    "np.array_equal(A,B) #retorna True or False\n",
    "\n",
    "# (A == b) compara elemento a elemento e cria uma máscara booleana"
   ]
  },
  {
   "cell_type": "code",
   "execution_count": 7,
   "metadata": {},
   "outputs": [
    {
     "name": "stdout",
     "output_type": "stream",
     "text": [
      "[[0. 1. 2. 3. 4.]\n",
      " [0. 1. 2. 3. 4.]\n",
      " [0. 1. 2. 3. 4.]\n",
      " [0. 1. 2. 3. 4.]\n",
      " [0. 1. 2. 3. 4.]]\n",
      "soma de todos os valores:  50.0\n",
      "soma valores das colunas:  [ 0.  5. 10. 15. 20.]\n",
      "soma valores das linhas:  [10. 10. 10. 10. 10.]\n"
     ]
    }
   ],
   "source": [
    "A = np.zeros((5,5))\n",
    "A[:] = np.arange(5)\n",
    "\n",
    "print(A)\n",
    "\n",
    "print('soma de todos os valores: ', np.sum(A))\n",
    "print('soma valores das colunas: ', np.sum(A, axis=0)) #axis 0 - colunas\n",
    "print('soma valores das linhas: ', np.sum(A, axis=1)) #axis 1 - linhas"
   ]
  },
  {
   "cell_type": "code",
   "execution_count": 11,
   "metadata": {},
   "outputs": [
    {
     "data": {
      "text/plain": [
       "array([[24, 21, 24, 23,  9],\n",
       "       [13, 11, 12, 11, 12],\n",
       "       [11,  1, 27,  7, 27],\n",
       "       [10,  3, 13,  2, 27],\n",
       "       [19, 11, 14, 17, 27]])"
      ]
     },
     "execution_count": 11,
     "metadata": {},
     "output_type": "execute_result"
    }
   ],
   "source": [
    "A = np.random.randint(low=0,high=30,size=(5,5))\n",
    "A"
   ]
  },
  {
   "cell_type": "code",
   "execution_count": 12,
   "metadata": {},
   "outputs": [
    {
     "name": "stdout",
     "output_type": "stream",
     "text": [
      "maior valor na matriz 27\n",
      "posicao do maior valor da matriz 12\n"
     ]
    }
   ],
   "source": [
    "# todos os el.\n",
    "print('maior valor na matriz',np.max(A))\n",
    "print('posicao do maior valor da matriz', np.argmax(A)) #lineariza a matriz A A.ravel"
   ]
  },
  {
   "cell_type": "code",
   "execution_count": 15,
   "metadata": {},
   "outputs": [
    {
     "name": "stdout",
     "output_type": "stream",
     "text": [
      "maior valor em cada coluna [24 21 27 23 27]\n",
      "[0 0 2 0 2]\n",
      "maior valor de cada linha [24 13 27 27 27]\n",
      "[0 0 2 4 4]\n"
     ]
    }
   ],
   "source": [
    "# coluna / linhas\n",
    "print('maior valor em cada coluna', np.max(A, axis=0)) #maior valor de cada coluna\n",
    "print(np.argmax(A,axis=0))\n",
    "print('maior valor de cada linha', np.max(A, axis=1)) #... linha\n",
    "print(np.argmax(A,axis=1))"
   ]
  },
  {
   "cell_type": "code",
   "execution_count": 16,
   "metadata": {},
   "outputs": [
    {
     "name": "stdout",
     "output_type": "stream",
     "text": [
      "[[22.  2. 23. 21. 20.]\n",
      " [23. 21.  0. 12.  0.]\n",
      " [10. 20. 29.  0. 24.]\n",
      " [25. 12. 21. 12.  2.]\n",
      " [ 9. 23.  3. 24. 22.]]\n"
     ]
    }
   ],
   "source": [
    "A = np.random.randint(0,30,size=(5,5)).astype(float)\n",
    "print(A)"
   ]
  },
  {
   "cell_type": "code",
   "execution_count": 22,
   "metadata": {},
   "outputs": [
    {
     "name": "stdout",
     "output_type": "stream",
     "text": [
      "média 15.2\n",
      "média por coluna [17.8 15.6 15.2 13.8 13.6]\n",
      "média por linha [17.6 11.2 16.6 14.4 16.2]\n",
      "mediana 20.0\n",
      "desvio padrão 9.273618495495704\n",
      "desvio padrão colunas [ 6.85273668  7.76144316 11.53082824  8.4        10.38460399]\n"
     ]
    }
   ],
   "source": [
    "print('média', np.mean(A))\n",
    "print('média por coluna', np.mean(A, axis=0))\n",
    "print('média por linha', np.mean(A, axis=1))\n",
    "\n",
    "print('mediana', np.median(A))\n",
    "\n",
    "print('desvio padrão', np.std(A))\n",
    "print('desvio padrão colunas', np.std(A, axis=0))\n"
   ]
  },
  {
   "cell_type": "code",
   "execution_count": 24,
   "metadata": {},
   "outputs": [
    {
     "name": "stdout",
     "output_type": "stream",
     "text": [
      ">0  [[False  True  True  True  True]\n",
      " [ True  True  True  True  True]\n",
      " [ True  True  True  True  True]\n",
      " [ True  True  True  True  True]\n",
      " [ True  True  True  True  True]]\n",
      "todos os elementos são True? False\n",
      "algum elemento é True? True\n"
     ]
    }
   ],
   "source": [
    "A = np.arange(25).reshape(5,5)\n",
    "\n",
    "M = A > 0\n",
    "\n",
    "print('>0 ', M)\n",
    "print('todos os elementos são True?', np.all(M))\n",
    "print('algum elemento é True?', np.any(M))"
   ]
  },
  {
   "cell_type": "code",
   "execution_count": null,
   "metadata": {},
   "outputs": [],
   "source": [
    "A.sort() #modifica o array original\n",
    "A = np.sort(A) #cria outro array sortido"
   ]
  },
  {
   "cell_type": "code",
   "execution_count": 25,
   "metadata": {},
   "outputs": [
    {
     "name": "stdout",
     "output_type": "stream",
     "text": [
      "[[0 1 2]\n",
      " [3 4 5]\n",
      " [6 7 8]]\n",
      "indice 0 : [0 1 2]\n",
      "linha 0 :            [0 1 2]\n",
      "linha 0 ordena:  [0 1 2]\n",
      "indice 1 : [0 1 2]\n",
      "linha 1 :            [3 4 5]\n",
      "linha 1 ordena:  [3 4 5]\n",
      "indice 2 : [0 1 2]\n",
      "linha 2 :            [6 7 8]\n",
      "linha 2 ordena:  [6 7 8]\n"
     ]
    }
   ],
   "source": [
    "A = np.arange(9).reshape(3,3)\n",
    "I = np.argsort(A)\n",
    "print(A)\n",
    "\n",
    "for i in range(A.shape[0]):\n",
    "    print('indice', i, \":\", I[i])\n",
    "    print('linha', i, ':', +10*' ', A[i])\n",
    "    print('linha', i, 'ordena: ', A[i,I[i]])"
   ]
  },
  {
   "cell_type": "code",
   "execution_count": 26,
   "metadata": {},
   "outputs": [],
   "source": [
    "import pandas as pd"
   ]
  },
  {
   "cell_type": "code",
   "execution_count": 29,
   "metadata": {},
   "outputs": [
    {
     "name": "stdout",
     "output_type": "stream",
     "text": [
      "A    50\n",
      "B    10\n",
      "C    80\n",
      "D    33\n",
      "dtype: int64\n"
     ]
    }
   ],
   "source": [
    "#\"dicionário é a melhor forma de trazer a estrutura do json pro python\"\n",
    "\n",
    "dict = {'A':50, 'B':10, 'C':80, 'D':33}\n",
    "series = pd.Series(dict)\n",
    "print(series)"
   ]
  },
  {
   "cell_type": "code",
   "execution_count": 32,
   "metadata": {},
   "outputs": [
    {
     "name": "stdout",
     "output_type": "stream",
     "text": [
      "Elemento \"A\"  50\n",
      "Elementos \"C\" e \"D\"  C    80\n",
      "D    33\n",
      "dtype: int64\n",
      "50\n",
      "A    50\n",
      "B    10\n",
      "C    80\n",
      "dtype: int64\n"
     ]
    }
   ],
   "source": [
    "print('Elemento \"A\" ', series['A'])\n",
    "print('Elementos \"C\" e \"D\" ', series[['C','D']]) #quando se utiliza uma lista de rótulos ele retorna uma subsérie\n",
    "print(series[0])\n",
    "print(series[0:3])"
   ]
  },
  {
   "cell_type": "code",
   "execution_count": null,
   "metadata": {},
   "outputs": [],
   "source": []
  }
 ],
 "metadata": {
  "kernelspec": {
   "display_name": "Python 3",
   "language": "python",
   "name": "python3"
  },
  "language_info": {
   "codemirror_mode": {
    "name": "ipython",
    "version": 3
   },
   "file_extension": ".py",
   "mimetype": "text/x-python",
   "name": "python",
   "nbconvert_exporter": "python",
   "pygments_lexer": "ipython3",
   "version": "3.11.1"
  },
  "orig_nbformat": 4
 },
 "nbformat": 4,
 "nbformat_minor": 2
}
