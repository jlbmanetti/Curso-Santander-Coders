{
 "cells": [
  {
   "cell_type": "code",
   "execution_count": 14,
   "metadata": {},
   "outputs": [
    {
     "name": "stdout",
     "output_type": "stream",
     "text": [
      "(['a', 'b', 'c', 'd'], [1, 3, 2, 4])\n",
      "1\n",
      "(['a', 'b', 'c', 'd', ''], [1, 3, 2, 4, ''])\n"
     ]
    }
   ],
   "source": [
    "# ex review\n",
    "produtos = [\"a\",\"b\",\"c\",\"d\"]\n",
    "quantidades = [1,3,2,4]\n",
    "\n",
    "estoque = (produtos,quantidades)\n",
    "\n",
    "print(estoque)\n",
    "\n",
    "comando = int(input())\n",
    "\n",
    "print(comando)\n",
    "\n",
    "if comando == 1:\n",
    "    a = input()\n",
    "    b = int(input())\n",
    "    adicionar(a,b)\n",
    "\n",
    "\n",
    "def adicionar(x,y):\n",
    "    produtos.append(x)\n",
    "    quantidades.append(y)\n",
    "    estoque = (produtos,quantidades)\n",
    "    return estoque\n",
    "\n",
    "print(estoque)\n"
   ]
  },
  {
   "cell_type": "code",
   "execution_count": null,
   "metadata": {},
   "outputs": [],
   "source": []
  }
 ],
 "metadata": {
  "kernelspec": {
   "display_name": "Python 3",
   "language": "python",
   "name": "python3"
  },
  "language_info": {
   "codemirror_mode": {
    "name": "ipython",
    "version": 3
   },
   "file_extension": ".py",
   "mimetype": "text/x-python",
   "name": "python",
   "nbconvert_exporter": "python",
   "pygments_lexer": "ipython3",
   "version": "3.11.1"
  },
  "orig_nbformat": 4
 },
 "nbformat": 4,
 "nbformat_minor": 2
}
