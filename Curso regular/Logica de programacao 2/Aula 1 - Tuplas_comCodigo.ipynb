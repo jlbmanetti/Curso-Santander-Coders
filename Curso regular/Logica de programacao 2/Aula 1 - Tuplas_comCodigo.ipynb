{
 "cells": [
  {
   "cell_type": "markdown",
   "id": "0381e16f",
   "metadata": {},
   "source": [
    "# Tuplas\n",
    "\n",
    "Neste capítulo estudaremos uma estrutura de dados, ou seja, uma forma estruturada de armazenar múltiplos dados. Você provavelmente já estudou pelo menos outra estrutura de dados em Python: a **lista**.\n",
    "\n",
    "Vamos brevemente revisar os conceitos de lista, pois eles serão úteis para compreender nossa nova estrutura, a **tupla**.\n",
    "\n",
    "Focaremos em funcionalidades, não em funções prontas e métodos de lista."
   ]
  },
  {
   "cell_type": "markdown",
   "id": "4863bdc0",
   "metadata": {},
   "source": [
    "## Revisão de Listas\n",
    "\n",
    "### Criando uma Lista e Acessando Elementos\n",
    "\n",
    "A lista é uma coleção de objetos em Python. Criando uma única variável para representar a lista, podemos armazenar múltiplos valores. Internamente, esses valores são representados por seus **índices**: um número inteiro, iniciando em zero e incrementando com passo unitário. \n",
    "\n",
    "Podemos criar uma lista através da função ```list``` ou utilizando um par de colchetes:"
   ]
  },
  {
   "cell_type": "code",
   "execution_count": 23,
   "id": "35e0afe6",
   "metadata": {
    "ExecuteTime": {
     "end_time": "2023-06-28T23:33:57.326326Z",
     "start_time": "2023-06-28T23:33:57.314762Z"
    }
   },
   "outputs": [
    {
     "name": "stdout",
     "output_type": "stream",
     "text": [
      "Python\n",
      "JavaScript\n",
      "True\n",
      "Web Full Stack\n"
     ]
    }
   ],
   "source": [
    "lista1 = list() # Criando uma lista vazia\n",
    "\n",
    "lista2 = []     # Outra forma de criar uma lista vazia\n",
    "\n",
    "linguagens = ['Python', 'JavaScript', 'SQL'] # Uma lista com 3 elementos\n",
    "\n",
    "dadosVariados = [3.14, 1000, True, 'Abacate'] # Uma lista com dados de tipos diversos\n",
    "\n",
    "listaDeListas = [['Curso', ['Módulo 1', 'Módulo 2']], ['Data Science', 'Lógica de Programação I', 'Lógica de Programação II'], ['Web Full Stack', 'Front End Estático', 'Fron End Dinâmico']]\n",
    "\n",
    "print(linguagens[0]) # Imprime \"Python\"\n",
    "print(linguagens[1]) # Imprime \"JavaScript\"\n",
    "print(dadosVariados[2]) # Imprime True\n",
    "print(listaDeListas[2][0]) # Imprime \"Web Full Stack\""
   ]
  },
  {
   "cell_type": "markdown",
   "id": "0f509672",
   "metadata": {},
   "source": [
    "### Iterando uma Lista\n",
    "\n",
    "Como os elementos em uma lista são representados por números inteiros, podemos facilmente percorrê-la variando seu índice de maneira automatizada:"
   ]
  },
  {
   "cell_type": "code",
   "execution_count": 3,
   "id": "09fa05f9",
   "metadata": {
    "ExecuteTime": {
     "end_time": "2022-10-03T14:15:59.129022Z",
     "start_time": "2022-10-03T14:15:59.109106Z"
    }
   },
   "outputs": [
    {
     "name": "stdout",
     "output_type": "stream",
     "text": [
      "3.14\n",
      "1000\n",
      "True\n",
      "Abacate\n"
     ]
    }
   ],
   "source": [
    "for indice in range(4):\n",
    "    print(dadosVariados[indice])"
   ]
  },
  {
   "cell_type": "markdown",
   "id": "9ba5cb17",
   "metadata": {},
   "source": [
    "Apesar de funcionar, essa forma é considerada pouco legível. Existe uma maneira mais direta de percorrer uma lista. Ao trocarmos a função *range* do nosso *for* pela própria lista, ele irá **copiar** cada elemento da lista para a variável temporária. Assim conseguimos facilmente, e de maneira bem legível, acessar todos os elementos de uma lista:"
   ]
  },
  {
   "cell_type": "code",
   "execution_count": 5,
   "id": "c39fdb49",
   "metadata": {
    "ExecuteTime": {
     "end_time": "2022-10-03T14:16:08.135540Z",
     "start_time": "2022-10-03T14:16:08.127583Z"
    }
   },
   "outputs": [
    {
     "name": "stdout",
     "output_type": "stream",
     "text": [
      "3.14\n",
      "1000\n",
      "True\n",
      "Abacate\n"
     ]
    }
   ],
   "source": [
    "for elemento in dadosVariados:\n",
    "    print(elemento)"
   ]
  },
  {
   "cell_type": "markdown",
   "id": "43b1db17",
   "metadata": {},
   "source": [
    "Caso tenhamos listas aninhadas, podemos percorrê-las aninhando loops. Utilizamos um loop para cada \"nível\" de lista. Execute o bloco abaixo e veja seu resultado na tela:"
   ]
  },
  {
   "cell_type": "code",
   "execution_count": 7,
   "id": "4faa377b",
   "metadata": {
    "ExecuteTime": {
     "end_time": "2022-10-03T14:16:38.461587Z",
     "start_time": "2022-10-03T14:16:38.452539Z"
    }
   },
   "outputs": [
    {
     "name": "stdout",
     "output_type": "stream",
     "text": [
      "Curso\n",
      "Módulo 1\n",
      "Módulo 2\n",
      "Data Science\n",
      "Lógica de Programação I\n",
      "Lógica de Programação II\n",
      "Web Full Stack\n",
      "Front End Estático\n",
      "Fron End Dinâmico\n"
     ]
    }
   ],
   "source": [
    "for linha in listaDeListas:\n",
    "    for elemento in linha:\n",
    "        print(elemento)"
   ]
  },
  {
   "cell_type": "markdown",
   "id": "c401dd27",
   "metadata": {},
   "source": [
    "### *Slicing* de Listas\n",
    "\n",
    "Uma operação bastante comum em uma lista é extrair apenas uma parte dela. Para isso você deve informar, pelo menos, o índice inicial e o índice final, sendo que o índice final não irá entrar na conta - dizemos que ele é um valor \"exclusivo\", como se fosse um intervalo aberto naquele ponto."
   ]
  },
  {
   "cell_type": "code",
   "execution_count": 8,
   "id": "a7b06b88",
   "metadata": {
    "ExecuteTime": {
     "end_time": "2022-10-03T14:31:50.753521Z",
     "start_time": "2022-10-03T14:31:50.742524Z"
    }
   },
   "outputs": [
    {
     "name": "stdout",
     "output_type": "stream",
     "text": [
      "['carambola', 'damasco', 'embaúba']\n"
     ]
    }
   ],
   "source": [
    "frutas = ['abacate', 'banana', 'carambola', 'damasco', 'embaúba', 'framboesa', 'goiaba']\n",
    "\n",
    "algumas_frutas = frutas[2:5] \n",
    "\n",
    "print(algumas_frutas) # resultado: ['carambola', 'damasco', 'embaúba']\n",
    "\n",
    "# print(dadosVariados[1:3])"
   ]
  },
  {
   "cell_type": "markdown",
   "id": "4d37746d",
   "metadata": {},
   "source": [
    "Você pode deixar um dos dois índices em branco. Na ausência do primeiro índice, a operação se iniciará com o índice 0 da lista original. Na ausência do segundo, a operação seguirá até o final da lista original."
   ]
  },
  {
   "cell_type": "code",
   "execution_count": 9,
   "id": "2d4b8d1d",
   "metadata": {
    "ExecuteTime": {
     "end_time": "2022-10-03T14:32:10.552285Z",
     "start_time": "2022-10-03T14:32:10.536308Z"
    }
   },
   "outputs": [
    {
     "name": "stdout",
     "output_type": "stream",
     "text": [
      "['abacate', 'banana', 'carambola']\n",
      "['embaúba', 'framboesa', 'goiaba']\n"
     ]
    }
   ],
   "source": [
    "primeiras3 = frutas[:3]\n",
    "print(primeiras3)\n",
    "\n",
    "ultimas3 = frutas[4:]\n",
    "print(ultimas3)\n",
    "\n",
    "# primeirosValores = dadosVariados[:3]\n",
    "# print(primeirosValores)\n",
    "\n",
    "# valoresFinais = dadosVariados[1:]\n",
    "# print(valoresFinais)"
   ]
  },
  {
   "cell_type": "markdown",
   "id": "022606be",
   "metadata": {},
   "source": [
    "Também podemos utilizar índices negativos. O índice -1 acessa o último elemento da lista, o -2 acessa o penúltimo, e assim sucessivamente. Podemos reescrever o exemplo anterior utilizando números negativos para facilitar ainda mais a legibilidade e tornar o exemplo mais genérico e independente do tamanho da lista:"
   ]
  },
  {
   "cell_type": "code",
   "execution_count": 10,
   "id": "4986edb1",
   "metadata": {
    "ExecuteTime": {
     "end_time": "2022-10-03T14:32:25.083984Z",
     "start_time": "2022-10-03T14:32:25.079977Z"
    }
   },
   "outputs": [
    {
     "name": "stdout",
     "output_type": "stream",
     "text": [
      "['embaúba', 'framboesa', 'goiaba']\n"
     ]
    }
   ],
   "source": [
    "ultimas3 = frutas[-3:]\n",
    "print(ultimas3)\n",
    "\n",
    "# dadosVariados[:-2]"
   ]
  },
  {
   "cell_type": "markdown",
   "id": "3d34ac99",
   "metadata": {
    "ExecuteTime": {
     "end_time": "2022-10-03T14:32:35.521435Z",
     "start_time": "2022-10-03T14:32:35.495433Z"
    }
   },
   "source": [
    "Você deve se recordar que atribuir uma lista para outra **não** copia a lista. Veja o exemplo abaixo:"
   ]
  },
  {
   "cell_type": "code",
   "execution_count": 12,
   "id": "0d7a8df1",
   "metadata": {
    "ExecuteTime": {
     "end_time": "2022-10-03T14:32:50.102438Z",
     "start_time": "2022-10-03T14:32:50.095417Z"
    }
   },
   "outputs": [
    {
     "name": "stdout",
     "output_type": "stream",
     "text": [
      "['abacate', 'banana', 'carambola', 'damasco', 'embaúba', 'framboesa', 'goiaba', 'heisteria']\n"
     ]
    }
   ],
   "source": [
    "copia_frutas = frutas\n",
    "copia_frutas.append('heisteria')\n",
    "print(frutas) # resultado na tela: ['abacate', 'banana', 'carambola', 'damasco', 'embaúba', 'framboesa', 'goiaba', 'heisteria']\n",
    "\n",
    "# frutas = ['framboesa', 'morango', 'abacaxi', 'pêra', 'maçã']\n",
    "# copiaFrutas = frutas\n",
    "\n",
    "# copiaFrutas.append('Pêssego')\n",
    "\n",
    "# print(frutas)"
   ]
  },
  {
   "cell_type": "markdown",
   "id": "1772cc60",
   "metadata": {
    "ExecuteTime": {
     "end_time": "2022-10-03T14:33:00.429010Z",
     "start_time": "2022-10-03T14:33:00.415009Z"
    }
   },
   "source": [
    "Quando atribuímos uma lista existente para uma variável, a variável irá referenciar **a mesma** lista na memória. Portanto, operações realizadas na lista \"nova\" irão afetar a lista \"antiga\". Não houve a criação de uma nova lista de fato.\n",
    "\n",
    "Uma forma fácil de **copiar** de verdade uma lista para outra lista é utilizar um slice indo do início até o final da lista original:"
   ]
  },
  {
   "cell_type": "code",
   "execution_count": 14,
   "id": "8f93e879",
   "metadata": {
    "ExecuteTime": {
     "end_time": "2022-10-03T14:33:10.657796Z",
     "start_time": "2022-10-03T14:33:10.654776Z"
    }
   },
   "outputs": [
    {
     "name": "stdout",
     "output_type": "stream",
     "text": [
      "['abacate', 'banana', 'carambola', 'damasco', 'embaúba', 'framboesa', 'goiaba', 'heisteria']\n"
     ]
    }
   ],
   "source": [
    "copia_frutas = frutas[:]\n",
    "print(copia_frutas)"
   ]
  },
  {
   "cell_type": "markdown",
   "id": "26097b37",
   "metadata": {},
   "source": [
    "`copia_frutas` e `frutas` não referenciam a mesma lista. Elas referenciam duas listas diferentes contendo os mesmos elementos, mas modificações feitas em uma delas não irão afetar a outra.\n",
    "\n",
    "É possível passar mais um valor representando um passo ou salto. Por exemplo, podemos pegar os elementos das posições ímpares da lista começando na posição 1 e adotando salto igual a 2:"
   ]
  },
  {
   "cell_type": "code",
   "execution_count": 15,
   "id": "a1c3884a",
   "metadata": {
    "ExecuteTime": {
     "end_time": "2022-10-03T14:33:25.466986Z",
     "start_time": "2022-10-03T14:33:25.461991Z"
    }
   },
   "outputs": [
    {
     "name": "stdout",
     "output_type": "stream",
     "text": [
      "['banana', 'damasco', 'framboesa', 'heisteria']\n"
     ]
    }
   ],
   "source": [
    "impares = frutas[1::2]\n",
    "print(impares)"
   ]
  },
  {
   "cell_type": "markdown",
   "id": "dd757f7f",
   "metadata": {},
   "source": [
    "Com saltos negativos, é fácil inverter uma lista:"
   ]
  },
  {
   "cell_type": "code",
   "execution_count": 16,
   "id": "4668e076",
   "metadata": {
    "ExecuteTime": {
     "end_time": "2022-10-03T14:33:30.202646Z",
     "start_time": "2022-10-03T14:33:30.186641Z"
    }
   },
   "outputs": [
    {
     "name": "stdout",
     "output_type": "stream",
     "text": [
      "['heisteria', 'goiaba', 'framboesa', 'embaúba', 'damasco', 'carambola', 'banana', 'abacate']\n"
     ]
    }
   ],
   "source": [
    "frutas_inv = frutas[-1::-1]\n",
    "print(frutas_inv)"
   ]
  },
  {
   "cell_type": "markdown",
   "id": "a25b2184",
   "metadata": {},
   "source": [
    "### Concatenação de Listas\n",
    "\n",
    "Uma operação útil em listas é a concatenação. Quando \"somamos\" duas listas, utilizando o operador **+**, teremos uma nova lista com os elementos das duas listas originais em ordem de aparição:"
   ]
  },
  {
   "cell_type": "code",
   "execution_count": 17,
   "id": "dcd9ac2f",
   "metadata": {
    "ExecuteTime": {
     "end_time": "2022-10-03T14:34:11.818951Z",
     "start_time": "2022-10-03T14:34:11.810896Z"
    }
   },
   "outputs": [
    {
     "name": "stdout",
     "output_type": "stream",
     "text": [
      "['Python', 'SQL', 'R', 'HTML', 'CSS', 'JavaScript']\n"
     ]
    }
   ],
   "source": [
    "ds = ['Python', 'SQL', 'R']\n",
    "web = ['HTML', 'CSS', 'JavaScript']\n",
    "\n",
    "linguagens = ds + web\n",
    "print(linguagens) \n",
    "#resultado: ['Python', 'SQL', 'R', 'HTML', 'CSS', 'JavaScript']"
   ]
  },
  {
   "cell_type": "markdown",
   "id": "ecadc014",
   "metadata": {},
   "source": [
    "## Tuplas\n",
    "\n",
    "### Operações Básicas\n",
    "\n",
    "Assim como as listas, tuplas também são coleções de objetos. Elas podem armazenar diversos objetos de diferentes tipos. Elas também possuem índice, que se comporta da mesma maneira que os índices de uma lista. Podemos criar tuplas utilizando parênteses ou a função ```tuple```. Caso a tupla possua pelo menos 2 elementos, não precisamos dos parênteses, basta separar os valores por vírgula, apesar de ser **recomendável** utilizá-los para evitar ambiguidades:"
   ]
  },
  {
   "cell_type": "code",
   "execution_count": 18,
   "id": "3356ce1a",
   "metadata": {
    "ExecuteTime": {
     "end_time": "2022-10-03T14:34:59.163561Z",
     "start_time": "2022-10-03T14:34:59.146564Z"
    }
   },
   "outputs": [
    {
     "name": "stdout",
     "output_type": "stream",
     "text": [
      "Python\n",
      "JavaScript\n",
      "True\n",
      "Web Full Stack\n"
     ]
    }
   ],
   "source": [
    "tupla1 = tuple() # uma tupla vazia\n",
    "\n",
    "tupla2 = () # outra tupla vazia\n",
    "\n",
    "linguagens = ('Python', 'JavaScript', 'SQL') # uma tupla com 3 elementos\n",
    "\n",
    "dados_variados = 3.14, 1000, True, 'abacate' # uma tupla declarada sem parênteses\n",
    "\n",
    "tupla_de_tuplas = ( ('Curso', 'Módulo 1', 'Módulo 2'), ('Data Science', 'Lógica de Programação I', 'Lógica de Programação II'), ('Web Full Stack', 'Front End Estático', 'Front End Dinâmico'))\n",
    "\n",
    "print(linguagens[0]) # imprime \"Python\"\n",
    "print(linguagens[1]) # imprime \"JavaScript\"\n",
    "print(dados_variados[2]) # imprime True\n",
    "print(tupla_de_tuplas[2][0]) # imprime \"Web Full Stack\"\n",
    "\n",
    "# tupla = tuple()\n",
    "# tupla2 = ()\n",
    "\n",
    "# linguagens = ('Python', 'JavaScript', 'R')\n",
    "\n",
    "# dadosVariados = (3.14, 1000, True, 'Abacaxi')\n",
    "\n",
    "# tuplaDeTuplas = ( ('Curso', 'Módulo 1', 'Módulo 2'), ('Data Science', 'Lógica de Programação I', 'Lógica de Programação II'), ('Web Full Stack', 'Front End Estático', 'Front End Dinâmico'))\n",
    "\n",
    "# print(linguagens[1])\n",
    "# print(dadosVariados[2:])\n",
    "# print(tuplaDeTuplas[1][2])"
   ]
  },
  {
   "cell_type": "markdown",
   "id": "2b9f160a",
   "metadata": {},
   "source": [
    "Todas as outras operações que revisamos hoje em listas podem ser realizadas com tuplas:\n",
    "* iteração através de um loop do tipo `for`\n",
    "* _slicing_ passando índice inicial, final e salto\n",
    "* concatenação\n",
    "\n",
    "É possível também fazer conversão de lista para tupla e vice-versa:"
   ]
  },
  {
   "cell_type": "code",
   "execution_count": 19,
   "id": "ff300da1",
   "metadata": {
    "ExecuteTime": {
     "end_time": "2022-10-03T14:35:15.829212Z",
     "start_time": "2022-10-03T14:35:15.821190Z"
    }
   },
   "outputs": [
    {
     "name": "stdout",
     "output_type": "stream",
     "text": [
      "('abacate', 'banana', 'carambola', 'damasco', 'embaúba', 'framboesa', 'goiaba')\n",
      "['abacate', 'banana', 'carambola', 'damasco', 'embaúba', 'framboesa', 'goiaba']\n"
     ]
    }
   ],
   "source": [
    "lista_frutas = ['abacate', 'banana', 'carambola', 'damasco', 'embaúba', 'framboesa', 'goiaba']\n",
    "\n",
    "tupla_frutas = tuple(lista_frutas)\n",
    "print(tupla_frutas)\n",
    "\n",
    "nova_lista_frutas = list(tupla_frutas)\n",
    "print(nova_lista_frutas)\n",
    "\n",
    "# frutasTupla = tuple(frutas)\n",
    "# print(frutasTupla)\n",
    "\n",
    "# novaListaFrutas = list(frutasTupla)\n",
    "# print(novaListaFrutas)"
   ]
  },
  {
   "cell_type": "markdown",
   "id": "c96e97c0",
   "metadata": {},
   "source": [
    "### Imutabilidade\n",
    "\n",
    "Listas possuem uma propriedade que a tupla **não** possui: **mutabilidade**. O código abaixo irá funcionar para a operação na lista, mas irá falhar para a operação na tupla:"
   ]
  },
  {
   "cell_type": "code",
   "execution_count": 21,
   "id": "23d810b3",
   "metadata": {
    "ExecuteTime": {
     "end_time": "2022-10-03T14:35:46.102623Z",
     "start_time": "2022-10-03T14:35:46.097610Z"
    }
   },
   "outputs": [
    {
     "name": "stdout",
     "output_type": "stream",
     "text": [
      "['ananás', 'banana', 'carambola', 'damasco', 'embaúba', 'framboesa', 'goiaba']\n"
     ]
    }
   ],
   "source": [
    "lista_frutas = ['abacate', 'banana', 'carambola', 'damasco', 'embaúba', 'framboesa', 'goiaba']\n",
    "tupla_frutas = ('abacate', 'banana', 'carambola', 'damasco', 'embaúba', 'framboesa', 'goiaba')\n",
    "\n",
    "lista_frutas[0] = 'ananás'\n",
    "print(lista_frutas)\n",
    "\n",
    "# tupla_frutas[0] = 'ananás' # erro"
   ]
  },
  {
   "cell_type": "markdown",
   "id": "2c9c4e42",
   "metadata": {},
   "source": [
    "Por que alguém escolheria uma estrutura imutável? Por que usar uma lista com _menos recursos_? O principal motivo é precisamente quando não convém alterar os dados. Em Python é muito difícil \"proibir\" algo: nada impede outro programador de transformar a tupla em uma lista, fazer alterações na lista e salvar a nova tupla \"por cima\" da velha, utilizando o mesmo nome para a nova. \n",
    "\n",
    "Porém, quando utilizamos uma tupla, estamos **sinalizando** que aqueles dados **não deveriam** ser alterados, e ninguém irá conseguir alterá-los por acidente. Para alterá-los será necessário realizar uma série de conversões de maneira intencional.\n",
    "\n",
    "Isso aumenta um pouco a segurança e confiabilidade de nosso código em certas situações, evitando a alteração indevida de dados que podem ser críticos para o bom funcionamento do nosso programa.\n",
    "\n",
    "Adicionalmente, em alguns contextos muito específicos - quantidades muito grandes de dados com uma grande quantidade de operações de **leitura** versus poucas ou nenhuma operação de **escrita** - a tupla pode oferecer desempenho significativamente superior à lista. São poucas as situações onde você sentirá essa diferença, seja porque para quantidades muito baixas de dados a lista possui uma série de otimizações que podem torná-la até mais veloz do que a tupla, seja porque para quantidades relativamente grandes de dados a lista ainda será razoavelmente rápida. "
   ]
  },
  {
   "cell_type": "markdown",
   "id": "30f22ec2",
   "metadata": {},
   "source": [
    "### Desempacotamento de tupla\n",
    "\n",
    "Uma operação bastante interessante que podemos realizar com tuplas é o **desempacotamento** de tuplas, que aparecerá em muitos locais com seu nome em inglês, *tuple unpacking*.\n",
    "\n",
    "O desempacotamento de tupla é uma operação que permite facilmente atribuir o conteúdo de uma tupla a variáveis individuais, sem a necessidade de escrever múltiplas linhas de código e manipular índices. Vejamos um exemplo básico:"
   ]
  },
  {
   "cell_type": "code",
   "execution_count": 22,
   "id": "765d1484",
   "metadata": {
    "ExecuteTime": {
     "end_time": "2022-10-03T14:36:19.557412Z",
     "start_time": "2022-10-03T14:36:19.543410Z"
    }
   },
   "outputs": [
    {
     "name": "stdout",
     "output_type": "stream",
     "text": [
      "Lista\n",
      "Tupla\n",
      "Dicionário\n"
     ]
    }
   ],
   "source": [
    "x, y, z = ('Lista', 'Tupla', 'Dicionário')\n",
    "print(x) # Lista\n",
    "print(y) # Tupla\n",
    "print(z) # Dicionário"
   ]
  },
  {
   "cell_type": "markdown",
   "id": "4275452c",
   "metadata": {},
   "source": [
    "Uma limitação inicial que temos com essa técnica é que precisamos utilizar exatamente 1 variável para cada elemento da tupla, mesmo que não estejamos interessados em todos os seus elementos. Podemos contornar isso utilizando o operador **\\***. Ao utilizá-lo em uma das variáveis no desempacotamento, estamos sinalizando que ele pode receber múltiplos valores, formando uma coleção com parte dos valores:"
   ]
  },
  {
   "cell_type": "code",
   "execution_count": 23,
   "id": "2dbf9a4a",
   "metadata": {
    "ExecuteTime": {
     "end_time": "2022-10-03T14:36:33.761747Z",
     "start_time": "2022-10-03T14:36:33.747743Z"
    }
   },
   "outputs": [
    {
     "name": "stdout",
     "output_type": "stream",
     "text": [
      "Python\n",
      "['JavaScript', 'HTML', 'CSS', 'R']\n",
      "['Python', 'JavaScript', 'HTML', 'CSS']\n",
      "R\n",
      "Python\n",
      "['JavaScript', 'HTML', 'CSS']\n",
      "R\n"
     ]
    }
   ],
   "source": [
    "linguagens = ('Python', 'JavaScript', 'HTML', 'CSS', 'R')\n",
    "\n",
    "primeira, *resto = linguagens\n",
    "print(primeira) # Python\n",
    "print(resto) # ['JavaScript', 'HTML', 'CSS', 'R']\n",
    "\n",
    "*resto, ultima = linguagens\n",
    "print(resto) # ['Python', 'JavaScript', 'HTML', 'CSS']\n",
    "print(ultima) # R\n",
    "\n",
    "primeira, *meio, ultima = linguagens\n",
    "print(primeira) # Python\n",
    "print(meio) # ['JavaScript', 'HTML', 'CSS']\n",
    "print(ultima) # R\n",
    "\n",
    "# linguagens = ('Python', 'JavaScript', 'HTML', 'CSS', 'R')\n",
    "\n",
    "# primeiraPosicao, *resto = linguagens\n",
    "# # print(primeiraPosicao)\n",
    "# # print(resto)\n",
    "\n",
    "# *resto, ultimaPosicao = linguagens\n",
    "# # print(ultimaPosicao)\n",
    "# # print(resto)\n",
    "\n",
    "# primeiraPosicao, segundaPosicao, *meio, ultimaPosicao = linguagens\n",
    "# # print(primeiraPosicao)\n",
    "# # print(segundaPosicao)\n",
    "# # print(ultimaPosicao)\n",
    "# # print(meio)"
   ]
  },
  {
   "cell_type": "markdown",
   "id": "eecb2c6a",
   "metadata": {},
   "source": [
    "> O desempacotamento também pode ser utilizado com listas. Um dos principais motivos para ele frequentemente ser lembrado como uma operação de tupla foi que ele inicialmente só existia, de fato, para tuplas, e foi implementado para listas em versões mais recentes do Python. Outro motivo está relacionado à imutabilidade: como a tupla é imutável, temos mais garantias de que sabemos qual dado está em cada posição dela, tornando essa operação mais confiável em tuplas do que em listas."
   ]
  },
  {
   "cell_type": "markdown",
   "id": "9dd76f54",
   "metadata": {},
   "source": [
    "### Operações com tuplas \"implícitas\"\n",
    "\n",
    "O Python oferece alguns truques que permitem escrever códigos mais enxutos do que em outras linguagens, e parte desses truques utiliza sintaxe de tupla. Por exemplo, para criar duas variáveis e atribuir valores simultaneamente a elas, podemos utilizar vírgulas:"
   ]
  },
  {
   "cell_type": "code",
   "execution_count": 24,
   "id": "9ac9fbb0",
   "metadata": {
    "ExecuteTime": {
     "end_time": "2022-10-03T14:37:59.526752Z",
     "start_time": "2022-10-03T14:37:59.516752Z"
    }
   },
   "outputs": [
    {
     "name": "stdout",
     "output_type": "stream",
     "text": [
      "10\n",
      "20\n"
     ]
    }
   ],
   "source": [
    "x, y = 10, 20\n",
    "\n",
    "print(x) # 10\n",
    "print(y) # 20\n",
    "\n",
    "# x, y = (10, 20)\n",
    "# print(x)\n",
    "# print(y)"
   ]
  },
  {
   "cell_type": "markdown",
   "id": "24d42aec",
   "metadata": {},
   "source": [
    "Outro truque relacionado bastante comum é inverter o valor de duas variáveis:"
   ]
  },
  {
   "cell_type": "code",
   "execution_count": 25,
   "id": "9f7ac4f4",
   "metadata": {
    "ExecuteTime": {
     "end_time": "2022-10-03T14:39:07.362518Z",
     "start_time": "2022-10-03T14:39:07.357515Z"
    }
   },
   "outputs": [
    {
     "name": "stdout",
     "output_type": "stream",
     "text": [
      "20\n",
      "10\n"
     ]
    }
   ],
   "source": [
    "y, x = x, y\n",
    "\n",
    "print(x) # 20\n",
    "print(y) # 10\n",
    "\n",
    "# y, x = (x, y)\n",
    "\n",
    "# print(x)\n",
    "# print(y)"
   ]
  },
  {
   "cell_type": "markdown",
   "id": "15f93b77",
   "metadata": {},
   "source": [
    "Esse tipo de operação é considerado *açúcar sintático*, ou seja, não acrescenta funcionalidades novas, apenas cria formas mais simples e legíveis de realizar operações que já éramos capazes de realizar anteriormente.\n",
    "\n",
    "Internamente, o Python está usando lógica de criar e desempacotar tuplas para realizar esse tipo de operação."
   ]
  },
  {
   "cell_type": "markdown",
   "id": "2981233d",
   "metadata": {},
   "source": [
    "## Facilidades para iteração\n",
    "\n",
    "Sempre que possível, é preferível iterar uma coleção - seja ela uma lista ou uma tupla - de maneira direta utilizando *for* sem índices. Há alguns problemas onde pode ser difícil escapar do índice, pois nossa lógica irá depender de posição de alguma maneira.\n",
    "\n",
    "Veremos duas estruturas que irão nos auxiliar a fazer iteração por índice sem precisar utilizar uma estrutura pouco legível como:"
   ]
  },
  {
   "cell_type": "markdown",
   "id": "b9e549b1",
   "metadata": {
    "ExecuteTime": {
     "end_time": "2022-10-03T14:39:33.041659Z",
     "start_time": "2022-10-03T14:39:33.018658Z"
    }
   },
   "source": [
    "```py\n",
    "for indice in range(len(lista)):\n",
    "    ...\n",
    "    lista[indice] = ...\n",
    "    ...\n",
    "```"
   ]
  },
  {
   "cell_type": "markdown",
   "id": "46199012",
   "metadata": {},
   "source": [
    "### Enumerate\n",
    "\n",
    "Considere um problema qualquer onde o índice importa. Por exemplo, suponha que você possua uma lista de strings e gostaria de exibi-la intercalando uma em letra maiúscula e outra em letra minúscula (assim como frequentemente representamos tabelas intercalando as cores de suas linhas em editores de planilha para melhorar a legibilidade).\n",
    "\n",
    "A lógica desse problema poderia ser resolvida usando índice: "
   ]
  },
  {
   "cell_type": "code",
   "execution_count": 27,
   "id": "39e8815b",
   "metadata": {
    "ExecuteTime": {
     "end_time": "2022-10-03T14:39:58.628170Z",
     "start_time": "2022-10-03T14:39:58.620115Z"
    }
   },
   "outputs": [
    {
     "name": "stdout",
     "output_type": "stream",
     "text": [
      "ABACATE\n",
      "banana\n",
      "CARAMBOLA\n",
      "damasco\n",
      "EMBAÚBA\n",
      "framboesa\n",
      "GOIABA\n"
     ]
    }
   ],
   "source": [
    "lista_frutas = ['abacate', 'banana', 'carambola', 'damasco', 'embaúba', 'framboesa', 'goiaba']\n",
    "\n",
    "for indice in range(len(lista_frutas)):\n",
    "    if indice % 2 == 0:\n",
    "        print(lista_frutas[indice].upper())\n",
    "    else:\n",
    "        print(lista_frutas[indice].lower())"
   ]
  },
  {
   "cell_type": "markdown",
   "id": "011e7e33",
   "metadata": {},
   "source": [
    "Existe uma ferramenta em Python que pode nos ajudar a escrever de maneira mais *pythonica*, sem precisar acessar lista por índice: o **enumerate**. Primeiro, vamos entender o que ele faz e, em seguida, veremos como deixar o código mais limpo:"
   ]
  },
  {
   "cell_type": "code",
   "execution_count": 28,
   "id": "42c7804d",
   "metadata": {
    "ExecuteTime": {
     "end_time": "2022-10-03T14:40:19.708475Z",
     "start_time": "2022-10-03T14:40:19.702476Z"
    }
   },
   "outputs": [
    {
     "name": "stdout",
     "output_type": "stream",
     "text": [
      "(0, 'abacate')\n",
      "(1, 'banana')\n",
      "(2, 'carambola')\n",
      "(3, 'damasco')\n",
      "(4, 'embaúba')\n",
      "(5, 'framboesa')\n",
      "(6, 'goiaba')\n"
     ]
    }
   ],
   "source": [
    "for x in enumerate(lista_frutas):\n",
    "    print(x)"
   ]
  },
  {
   "cell_type": "markdown",
   "id": "0699a3eb",
   "metadata": {},
   "source": [
    "O **enumerate** montou uma estrutura onde cada elemento é uma tupla, sendo o primeiro elemento da tupla um índice da lista, e o segundo o valor associado àquele índice. Aplicando desempacotamento de tupla no *for*, podemos ter, simultaneamente, índice e valor em variáveis separadas, na prática percorrendo a lista tanto por índice quanto por valor. Refazendo o exemplo das maiúsculas/minúsculas:"
   ]
  },
  {
   "cell_type": "code",
   "execution_count": 29,
   "id": "eb941d03",
   "metadata": {
    "ExecuteTime": {
     "end_time": "2022-10-03T14:40:40.604546Z",
     "start_time": "2022-10-03T14:40:40.590544Z"
    }
   },
   "outputs": [
    {
     "name": "stdout",
     "output_type": "stream",
     "text": [
      "ABACATE\n",
      "banana\n",
      "CARAMBOLA\n",
      "damasco\n",
      "EMBAÚBA\n",
      "framboesa\n",
      "GOIABA\n"
     ]
    }
   ],
   "source": [
    "for indice, valor in enumerate(lista_frutas):\n",
    "    if indice % 2 == 0:\n",
    "        print(valor.upper())\n",
    "    else:\n",
    "        print(valor.lower())"
   ]
  },
  {
   "cell_type": "markdown",
   "id": "f7b64834",
   "metadata": {},
   "source": [
    "### Zip\n",
    "\n",
    "Vamos pensar em um problema onde precisamos percorrer duas listas simultaneamente. Por exemplo, considere que temos uma lista com os nomes de todos os alunos de uma turma, e outra com as notas, na mesma ordem. Como faríamos para acessar, simultaneamente, o nome de um aluno e a sua nota?\n",
    "\n",
    "Esse é um problema onde, a princípio, utilizaríamos índice. Se usarmos o mesmo índice nas duas listas, estamos na prática percorrendo ambas as listas simultaneamente:"
   ]
  },
  {
   "cell_type": "code",
   "execution_count": 30,
   "id": "5ffd2169",
   "metadata": {
    "ExecuteTime": {
     "end_time": "2022-10-03T14:40:59.237858Z",
     "start_time": "2022-10-03T14:40:59.226836Z"
    }
   },
   "outputs": [
    {
     "name": "stdout",
     "output_type": "stream",
     "text": [
      "Aluno Paul: 10\n",
      "Aluno John: 9.5\n",
      "Aluno George: 7\n",
      "Aluno Ringo: 6\n"
     ]
    }
   ],
   "source": [
    "alunos = ['Paul', 'John', 'George', 'Ringo']\n",
    "notas = [10, 9.5, 7, 6]\n",
    "notas3 = [11, 12, 14, 15]\n",
    "\n",
    "for indice in range(len(alunos)):\n",
    "    print(f'Aluno {alunos[indice]}: {notas[indice]}')"
   ]
  },
  {
   "cell_type": "markdown",
   "id": "37f8041f",
   "metadata": {},
   "source": [
    "Vamos ver agora o **zip** em ação para compreender como ele funciona:"
   ]
  },
  {
   "cell_type": "code",
   "execution_count": 31,
   "id": "43e48e6e",
   "metadata": {
    "ExecuteTime": {
     "end_time": "2022-10-03T14:41:15.429178Z",
     "start_time": "2022-10-03T14:41:15.416151Z"
    }
   },
   "outputs": [
    {
     "name": "stdout",
     "output_type": "stream",
     "text": [
      "('Paul', 10)\n",
      "('John', 9.5)\n",
      "('George', 7)\n",
      "('Ringo', 6)\n"
     ]
    }
   ],
   "source": [
    "for x in zip(alunos, notas):\n",
    "    print(x)\n",
    "\n",
    "# for x in zip(alunos, notas, notas3):\n",
    "#     print(x)"
   ]
  },
  {
   "cell_type": "markdown",
   "id": "3c1a4e6d",
   "metadata": {},
   "source": [
    "Assim como no **enumerate**, o **zip** montou tuplas. Cada tupla representa 1 posição das listas originais, e cada posição dentro da tupla representa o dado de uma das listas. Ou seja, cada elemento do **zip** contém 1 elemento de cada lista original, na ordem que eles apareceram nas listas originais. Logo, ele permite percorrer 2 listas simultaneamente.\n",
    "\n",
    "Novamente podemos aplicar desempacotamento de tuplas em nosso loop e acessar os dados de cada lista individualmente de maneira legível:"
   ]
  },
  {
   "cell_type": "code",
   "execution_count": 32,
   "id": "557bc716",
   "metadata": {
    "ExecuteTime": {
     "end_time": "2022-10-03T14:41:32.033957Z",
     "start_time": "2022-10-03T14:41:32.013958Z"
    }
   },
   "outputs": [
    {
     "name": "stdout",
     "output_type": "stream",
     "text": [
      "Aluno Paul: 10\n",
      "Aluno John: 9.5\n",
      "Aluno George: 7\n",
      "Aluno Ringo: 6\n"
     ]
    }
   ],
   "source": [
    "alunos = ['Paul', 'John', 'George', 'Ringo']\n",
    "notas = [10, 9.5, 7, 6]\n",
    "\n",
    "for aluno, nota in zip(alunos, notas):\n",
    "    print(f'Aluno {aluno}: {nota}')"
   ]
  },
  {
   "cell_type": "markdown",
   "id": "2f1339d2",
   "metadata": {},
   "source": [
    "## Exercícios\n",
    "\n",
    "1. Defina duas tuplas: uma com nomes de comida (pelo menos 5 nomes) e outra com os preços das comidas - preservando a ordem. Mostre no *standard output* a relação de comida-preço.\n",
    "\n",
    "2. Agora, ainda com as tuplas acima, pegue apenas o nome e o preço das três comidas no meio da tupla. (considere \"meio da lista\" como sendo, por exemplo: ('A', 'B', 'C', 'D', 'E') --> ('B', 'C', 'D').\n",
    "\n",
    "3. Defina uma tupla com pelo menos cinco valores e mostre no *standard output* esta tupla invertida. (exemplo, (1, 2, 3, 4) --> (4, 3, 2, 1)\n",
    "\n",
    "4. Dada a seguinte tupla: (('a', 23),('b', 37),('c', 11), ('d',29)). Ordene esta tupla de acordo com o segundo item.\n",
    "\n",
    "5. Defina uma tupla com pelo menos dez itens e crie uma nova tupla com apenas os itens de índice PAR da tupla original."
   ]
  },
  {
   "cell_type": "code",
   "execution_count": 22,
   "id": "dc0a5470",
   "metadata": {
    "ExecuteTime": {
     "end_time": "2022-10-07T13:42:38.900390Z",
     "start_time": "2022-10-07T13:42:38.873193Z"
    }
   },
   "outputs": [
    {
     "name": "stdout",
     "output_type": "stream",
     "text": [
      "[('abobora', 10), ('tomate', 12), ('feijao', 7), ('abacate', 3), ('abacaxi', 32)]\n"
     ]
    }
   ],
   "source": [
    "# Exercício 1:\n",
    "\n",
    "comidas = ('abobora', 'tomate', 'feijao', 'abacate', 'abacaxi')\n",
    "precos  = (10, 12, 7, 3, 32)\n",
    "\n",
    "print(list(zip(comidas, precos)))"
   ]
  },
  {
   "cell_type": "code",
   "execution_count": 23,
   "id": "4bcd657f",
   "metadata": {
    "ExecuteTime": {
     "end_time": "2022-10-07T13:42:40.472673Z",
     "start_time": "2022-10-07T13:42:40.457498Z"
    }
   },
   "outputs": [
    {
     "name": "stdout",
     "output_type": "stream",
     "text": [
      "[('tomate', 12), ('feijao', 7), ('abacate', 3)]\n"
     ]
    }
   ],
   "source": [
    "# Exercício 2:\n",
    "\n",
    "inicio, *meio, fim = zip(comidas, precos)\n",
    "print(meio)"
   ]
  },
  {
   "cell_type": "code",
   "execution_count": 24,
   "id": "22080972",
   "metadata": {
    "ExecuteTime": {
     "end_time": "2022-10-07T13:42:44.025628Z",
     "start_time": "2022-10-07T13:42:44.005559Z"
    }
   },
   "outputs": [
    {
     "name": "stdout",
     "output_type": "stream",
     "text": [
      "('abacaxi', 'abacate', 'feijao', 'tomate', 'abobora')\n"
     ]
    }
   ],
   "source": [
    "# Exercício 3:\n",
    "\n",
    "comidasTupla = tuple(comidas)\n",
    "print(comidasTupla[::-1])"
   ]
  },
  {
   "cell_type": "code",
   "execution_count": 26,
   "id": "24792a03",
   "metadata": {
    "ExecuteTime": {
     "end_time": "2022-10-07T13:43:04.602702Z",
     "start_time": "2022-10-07T13:43:04.575016Z"
    }
   },
   "outputs": [
    {
     "name": "stdout",
     "output_type": "stream",
     "text": [
      "(('c', 11), ('a', 23), ('d', 29), ('b', 37))\n",
      "\n",
      "(('c', 11), ('a', 23), ('d', 29), ('b', 37))\n"
     ]
    }
   ],
   "source": [
    "# Exercício 4:\n",
    "\n",
    "tupla = (('a', 23), ('b', 37), ('c', 11), ('d', 29))\n",
    "tuplaOrdenada1 = tuple(sorted(list(tupla), key=lambda x: x[1]))\n",
    "print(tuplaOrdenada1, end='\\n\\n')\n",
    "\n",
    "# Método com LOOP\n",
    "\n",
    "auxiliar = []\n",
    "for i in tupla:\n",
    "    auxiliar.append(i[1])\n",
    "\n",
    "auxiliar.sort()\n",
    "\n",
    "tuplaOrdenada2 = []\n",
    "for i in auxiliar:\n",
    "    for j in tupla:\n",
    "        if j[1] == i:\n",
    "            tuplaOrdenada2.append(j)\n",
    "            continue\n",
    "\n",
    "tuplaOrdenada2 = tuple(tuplaOrdenada2)\n",
    "print(tuplaOrdenada2)"
   ]
  },
  {
   "cell_type": "code",
   "execution_count": 31,
   "id": "43a9b221",
   "metadata": {
    "ExecuteTime": {
     "end_time": "2022-10-07T13:44:50.969028Z",
     "start_time": "2022-10-07T13:44:50.952525Z"
    }
   },
   "outputs": [
    {
     "name": "stdout",
     "output_type": "stream",
     "text": [
      "('abobora', 'feijao', 'abacaxi', 12, 3)\n"
     ]
    }
   ],
   "source": [
    "# Exercício 5:\n",
    "\n",
    "tuplaExemplo = comidas + precos\n",
    "\n",
    "tuplaPares = []\n",
    "for idx, i in enumerate(tuplaExemplo):\n",
    "    if idx % 2 == 0:\n",
    "        tuplaPares.append(i)\n",
    "\n",
    "tuplaPares = tuple(tuplaPares)\n",
    "# print(tuplaExemplo)\n",
    "print(tuplaPares)"
   ]
  }
 ],
 "metadata": {
  "kernelspec": {
   "display_name": "Python 3 (ipykernel)",
   "language": "python",
   "name": "python3"
  },
  "language_info": {
   "codemirror_mode": {
    "name": "ipython",
    "version": 3
   },
   "file_extension": ".py",
   "mimetype": "text/x-python",
   "name": "python",
   "nbconvert_exporter": "python",
   "pygments_lexer": "ipython3",
   "version": "3.10.2"
  },
  "latex_envs": {
   "LaTeX_envs_menu_present": true,
   "autoclose": false,
   "autocomplete": true,
   "bibliofile": "biblio.bib",
   "cite_by": "apalike",
   "current_citInitial": 1,
   "eqLabelWithNumbers": true,
   "eqNumInitial": 1,
   "hotkeys": {
    "equation": "Ctrl-E",
    "itemize": "Ctrl-I"
   },
   "labels_anchors": false,
   "latex_user_defs": false,
   "report_style_numbering": false,
   "user_envs_cfg": false
  },
  "toc": {
   "base_numbering": 1,
   "nav_menu": {},
   "number_sections": true,
   "sideBar": true,
   "skip_h1_title": false,
   "title_cell": "Table of Contents",
   "title_sidebar": "Contents",
   "toc_cell": false,
   "toc_position": {},
   "toc_section_display": true,
   "toc_window_display": false
  },
  "varInspector": {
   "cols": {
    "lenName": 16,
    "lenType": 16,
    "lenVar": 40
   },
   "kernels_config": {
    "python": {
     "delete_cmd_postfix": "",
     "delete_cmd_prefix": "del ",
     "library": "var_list.py",
     "varRefreshCmd": "print(var_dic_list())"
    },
    "r": {
     "delete_cmd_postfix": ") ",
     "delete_cmd_prefix": "rm(",
     "library": "var_list.r",
     "varRefreshCmd": "cat(var_dic_list()) "
    }
   },
   "types_to_exclude": [
    "module",
    "function",
    "builtin_function_or_method",
    "instance",
    "_Feature"
   ],
   "window_display": false
  }
 },
 "nbformat": 4,
 "nbformat_minor": 5
}
