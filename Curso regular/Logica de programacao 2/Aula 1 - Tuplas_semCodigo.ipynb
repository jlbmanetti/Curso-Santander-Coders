{
 "cells": [
  {
   "attachments": {},
   "cell_type": "markdown",
   "id": "4cc24c5d",
   "metadata": {},
   "source": [
    "# Tuplas\n",
    "\n",
    "Neste capítulo estudaremos uma estrutura de dados, ou seja, uma forma estruturada de armazenar múltiplos dados. Você provavelmente já estudou pelo menos outra estrutura de dados em Python: a **lista**.\n",
    "\n",
    "Vamos brevemente revisar os conceitos de lista, pois eles serão úteis para compreender nossa nova estrutura, a **tupla**.\n",
    "\n",
    "Focaremos em funcionalidades, não em funções prontas e métodos de lista."
   ]
  },
  {
   "attachments": {},
   "cell_type": "markdown",
   "id": "4e798983",
   "metadata": {},
   "source": [
    "## Revisão de Listas\n",
    "\n",
    "### Criando uma Lista e Acessando Elementos\n",
    "\n",
    "A lista é uma coleção de objetos em Python. Criando uma única variável para representar a lista, podemos armazenar múltiplos valores. Internamente, esses valores são representados por seus **índices**: um número inteiro, iniciando em zero e incrementando com passo unitário. \n",
    "\n",
    "Podemos criar uma lista através da função ```list``` ou utilizando um par de colchetes:"
   ]
  },
  {
   "cell_type": "code",
   "execution_count": null,
   "id": "c1fb0faa",
   "metadata": {
    "ExecuteTime": {
     "end_time": "2022-10-03T22:28:47.303401Z",
     "start_time": "2022-10-03T22:28:47.286291Z"
    }
   },
   "outputs": [],
   "source": []
  },
  {
   "attachments": {},
   "cell_type": "markdown",
   "id": "538e6640",
   "metadata": {},
   "source": [
    "### Iterando uma Lista\n",
    "\n",
    "Como os elementos em uma lista são representados por números inteiros, podemos facilmente percorrê-la variando seu índice de maneira automatizada:"
   ]
  },
  {
   "cell_type": "code",
   "execution_count": null,
   "id": "4eba5d4c",
   "metadata": {
    "ExecuteTime": {
     "end_time": "2022-10-03T22:30:13.161953Z",
     "start_time": "2022-10-03T22:30:13.147886Z"
    }
   },
   "outputs": [],
   "source": []
  },
  {
   "attachments": {},
   "cell_type": "markdown",
   "id": "5a1e263e",
   "metadata": {},
   "source": [
    "Apesar de funcionar, essa forma é considerada pouco legível. Existe uma maneira mais direta de percorrer uma lista. Ao trocarmos a função *range* do nosso *for* pela própria lista, ele irá **copiar** cada elemento da lista para a variável temporária. Assim conseguimos facilmente, e de maneira bem legível, acessar todos os elementos de uma lista:"
   ]
  },
  {
   "cell_type": "code",
   "execution_count": null,
   "id": "24bcf9f8",
   "metadata": {
    "ExecuteTime": {
     "end_time": "2022-10-03T22:31:07.107490Z",
     "start_time": "2022-10-03T22:31:07.090849Z"
    }
   },
   "outputs": [],
   "source": []
  },
  {
   "attachments": {},
   "cell_type": "markdown",
   "id": "288aedad",
   "metadata": {},
   "source": [
    "Caso tenhamos listas aninhadas, podemos percorrê-las aninhando loops. Utilizamos um loop para cada \"nível\" de lista. Execute o bloco abaixo e veja seu resultado na tela:"
   ]
  },
  {
   "cell_type": "code",
   "execution_count": null,
   "id": "ece6200f",
   "metadata": {
    "ExecuteTime": {
     "end_time": "2022-10-03T22:35:28.012812Z",
     "start_time": "2022-10-03T22:35:27.994739Z"
    }
   },
   "outputs": [],
   "source": []
  },
  {
   "attachments": {},
   "cell_type": "markdown",
   "id": "baf0f5e1",
   "metadata": {},
   "source": [
    "### *Slicing* de Listas\n",
    "\n",
    "Uma operação bastante comum em uma lista é extrair apenas uma parte dela. Para isso você deve informar, pelo menos, o índice inicial e o índice final, sendo que o índice final não irá entrar na conta - dizemos que ele é um valor \"exclusivo\", como se fosse um intervalo aberto naquele ponto."
   ]
  },
  {
   "cell_type": "code",
   "execution_count": null,
   "id": "2fd999b5",
   "metadata": {
    "ExecuteTime": {
     "end_time": "2022-10-03T22:40:36.189127Z",
     "start_time": "2022-10-03T22:40:36.177589Z"
    }
   },
   "outputs": [],
   "source": []
  },
  {
   "attachments": {},
   "cell_type": "markdown",
   "id": "160bf1d2",
   "metadata": {},
   "source": [
    "Você pode deixar um dos dois índices em branco. Na ausência do primeiro índice, a operação se iniciará com o índice 0 da lista original. Na ausência do segundo, a operação seguirá até o final da lista original."
   ]
  },
  {
   "cell_type": "code",
   "execution_count": null,
   "id": "4724d0b2",
   "metadata": {
    "ExecuteTime": {
     "end_time": "2022-10-03T22:42:34.452891Z",
     "start_time": "2022-10-03T22:42:34.440344Z"
    }
   },
   "outputs": [],
   "source": []
  },
  {
   "attachments": {},
   "cell_type": "markdown",
   "id": "c7bda707",
   "metadata": {},
   "source": [
    "Também podemos utilizar índices negativos. O índice -1 acessa o último elemento da lista, o -2 acessa o penúltimo, e assim sucessivamente. Podemos reescrever o exemplo anterior utilizando números negativos para facilitar ainda mais a legibilidade e tornar o exemplo mais genérico e independente do tamanho da lista:"
   ]
  },
  {
   "cell_type": "code",
   "execution_count": null,
   "id": "05088d51",
   "metadata": {
    "ExecuteTime": {
     "end_time": "2022-10-03T22:44:05.475565Z",
     "start_time": "2022-10-03T22:44:05.454941Z"
    }
   },
   "outputs": [],
   "source": []
  },
  {
   "attachments": {},
   "cell_type": "markdown",
   "id": "0c1aaf98",
   "metadata": {
    "ExecuteTime": {
     "end_time": "2022-10-03T14:32:35.521435Z",
     "start_time": "2022-10-03T14:32:35.495433Z"
    }
   },
   "source": [
    "Você deve se recordar que atribuir uma lista para outra **não** copia a lista. Veja o exemplo abaixo:"
   ]
  },
  {
   "cell_type": "code",
   "execution_count": null,
   "id": "e0236780",
   "metadata": {
    "ExecuteTime": {
     "end_time": "2022-10-03T22:45:29.401019Z",
     "start_time": "2022-10-03T22:45:29.384398Z"
    }
   },
   "outputs": [],
   "source": []
  },
  {
   "attachments": {},
   "cell_type": "markdown",
   "id": "24cfabc5",
   "metadata": {
    "ExecuteTime": {
     "end_time": "2022-10-03T14:33:00.429010Z",
     "start_time": "2022-10-03T14:33:00.415009Z"
    }
   },
   "source": [
    "Quando atribuímos uma lista existente para uma variável, a variável irá referenciar **a mesma** lista na memória. Portanto, operações realizadas na lista \"nova\" irão afetar a lista \"antiga\". Não houve a criação de uma nova lista de fato.\n",
    "\n",
    "Uma forma fácil de **copiar** de verdade uma lista para outra lista é utilizar um slice indo do início até o final da lista original:"
   ]
  },
  {
   "cell_type": "code",
   "execution_count": null,
   "id": "6ae317df",
   "metadata": {
    "ExecuteTime": {
     "end_time": "2022-10-03T22:49:20.876112Z",
     "start_time": "2022-10-03T22:49:20.859560Z"
    }
   },
   "outputs": [],
   "source": []
  },
  {
   "attachments": {},
   "cell_type": "markdown",
   "id": "bd31f9b8",
   "metadata": {},
   "source": [
    "`copia_frutas` e `frutas` não referenciam a mesma lista. Elas referenciam duas listas diferentes contendo os mesmos elementos, mas modificações feitas em uma delas não irão afetar a outra.\n",
    "\n",
    "É possível passar mais um valor representando um passo ou salto. Por exemplo, podemos pegar os elementos das posições ímpares da lista começando na posição 1 e adotando salto igual a 2:"
   ]
  },
  {
   "cell_type": "code",
   "execution_count": null,
   "id": "46f8a1ca",
   "metadata": {
    "ExecuteTime": {
     "end_time": "2022-10-03T22:50:26.530156Z",
     "start_time": "2022-10-03T22:50:26.514536Z"
    }
   },
   "outputs": [],
   "source": []
  },
  {
   "attachments": {},
   "cell_type": "markdown",
   "id": "e7947026",
   "metadata": {},
   "source": [
    "Com saltos negativos, é fácil inverter uma lista:"
   ]
  },
  {
   "cell_type": "code",
   "execution_count": null,
   "id": "35bc69cb",
   "metadata": {
    "ExecuteTime": {
     "end_time": "2022-10-03T22:51:44.135134Z",
     "start_time": "2022-10-03T22:51:44.116532Z"
    }
   },
   "outputs": [],
   "source": []
  },
  {
   "attachments": {},
   "cell_type": "markdown",
   "id": "74dce864",
   "metadata": {},
   "source": [
    "### Concatenação de Listas\n",
    "\n",
    "Uma operação útil em listas é a concatenação. Quando \"somamos\" duas listas, utilizando o operador **+**, teremos uma nova lista com os elementos das duas listas originais em ordem de aparição:"
   ]
  },
  {
   "cell_type": "code",
   "execution_count": null,
   "id": "fd9cbcf2",
   "metadata": {
    "ExecuteTime": {
     "end_time": "2022-10-03T22:52:44.706212Z",
     "start_time": "2022-10-03T22:52:44.689065Z"
    }
   },
   "outputs": [],
   "source": []
  },
  {
   "attachments": {},
   "cell_type": "markdown",
   "id": "d0a0ac80",
   "metadata": {},
   "source": [
    "## Tuplas\n",
    "\n",
    "### Operações Básicas\n",
    "\n",
    "Assim como as listas, tuplas também são coleções de objetos. Elas podem armazenar diversos objetos de diferentes tipos. Elas também possuem índice, que se comporta da mesma maneira que os índices de uma lista. Podemos criar tuplas utilizando parênteses ou a função ```tuple```. Caso a tupla possua pelo menos 2 elementos, não precisamos dos parênteses, basta separar os valores por vírgula, apesar de ser **recomendável** utilizá-los para evitar ambiguidades:"
   ]
  },
  {
   "cell_type": "code",
   "execution_count": null,
   "id": "44c3a648",
   "metadata": {
    "ExecuteTime": {
     "end_time": "2022-10-03T22:59:38.816942Z",
     "start_time": "2022-10-03T22:59:38.801946Z"
    }
   },
   "outputs": [],
   "source": []
  },
  {
   "attachments": {},
   "cell_type": "markdown",
   "id": "2cc98cb0",
   "metadata": {},
   "source": [
    "Todas as outras operações que revisamos hoje em listas podem ser realizadas com tuplas:\n",
    "* iteração através de um loop do tipo `for`\n",
    "* _slicing_ passando índice inicial, final e salto\n",
    "* concatenação\n",
    "\n",
    "É possível também fazer conversão de lista para tupla e vice-versa:"
   ]
  },
  {
   "cell_type": "code",
   "execution_count": null,
   "id": "d23b54ff",
   "metadata": {
    "ExecuteTime": {
     "end_time": "2022-10-03T23:23:28.835152Z",
     "start_time": "2022-10-03T23:23:28.813994Z"
    }
   },
   "outputs": [],
   "source": []
  },
  {
   "attachments": {},
   "cell_type": "markdown",
   "id": "cb3f5519",
   "metadata": {},
   "source": [
    "### Imutabilidade\n",
    "\n",
    "Listas possuem uma propriedade que a tupla **não** possui: **mutabilidade**. O código abaixo irá funcionar para a operação na lista, mas irá falhar para a operação na tupla:"
   ]
  },
  {
   "cell_type": "code",
   "execution_count": null,
   "id": "3995a75d",
   "metadata": {
    "ExecuteTime": {
     "end_time": "2022-10-03T23:27:04.427552Z",
     "start_time": "2022-10-03T23:27:04.406587Z"
    }
   },
   "outputs": [],
   "source": []
  },
  {
   "attachments": {},
   "cell_type": "markdown",
   "id": "4e628ab3",
   "metadata": {},
   "source": [
    "Por que alguém escolheria uma estrutura imutável? Por que usar uma lista com _menos recursos_? O principal motivo é precisamente quando não convém alterar os dados. Em Python é muito difícil \"proibir\" algo: nada impede outro programador de transformar a tupla em uma lista, fazer alterações na lista e salvar a nova tupla \"por cima\" da velha, utilizando o mesmo nome para a nova. \n",
    "\n",
    "Porém, quando utilizamos uma tupla, estamos **sinalizando** que aqueles dados **não deveriam** ser alterados, e ninguém irá conseguir alterá-los por acidente. Para alterá-los será necessário realizar uma série de conversões de maneira intencional.\n",
    "\n",
    "Isso aumenta um pouco a segurança e confiabilidade de nosso código em certas situações, evitando a alteração indevida de dados que podem ser críticos para o bom funcionamento do nosso programa.\n",
    "\n",
    "Adicionalmente, em alguns contextos muito específicos - quantidades muito grandes de dados com uma grande quantidade de operações de **leitura** versus poucas ou nenhuma operação de **escrita** - a tupla pode oferecer desempenho significativamente superior à lista. São poucas as situações onde você sentirá essa diferença, seja porque para quantidades muito baixas de dados a lista possui uma série de otimizações que podem torná-la até mais veloz do que a tupla, seja porque para quantidades relativamente grandes de dados a lista ainda será razoavelmente rápida. "
   ]
  },
  {
   "attachments": {},
   "cell_type": "markdown",
   "id": "9e735b47",
   "metadata": {},
   "source": [
    "### Desempacotamento de tupla\n",
    "\n",
    "Uma operação bastante interessante que podemos realizar com tuplas é o **desempacotamento** de tuplas, que aparecerá em muitos locais com seu nome em inglês, *tuple unpacking*.\n",
    "\n",
    "O desempacotamento de tupla é uma operação que permite facilmente atribuir o conteúdo de uma tupla a variáveis individuais, sem a necessidade de escrever múltiplas linhas de código e manipular índices. Vejamos um exemplo básico:"
   ]
  },
  {
   "cell_type": "code",
   "execution_count": null,
   "id": "fcec41f4",
   "metadata": {
    "ExecuteTime": {
     "end_time": "2022-10-03T23:34:20.837589Z",
     "start_time": "2022-10-03T23:34:20.825210Z"
    }
   },
   "outputs": [],
   "source": []
  },
  {
   "attachments": {},
   "cell_type": "markdown",
   "id": "7ab39ed1",
   "metadata": {},
   "source": [
    "Uma limitação inicial que temos com essa técnica é que precisamos utilizar exatamente 1 variável para cada elemento da tupla, mesmo que não estejamos interessados em todos os seus elementos. Podemos contornar isso utilizando o operador **\\***. Ao utilizá-lo em uma das variáveis no desempacotamento, estamos sinalizando que ele pode receber múltiplos valores, formando uma coleção com parte dos valores:"
   ]
  },
  {
   "cell_type": "code",
   "execution_count": null,
   "id": "207a34c6",
   "metadata": {
    "ExecuteTime": {
     "end_time": "2022-10-03T23:39:49.205167Z",
     "start_time": "2022-10-03T23:39:49.189990Z"
    }
   },
   "outputs": [],
   "source": []
  },
  {
   "attachments": {},
   "cell_type": "markdown",
   "id": "5e88fdd5",
   "metadata": {},
   "source": [
    "> O desempacotamento também pode ser utilizado com listas. Um dos principais motivos para ele frequentemente ser lembrado como uma operação de tupla foi que ele inicialmente só existia, de fato, para tuplas, e foi implementado para listas em versões mais recentes do Python. Outro motivo está relacionado à imutabilidade: como a tupla é imutável, temos mais garantias de que sabemos qual dado está em cada posição dela, tornando essa operação mais confiável em tuplas do que em listas."
   ]
  },
  {
   "attachments": {},
   "cell_type": "markdown",
   "id": "bb914478",
   "metadata": {},
   "source": [
    "### Operações com tuplas \"implícitas\"\n",
    "\n",
    "O Python oferece alguns truques que permitem escrever códigos mais enxutos do que em outras linguagens, e parte desses truques utiliza sintaxe de tupla. Por exemplo, para criar duas variáveis e atribuir valores simultaneamente a elas, podemos utilizar vírgulas:"
   ]
  },
  {
   "cell_type": "code",
   "execution_count": null,
   "id": "fba3fed1",
   "metadata": {
    "ExecuteTime": {
     "end_time": "2022-10-03T23:42:25.837404Z",
     "start_time": "2022-10-03T23:42:25.817319Z"
    }
   },
   "outputs": [],
   "source": []
  },
  {
   "attachments": {},
   "cell_type": "markdown",
   "id": "4e849ad9",
   "metadata": {},
   "source": [
    "Outro truque relacionado bastante comum é inverter o valor de duas variáveis:"
   ]
  },
  {
   "cell_type": "code",
   "execution_count": null,
   "id": "2ad60de4",
   "metadata": {
    "ExecuteTime": {
     "end_time": "2022-10-03T23:44:41.297929Z",
     "start_time": "2022-10-03T23:44:41.262768Z"
    }
   },
   "outputs": [],
   "source": []
  },
  {
   "attachments": {},
   "cell_type": "markdown",
   "id": "ec777dc7",
   "metadata": {},
   "source": [
    "Esse tipo de operação é considerado *açúcar sintático*, ou seja, não acrescenta funcionalidades novas, apenas cria formas mais simples e legíveis de realizar operações que já éramos capazes de realizar anteriormente.\n",
    "\n",
    "Internamente, o Python está usando lógica de criar e desempacotar tuplas para realizar esse tipo de operação."
   ]
  },
  {
   "attachments": {},
   "cell_type": "markdown",
   "id": "2ce3848f",
   "metadata": {},
   "source": [
    "## Facilidades para iteração\n",
    "\n",
    "Sempre que possível, é preferível iterar uma coleção - seja ela uma lista ou uma tupla - de maneira direta utilizando *for* sem índices. Há alguns problemas onde pode ser difícil escapar do índice, pois nossa lógica irá depender de posição de alguma maneira.\n",
    "\n",
    "Veremos duas estruturas que irão nos auxiliar a fazer iteração por índice sem precisar utilizar uma estrutura pouco legível como:"
   ]
  },
  {
   "attachments": {},
   "cell_type": "markdown",
   "id": "9a8816bb",
   "metadata": {
    "ExecuteTime": {
     "end_time": "2022-10-03T14:39:33.041659Z",
     "start_time": "2022-10-03T14:39:33.018658Z"
    }
   },
   "source": [
    "```py\n",
    "for indice in range(len(lista)):\n",
    "    ...\n",
    "    lista[indice] = ...\n",
    "    ...\n",
    "```"
   ]
  },
  {
   "attachments": {},
   "cell_type": "markdown",
   "id": "978c3379",
   "metadata": {},
   "source": [
    "### Enumerate\n",
    "\n",
    "Considere um problema qualquer onde o índice importa. Por exemplo, suponha que você possua uma lista de strings e gostaria de exibi-la intercalando uma em letra maiúscula e outra em letra minúscula (assim como frequentemente representamos tabelas intercalando as cores de suas linhas em editores de planilha para melhorar a legibilidade).\n",
    "\n",
    "A lógica desse problema poderia ser resolvida usando índice: "
   ]
  },
  {
   "cell_type": "code",
   "execution_count": null,
   "id": "62b3d41f",
   "metadata": {
    "ExecuteTime": {
     "end_time": "2022-10-04T00:06:11.960005Z",
     "start_time": "2022-10-04T00:06:11.944527Z"
    }
   },
   "outputs": [],
   "source": []
  },
  {
   "attachments": {},
   "cell_type": "markdown",
   "id": "adc13f67",
   "metadata": {},
   "source": [
    "Existe uma ferramenta em Python que pode nos ajudar a escrever de maneira mais *pythonica*, sem precisar acessar lista por índice: o **enumerate**. Primeiro, vamos entender o que ele faz e, em seguida, veremos como deixar o código mais limpo:"
   ]
  },
  {
   "cell_type": "code",
   "execution_count": null,
   "id": "c0e1494e",
   "metadata": {
    "ExecuteTime": {
     "end_time": "2022-10-04T00:06:48.134234Z",
     "start_time": "2022-10-04T00:06:48.120313Z"
    }
   },
   "outputs": [],
   "source": []
  },
  {
   "attachments": {},
   "cell_type": "markdown",
   "id": "0e695254",
   "metadata": {},
   "source": [
    "O **enumerate** montou uma estrutura onde cada elemento é uma tupla, sendo o primeiro elemento da tupla um índice da lista, e o segundo o valor associado àquele índice. Aplicando desempacotamento de tupla no *for*, podemos ter, simultaneamente, índice e valor em variáveis separadas, na prática percorrendo a lista tanto por índice quanto por valor. Refazendo o exemplo das maiúsculas/minúsculas:"
   ]
  },
  {
   "cell_type": "code",
   "execution_count": null,
   "id": "da2b005a",
   "metadata": {
    "ExecuteTime": {
     "end_time": "2022-10-04T00:09:36.731880Z",
     "start_time": "2022-10-04T00:09:36.715772Z"
    }
   },
   "outputs": [],
   "source": []
  },
  {
   "attachments": {},
   "cell_type": "markdown",
   "id": "5dc5b25f",
   "metadata": {},
   "source": [
    "### Zip\n",
    "\n",
    "Vamos pensar em um problema onde precisamos percorrer duas listas simultaneamente. Por exemplo, considere que temos uma lista com os nomes de todos os alunos de uma turma, e outra com as notas, na mesma ordem. Como faríamos para acessar, simultaneamente, o nome de um aluno e a sua nota?\n",
    "\n",
    "Esse é um problema onde, a princípio, utilizaríamos índice. Se usarmos o mesmo índice nas duas listas, estamos na prática percorrendo ambas as listas simultaneamente:"
   ]
  },
  {
   "cell_type": "code",
   "execution_count": null,
   "id": "1b327041",
   "metadata": {
    "ExecuteTime": {
     "end_time": "2022-10-04T00:18:36.336764Z",
     "start_time": "2022-10-04T00:18:36.304267Z"
    }
   },
   "outputs": [],
   "source": []
  },
  {
   "attachments": {},
   "cell_type": "markdown",
   "id": "a1d4af1c",
   "metadata": {},
   "source": [
    "Vamos ver agora o **zip** em ação para compreender como ele funciona:"
   ]
  },
  {
   "cell_type": "code",
   "execution_count": null,
   "id": "a37e41cb",
   "metadata": {
    "ExecuteTime": {
     "end_time": "2022-10-04T00:18:40.970761Z",
     "start_time": "2022-10-04T00:18:40.955098Z"
    }
   },
   "outputs": [],
   "source": []
  },
  {
   "attachments": {},
   "cell_type": "markdown",
   "id": "f256b68b",
   "metadata": {},
   "source": [
    "Assim como no **enumerate**, o **zip** montou tuplas. Cada tupla representa 1 posição das listas originais, e cada posição dentro da tupla representa o dado de uma das listas. Ou seja, cada elemento do **zip** contém 1 elemento de cada lista original, na ordem que eles apareceram nas listas originais. Logo, ele permite percorrer 2 listas simultaneamente.\n",
    "\n",
    "Novamente podemos aplicar desempacotamento de tuplas em nosso loop e acessar os dados de cada lista individualmente de maneira legível:"
   ]
  },
  {
   "cell_type": "code",
   "execution_count": null,
   "id": "a45890d2",
   "metadata": {
    "ExecuteTime": {
     "end_time": "2022-10-04T00:14:55.921587Z",
     "start_time": "2022-10-04T00:14:55.899006Z"
    }
   },
   "outputs": [],
   "source": []
  },
  {
   "attachments": {},
   "cell_type": "markdown",
   "id": "816d8f92",
   "metadata": {},
   "source": [
    "## Exercícios\n",
    "\n",
    "1. Defina duas tuplas: uma com nomes de comida (pelo menos 5 nomes) e outra com os preços das comidas - preservando a ordem. Mostre no *standard output* a relação de comida-preço.\n",
    "\n",
    "2. Agora, ainda com as tuplas acima, pegue apenas o nome e o preço das três comidas no meio da tupla. (considere \"meio da lista\" como sendo, por exemplo: ('A', 'B', 'C', 'D', 'E') --> ('B', 'C', 'D').\n",
    "\n",
    "3. Defina uma tupla com pelo menos cinco valores e mostre no *standar output* esta tupla invertida. (exemplo, (1, 2, 3, 4) --> (4, 3, 2, 1)\n",
    "\n",
    "4. Dada a seguinte tupla: (('a', 23),('b', 37),('c', 11), ('d',29)). Ordene esta tupla de acordo com o segundo item.\n",
    "\n",
    "5. Defina uma tupla com pelo menos dez itens e crie uma nova tupla com apenas os itens de índice PAR da tupla original."
   ]
  }
 ],
 "metadata": {
  "kernelspec": {
   "display_name": "Python 3 (ipykernel)",
   "language": "python",
   "name": "python3"
  },
  "language_info": {
   "codemirror_mode": {
    "name": "ipython",
    "version": 3
   },
   "file_extension": ".py",
   "mimetype": "text/x-python",
   "name": "python",
   "nbconvert_exporter": "python",
   "pygments_lexer": "ipython3",
   "version": "3.10.2"
  },
  "latex_envs": {
   "LaTeX_envs_menu_present": true,
   "autoclose": false,
   "autocomplete": true,
   "bibliofile": "biblio.bib",
   "cite_by": "apalike",
   "current_citInitial": 1,
   "eqLabelWithNumbers": true,
   "eqNumInitial": 1,
   "hotkeys": {
    "equation": "Ctrl-E",
    "itemize": "Ctrl-I"
   },
   "labels_anchors": false,
   "latex_user_defs": false,
   "report_style_numbering": false,
   "user_envs_cfg": false
  },
  "toc": {
   "base_numbering": 1,
   "nav_menu": {},
   "number_sections": true,
   "sideBar": true,
   "skip_h1_title": false,
   "title_cell": "Table of Contents",
   "title_sidebar": "Contents",
   "toc_cell": false,
   "toc_position": {},
   "toc_section_display": true,
   "toc_window_display": false
  },
  "varInspector": {
   "cols": {
    "lenName": 16,
    "lenType": 16,
    "lenVar": 40
   },
   "kernels_config": {
    "python": {
     "delete_cmd_postfix": "",
     "delete_cmd_prefix": "del ",
     "library": "var_list.py",
     "varRefreshCmd": "print(var_dic_list())"
    },
    "r": {
     "delete_cmd_postfix": ") ",
     "delete_cmd_prefix": "rm(",
     "library": "var_list.r",
     "varRefreshCmd": "cat(var_dic_list()) "
    }
   },
   "types_to_exclude": [
    "module",
    "function",
    "builtin_function_or_method",
    "instance",
    "_Feature"
   ],
   "window_display": false
  }
 },
 "nbformat": 4,
 "nbformat_minor": 5
}
