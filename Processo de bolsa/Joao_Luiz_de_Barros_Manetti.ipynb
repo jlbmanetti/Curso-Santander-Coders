{
 "cells": [
  {
   "attachments": {},
   "cell_type": "markdown",
   "metadata": {},
   "source": [
    "# PROVA 30/06/23 - Santander Coders Engenharia de Dados\n",
    "João Luiz de Barros Manetti,\n",
    "Prof. Renata Marchese"
   ]
  },
  {
   "attachments": {},
   "cell_type": "markdown",
   "metadata": {},
   "source": [
    "Ex. 1\n",
    "Resposta: A\n",
    "\n",
    "A função input sempre retorna uma string por padrão"
   ]
  },
  {
   "attachments": {},
   "cell_type": "markdown",
   "metadata": {},
   "source": [
    "Ex. 2\n",
    "Resposta no código abaixo:"
   ]
  },
  {
   "cell_type": "code",
   "execution_count": 9,
   "metadata": {},
   "outputs": [
    {
     "name": "stdout",
     "output_type": "stream",
     "text": [
      "A resposta da letra (a) é: [10, 4]\n",
      "A resposta da letra (b) é: [4, 10]\n",
      "A resposta da letra (c) é: 7.0\n",
      "A resposta da letra (d) é: []\n"
     ]
    }
   ],
   "source": [
    "# código do ex 2\n",
    "\n",
    "b = \"\" #iniciamos o código com a condição S para permitir o while\n",
    "l = [] #lista para armazenar todos os valores inseridos\n",
    "lp = [] #lista para armazenar somente os numeros primos\n",
    "soma = 0 #variável para somar os valores inseridos e depois calcular a média\n",
    "\n",
    "while b != \"N\" and b != \"n\": #digitar N ou n cancela o loop\n",
    "    a = int(input('Digite um número inteiro: ')) #solicita o input de número inteiro\n",
    "    l.append(a) #faz o append desse numero inserido em nossa lista de valores inseridos em ordem\n",
    "    soma = soma + a #faz a soma dos valores inseridos\n",
    "\n",
    "    \n",
    "    #neste trecho checamos se o número inserido é primo, se sim o armazenamos com lp.append e prosseguimos, se não somente prosseguimos.\n",
    "    \n",
    "\n",
    "    b = input('Deseja inserir outro número? (S/N) ')\n",
    "    if b != \"S\" and b != \"s\" and b != \"N\" and b != \"n\": #caso não tenha sido digitado nenhuma das opções válidas\n",
    "        while b != \"S\" and b != \"s\" and b != \"N\" and b != \"n\": #rodar o while até que seja digitada uma opção válida\n",
    "            b = input('Deseja inserir outro número? (S/N) ')\n",
    "\n",
    "\n",
    "# A\n",
    "print(f'A resposta da letra (a) é: {l}')\n",
    "\n",
    "# B\n",
    "lcres = sorted(l) #organiza a lista l em ordem crescente\n",
    "print(f'A resposta da letra (b) é: {lcres}')\n",
    "\n",
    "# C\n",
    "media = soma/len(l) #calcula a média dos valores com base na soma deles e o número de elementos\n",
    "print(f'A resposta da letra (c) é: {media}')\n",
    "\n",
    "# D\n",
    "print(f'A resposta da letra (d) é: {lp}')"
   ]
  },
  {
   "attachments": {},
   "cell_type": "markdown",
   "metadata": {},
   "source": [
    "Ex. 3\n",
    "Resposta: D\n",
    "\n",
    "Ao executar o código dado, a mensagem de erro corresponde à alternativa D, dizendo que o método de listas .append() aceita somente um argumento e não dois como no código dado."
   ]
  },
  {
   "cell_type": "code",
   "execution_count": 5,
   "metadata": {},
   "outputs": [
    {
     "ename": "TypeError",
     "evalue": "list.append() takes exactly one argument (2 given)",
     "output_type": "error",
     "traceback": [
      "\u001b[1;31m---------------------------------------------------------------------------\u001b[0m",
      "\u001b[1;31mTypeError\u001b[0m                                 Traceback (most recent call last)",
      "Cell \u001b[1;32mIn[5], line 4\u001b[0m\n\u001b[0;32m      1\u001b[0m \u001b[39m# código do ex 3\u001b[39;00m\n\u001b[0;32m      3\u001b[0m sampleList \u001b[39m=\u001b[39m [\u001b[39m2\u001b[39m, \u001b[39m3.0\u001b[39m, \u001b[39m\"\u001b[39m\u001b[39mQuatro\u001b[39m\u001b[39m\"\u001b[39m]\n\u001b[1;32m----> 4\u001b[0m sampleList\u001b[39m.\u001b[39;49mappend(\u001b[39m3\u001b[39;49m, \u001b[39m\"\u001b[39;49m\u001b[39mScott\u001b[39;49m\u001b[39m\"\u001b[39;49m)\n\u001b[0;32m      5\u001b[0m \u001b[39mprint\u001b[39m(sampleList)\n",
      "\u001b[1;31mTypeError\u001b[0m: list.append() takes exactly one argument (2 given)"
     ]
    }
   ],
   "source": [
    "# código do ex 3\n",
    "\n",
    "sampleList = [2, 3.0, \"Quatro\"]\n",
    "sampleList.append(3, \"Scott\")\n",
    "print(sampleList)"
   ]
  },
  {
   "attachments": {},
   "cell_type": "markdown",
   "metadata": {},
   "source": [
    "Ex. 4\n",
    "Resposta: B\n",
    "\n",
    "Dentre as opções, somente o # pode ser utilizar para comentário no python "
   ]
  },
  {
   "attachments": {},
   "cell_type": "markdown",
   "metadata": {},
   "source": [
    "Ex. 5\n",
    "Resposta: x = (1, 1.5, 3.8)\n",
    "\n",
    "x = (1, 1.5, 3.8) não é uma lista, pois não está entre [ ]. Na verdade x é uma tupla."
   ]
  },
  {
   "attachments": {},
   "cell_type": "markdown",
   "metadata": {},
   "source": [
    "Ex. 6\n",
    "Resposta: A\n",
    "\n",
    "O código está em um loop infinito, ao adicionar x +=1 o while repetirá até que o x assuma o valor de 10 e então o while será encerrado"
   ]
  },
  {
   "cell_type": "code",
   "execution_count": 3,
   "metadata": {},
   "outputs": [
    {
     "name": "stdout",
     "output_type": "stream",
     "text": [
      "0\n",
      "1\n",
      "2\n",
      "3\n",
      "4\n",
      "5\n",
      "6\n",
      "7\n",
      "8\n",
      "9\n"
     ]
    }
   ],
   "source": [
    "# código do ex. 6\n",
    "\n",
    "x = 0\n",
    "y = 10\n",
    "while (x < 10):\n",
    "    y = x + 1\n",
    "    print(x)\n",
    "    x +=1"
   ]
  },
  {
   "attachments": {},
   "cell_type": "markdown",
   "metadata": {},
   "source": [
    "Ex. 7\n",
    "Resposta: B\n",
    "\n",
    "Ao executar o código dado, o valor imprimido é o 2, correspondente à alternativa B."
   ]
  },
  {
   "cell_type": "code",
   "execution_count": 4,
   "metadata": {},
   "outputs": [
    {
     "name": "stdout",
     "output_type": "stream",
     "text": [
      "2\n"
     ]
    }
   ],
   "source": [
    "# código do ex. 7\n",
    "\n",
    "x = 0\n",
    "a = 0\n",
    "b = -5\n",
    "if a > 0:\n",
    "    if b < 0: \n",
    "        x = x + 5 \n",
    "    elif a > 5:\n",
    "        x = x + 4\n",
    "    else:\n",
    "        x = x + 3\n",
    "else:\n",
    "    x = x + 2\n",
    "print(x)"
   ]
  },
  {
   "attachments": {},
   "cell_type": "markdown",
   "metadata": {},
   "source": [
    "Ex. 8\n",
    "Resposta no código abaixo:"
   ]
  },
  {
   "cell_type": "code",
   "execution_count": 17,
   "metadata": {},
   "outputs": [
    {
     "name": "stdout",
     "output_type": "stream",
     "text": [
      "[True, True, False, False, True]\n",
      "[True, True, False, False, True]\n",
      "Diagnóstico: Denge\n"
     ]
    }
   ],
   "source": [
    "# código do ex. 8\n",
    "\n",
    "#Diagnósticos conhecidos, restante é inconclusivo\n",
    "denge = [True, True, False, False, True]\n",
    "gripe1 = [True, True, True, True, False]\n",
    "gripe2 = [False, True, True, True, False]\n",
    "#gripe3 = [True, True, True, True, False] #Igual a gripe1\n",
    "sem_doenca = [True, False, False, False, False]\n",
    "sem_doenca2 = [False, False, False, False, False]\n",
    "\n",
    "#Respostas informadas\n",
    "resa = input(\"Sente dor no corpo? (S/N): \")\n",
    "if resa != \"S\" and resa != \"s\" and resa != \"N\" and resa != \"n\": #caso não tenha sido digitado nenhuma das opções válidas\n",
    "        while resa != \"S\" and resa != \"s\" and resa != \"N\" and resa != \"n\": #rodar o while até que seja digitada uma opção válida\n",
    "            resa = input(\"Sente dor no corpo? (S/N): \")\n",
    "\n",
    "if resa == \"s\" or resa == \"S\":\n",
    "      resa = True\n",
    "else:\n",
    "      resa = False\n",
    "\n",
    "resb = input(\"Você tem febre? (S/N): \")\n",
    "if resb != \"S\" and resb != \"s\" and resb != \"N\" and resb != \"n\": #caso não tenha sido digitado nenhuma das opções válidas\n",
    "        while resb != \"S\" and resb != \"s\" and resb != \"N\" and resb != \"n\": #rodar o while até que seja digitada uma opção válida\n",
    "            resb = input(\"Você tem febre? (S/N): \")\n",
    "\n",
    "if resb == \"s\" or resb == \"S\":\n",
    "      resb = True\n",
    "else:\n",
    "      resb = False\n",
    "\n",
    "resc = input(\"Você tem tosse? (S/N): \")\n",
    "if resc != \"S\" and resc != \"s\" and resc != \"N\" and resc != \"n\": #caso não tenha sido digitado nenhuma das opções válidas\n",
    "        while resc != \"S\" and resc != \"s\" and resc != \"N\" and resc != \"n\": #rodar o while até que seja digitada uma opção válida\n",
    "            resc = input(\"Você tem tosse? (S/N): \")\n",
    "\n",
    "if resc == \"s\" or resc == \"S\":\n",
    "      resc = True\n",
    "else:\n",
    "      resc = False\n",
    "\n",
    "resd = input(\"Está com congestão nasal? (S/N): \")\n",
    "if resd != \"S\" and resd != \"s\" and resd != \"N\" and resd != \"n\": #caso não tenha sido digitado nenhuma das opções válidas\n",
    "        while resd != \"S\" and resd != \"s\" and resd != \"N\" and resd != \"n\": #rodar o while até que seja digitada uma opção válida\n",
    "            resd = input(\"Está com congestão nasal? (S/N): \")\n",
    "\n",
    "if resd == \"s\" or resd == \"S\":\n",
    "      resd = True\n",
    "else:\n",
    "      resd = False\n",
    "\n",
    "rese = input(\"Tem manchas pelo corpo? (S/N): \")\n",
    "if rese != \"S\" and rese != \"s\" and rese != \"N\" and rese != \"n\": #caso não tenha sido digitado nenhuma das opções válidas\n",
    "        while rese != \"S\" and rese != \"s\" and rese != \"N\" and rese != \"n\": #rodar o while até que seja digitada uma opção válida\n",
    "            rese = input(\"Tem manchas pelo corpo? (S/N): \")\n",
    "\n",
    "if rese == \"s\" or rese == \"S\":\n",
    "      rese = True\n",
    "else:\n",
    "      rese = False\n",
    "\n",
    "resp = [resa, resb, resc, resd, rese] #lista com as respostas\n",
    "\n",
    "if resp == denge:\n",
    "      print('Diagnóstico: Denge')\n",
    "elif resp == gripe1 or resp == gripe2:\n",
    "      print('Diagnóstico: Gripe')\n",
    "elif resp == sem_doenca or resp == sem_doenca2:\n",
    "      print('Diagnóstico: Sem doença')\n",
    "else:\n",
    "      print('Diagnóstico: Inconclusivo')"
   ]
  },
  {
   "attachments": {},
   "cell_type": "markdown",
   "metadata": {},
   "source": [
    "Ex. 9\n",
    "Resposta no código abaixo:"
   ]
  },
  {
   "cell_type": "code",
   "execution_count": 20,
   "metadata": {},
   "outputs": [
    {
     "name": "stdout",
     "output_type": "stream",
     "text": [
      "['joao', 23, [10.0, 10.0], 10.0, True]\n"
     ]
    }
   ],
   "source": [
    "# código do ex. 9\n",
    "\n",
    "nome = input('Digite o seu nome: ')\n",
    "idade = int(input('Digite a sua idade: '))\n",
    "n = int(input('Digite o número de provas que você realizou: '))\n",
    "l_np = [] #lista onde serão armazenadas as notas das provas\n",
    "soma = 0 #variável utilizada para calcular a média\n",
    "\n",
    "for i in range(n):\n",
    "    i+=1\n",
    "    np = float(input(f'Digite a nota da {i}ª prova: '))\n",
    "    l_np.append(np) #lista de notas\n",
    "    soma = soma + np\n",
    "\n",
    "media = soma/len(l_np) #calcula a media\n",
    "\n",
    "if media >= 5: #checa se o aluno foi aprovado\n",
    "    aprov = True\n",
    "else:\n",
    "    aprov = False\n",
    "\n",
    "Resposta = [nome, idade, l_np, media, aprov]\n",
    "print(Resposta)"
   ]
  },
  {
   "cell_type": "code",
   "execution_count": null,
   "metadata": {},
   "outputs": [],
   "source": []
  }
 ],
 "metadata": {
  "kernelspec": {
   "display_name": "Python 3",
   "language": "python",
   "name": "python3"
  },
  "language_info": {
   "codemirror_mode": {
    "name": "ipython",
    "version": 3
   },
   "file_extension": ".py",
   "mimetype": "text/x-python",
   "name": "python",
   "nbconvert_exporter": "python",
   "pygments_lexer": "ipython3",
   "version": "3.11.1"
  },
  "orig_nbformat": 4
 },
 "nbformat": 4,
 "nbformat_minor": 2
}
