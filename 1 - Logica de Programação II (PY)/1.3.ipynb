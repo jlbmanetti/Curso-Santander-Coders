{
 "cells": [
  {
   "cell_type": "markdown",
   "metadata": {},
   "source": [
    "# Aula 3 - Exercícios\n",
    "1. Coloque em uma lista todos os números entre 1 e 1000 que sejam divisiveis por N, sendo N um número recebido no *standard input*;\n",
    "\n",
    "2. Coloque em uma lista todos os números entre 1 e 1000 que possuam um dígito N em sua composição, sendo N um número recebido no *standard input*;\n",
    "\n",
    "3. Conte o número de espaços em branco em uma *string* recebida pelo *standard input*;\n",
    "\n",
    "4. Crie uma lista com todas as consoantes em uma frase (de pelo menos 10 palavras) recebidas pelo *standard input*;\n",
    "\n",
    "5. Pegue o índice e o valor, na forma de tupla, para os itens na lista: ['oi', 4, 8.99, 'mamao', ('t,b', 'n')]. O resultado seria semelhante a (indice, valor), (indice, valor);\n",
    "\n",
    "6. Encontre os números em comum em duas listas (sem utilizar \"tupla\" ou \"set\"), sendo ambas as listas recebidas pelo *standard input* e com, pelo menos, 5 valores em cada;\n",
    "\n",
    "7. Receba uma frase pelo *standard input* e salve apenas os números encontrados nesta frase em uma lista;\n",
    "\n",
    "8. Dado o  seguinte iterável: numeros = range(20), produza uma lista contendo as palavras 'par' e 'impar' caso o número daquela posição seja par/impar. Teremos, ao final, uma segunda lista com ['impar', 'par', 'par', 'impar', etc];\n",
    "\n",
    "9. Construa uma lista de tuplas que tenha apenas os números em comum entre duas listas, sendo: lista1 = [1, 2, 3, 4, 5, 6, 7, 8, 9] e lista2 = [2, 7, 1, 12] e o resultado deve ser algo do tipo: [(1,1), (2,2), etc];\n",
    "\n",
    "10. Encontre todas as palavras em uma *string*, que contenham menos de 4 letras;\n",
    "\n",
    "11. Use uma compreensão de lista aninhada para encontrar todos os números entre 1-1000 que sejam divisiveis por algum número entre 2-9."
   ]
  },
  {
   "cell_type": "code",
   "execution_count": 3,
   "metadata": {},
   "outputs": [
    {
     "name": "stdout",
     "output_type": "stream",
     "text": [
      "[0, 50, 100, 150, 200, 250, 300, 350, 400, 450, 500, 550, 600, 650, 700, 750, 800, 850, 900, 950]\n"
     ]
    }
   ],
   "source": [
    "# 1\n",
    "n = int(input(\"saiba todos os valores de 0 a 1000 divisíveis por: \"))\n",
    "list_n = [ i for i in range (0,1000) if i % n == 0 ]\n",
    "print(list_n)"
   ]
  },
  {
   "cell_type": "code",
   "execution_count": 7,
   "metadata": {},
   "outputs": [
    {
     "name": "stdout",
     "output_type": "stream",
     "text": [
      "[2, 12, 20, 21, 22, 23, 24, 25, 26, 27, 28, 29, 32, 42, 52, 62, 72, 82, 92, 102, 112, 120, 121, 122, 123, 124, 125, 126, 127, 128, 129, 132, 142, 152, 162, 172, 182, 192, 200, 201, 202, 203, 204, 205, 206, 207, 208, 209, 210, 211, 212, 213, 214, 215, 216, 217, 218, 219, 220, 221, 222, 223, 224, 225, 226, 227, 228, 229, 230, 231, 232, 233, 234, 235, 236, 237, 238, 239, 240, 241, 242, 243, 244, 245, 246, 247, 248, 249, 250, 251, 252, 253, 254, 255, 256, 257, 258, 259, 260, 261, 262, 263, 264, 265, 266, 267, 268, 269, 270, 271, 272, 273, 274, 275, 276, 277, 278, 279, 280, 281, 282, 283, 284, 285, 286, 287, 288, 289, 290, 291, 292, 293, 294, 295, 296, 297, 298, 299, 302, 312, 320, 321, 322, 323, 324, 325, 326, 327, 328, 329, 332, 342, 352, 362, 372, 382, 392, 402, 412, 420, 421, 422, 423, 424, 425, 426, 427, 428, 429, 432, 442, 452, 462, 472, 482, 492, 502, 512, 520, 521, 522, 523, 524, 525, 526, 527, 528, 529, 532, 542, 552, 562, 572, 582, 592, 602, 612, 620, 621, 622, 623, 624, 625, 626, 627, 628, 629, 632, 642, 652, 662, 672, 682, 692, 702, 712, 720, 721, 722, 723, 724, 725, 726, 727, 728, 729, 732, 742, 752, 762, 772, 782, 792, 802, 812, 820, 821, 822, 823, 824, 825, 826, 827, 828, 829, 832, 842, 852, 862, 872, 882, 892, 902, 912, 920, 921, 922, 923, 924, 925, 926, 927, 928, 929, 932, 942, 952, 962, 972, 982, 992]\n"
     ]
    }
   ],
   "source": [
    "# 2\n",
    "n = input(\"saiba todos os valores de 0 a 1000 que possuem um dígito: \")\n",
    "list_n = [ i for i in range (0,1000) if n in str(i) ] # \"is\" and \"in\" are separate comparisons\n",
    "print(list_n)"
   ]
  },
  {
   "cell_type": "code",
   "execution_count": 14,
   "metadata": {},
   "outputs": [
    {
     "name": "stdout",
     "output_type": "stream",
     "text": [
      "4\n"
     ]
    }
   ],
   "source": [
    "# 3\n",
    "string = input(\"quantos espaços há na frase: \")\n",
    "list_str = [ i for i in string if i == \" \" ]\n",
    "print(len(list_str))"
   ]
  },
  {
   "cell_type": "code",
   "execution_count": 18,
   "metadata": {},
   "outputs": [
    {
     "name": "stdout",
     "output_type": "stream",
     "text": [
      "['f', 's', 'd', 'h', 'f', 'f', 'd', 'c', 'd']\n"
     ]
    }
   ],
   "source": [
    "# 4\n",
    "string = \"aefsde hffe duuucdeeaoo\"\n",
    "list_str = [ i for i in string if i not in [\"a\",\"e\",\"i\",\"o\",\"u\",\" \"]]\n",
    "print(list_str)"
   ]
  },
  {
   "cell_type": "code",
   "execution_count": 19,
   "metadata": {},
   "outputs": [
    {
     "name": "stdout",
     "output_type": "stream",
     "text": [
      "[(0, 'oi'), (1, 4), (2, 8.99), (3, 'mamao'), (4, ('t,b', 'n'))]\n"
     ]
    }
   ],
   "source": [
    "# 5\n",
    "lista = ['oi', 4, 8.99, 'mamao', ('t,b', 'n')]\n",
    "\n",
    "print([(key,value) for (key,value) in enumerate(lista)])"
   ]
  },
  {
   "cell_type": "code",
   "execution_count": 25,
   "metadata": {},
   "outputs": [
    {
     "name": "stdout",
     "output_type": "stream",
     "text": [
      "3\n"
     ]
    }
   ],
   "source": [
    "# 6\n",
    "lista1 = [1, 2, 3, 4]\n",
    "lista2 = [2, 3, 4, 5]\n",
    "\n",
    "print(len([i for i in lista1 if i in lista2]))"
   ]
  },
  {
   "cell_type": "code",
   "execution_count": 44,
   "metadata": {},
   "outputs": [
    {
     "name": "stdout",
     "output_type": "stream",
     "text": [
      "['1', '21', '4']\n"
     ]
    }
   ],
   "source": [
    "# 7\n",
    "a = \"carlos 1 pedro 21 maria 4\"\n",
    "a = a.split()\n",
    "\n",
    "b = [ i for i in a if not i.isalpha() ] # i.isalpha() checks within the loop, are the more expressions like this? probably\n",
    "\n",
    "print(b)"
   ]
  },
  {
   "cell_type": "code",
   "execution_count": 46,
   "metadata": {},
   "outputs": [
    {
     "name": "stdout",
     "output_type": "stream",
     "text": [
      "['par', 'impar', 'par', 'impar', 'par', 'impar', 'par', 'impar', 'par', 'impar', 'par', 'impar', 'par', 'impar', 'par', 'impar', 'par', 'impar', 'par', 'impar']\n"
     ]
    }
   ],
   "source": [
    "# 8\n",
    "numero = range(20)\n",
    "\n",
    "resultado = [ \"par\" if i % 2 == 0 else \"impar\" for i in numero]\n",
    "\n",
    "print(resultado)\n"
   ]
  },
  {
   "cell_type": "code",
   "execution_count": 49,
   "metadata": {},
   "outputs": [
    {
     "name": "stdout",
     "output_type": "stream",
     "text": [
      "[(1, 1), (2, 2), (7, 7)]\n"
     ]
    }
   ],
   "source": [
    "# 9\n",
    "lista1 = [1, 2, 3, 4, 5, 6, 7, 8, 9]\n",
    "lista2 = [2, 7, 1, 12]\n",
    "\n",
    "resultado = [(value1,value2) for value1 in lista1 for value2 in lista2 if value1==value2]\n",
    "print(resultado) \n"
   ]
  },
  {
   "cell_type": "code",
   "execution_count": 51,
   "metadata": {},
   "outputs": [
    {
     "name": "stdout",
     "output_type": "stream",
     "text": [
      "['On', 'a', 'summer', 'day', 'somner', 'smith', 'went', 'simming', 'in', 'the', 'sun', 'and', 'his', 'red', 'skin', 'stung']\n",
      "['On', 'a', 'day', 'in', 'the', 'sun', 'and', 'his', 'red']\n"
     ]
    }
   ],
   "source": [
    "# 10\n",
    "frase = 'On a summer day somner smith went simming in the sun and his red skin stung'\n",
    "examinar = frase.split() #separa texto em palavras, padrão \" \"\n",
    "\n",
    "print(examinar)\n",
    "resultado = [i for i in examinar if len(i) <= 3]\n",
    "print(resultado)"
   ]
  },
  {
   "cell_type": "code",
   "execution_count": 53,
   "metadata": {},
   "outputs": [
    {
     "name": "stdout",
     "output_type": "stream",
     "text": [
      "[2, 3, 4, 5, 6, 7, 8, 9, 10, 12, 14, 15, 16, 18, 20, 21, 22, 24, 25, 26, 27, 28, 30, 32, 33, 34, 35, 36, 38, 39, 40, 42, 44, 45, 46, 48, 49, 50, 51, 52, 54, 55, 56, 57, 58, 60, 62, 63, 64, 65, 66, 68, 69, 70, 72, 74, 75, 76, 77, 78, 80, 81, 82, 84, 85, 86, 87, 88, 90, 91, 92, 93, 94, 95, 96, 98, 99, 100, 102, 104, 105, 106, 108, 110, 111, 112, 114, 115, 116, 117, 118, 119, 120, 122, 123, 124, 125, 126, 128, 129, 130, 132, 133, 134, 135, 136, 138, 140, 141, 142, 144, 145, 146, 147, 148, 150, 152, 153, 154, 155, 156, 158, 159, 160, 161, 162, 164, 165, 166, 168, 170, 171, 172, 174, 175, 176, 177, 178, 180, 182, 183, 184, 185, 186, 188, 189, 190, 192, 194, 195, 196, 198, 200, 201, 202, 203, 204, 205, 206, 207, 208, 210, 212, 213, 214, 215, 216, 217, 218, 219, 220, 222, 224, 225, 226, 228, 230, 231, 232, 234, 235, 236, 237, 238, 240, 242, 243, 244, 245, 246, 248, 249, 250, 252, 254, 255, 256, 258, 259, 260, 261, 262, 264, 265, 266, 267, 268, 270, 272, 273, 274, 275, 276, 278, 279, 280, 282, 284, 285, 286, 287, 288, 290, 291, 292, 294, 295, 296, 297, 298, 300, 301, 302, 303, 304, 305, 306, 308, 309, 310, 312, 314, 315, 316, 318, 320, 321, 322, 324, 325, 326, 327, 328, 329, 330, 332, 333, 334, 335, 336, 338, 339, 340, 342, 343, 344, 345, 346, 348, 350, 351, 352, 354, 355, 356, 357, 358, 360, 362, 363, 364, 365, 366, 368, 369, 370, 371, 372, 374, 375, 376, 378, 380, 381, 382, 384, 385, 386, 387, 388, 390, 392, 393, 394, 395, 396, 398, 399, 400, 402, 404, 405, 406, 408, 410, 411, 412, 413, 414, 415, 416, 417, 418, 420, 422, 423, 424, 425, 426, 427, 428, 429, 430, 432, 434, 435, 436, 438, 440, 441, 442, 444, 445, 446, 447, 448, 450, 452, 453, 454, 455, 456, 458, 459, 460, 462, 464, 465, 466, 468, 469, 470, 471, 472, 474, 475, 476, 477, 478, 480, 482, 483, 484, 485, 486, 488, 489, 490, 492, 494, 495, 496, 497, 498, 500, 501, 502, 504, 505, 506, 507, 508, 510, 511, 512, 513, 514, 515, 516, 518, 519, 520, 522, 524, 525, 526, 528, 530, 531, 532, 534, 535, 536, 537, 538, 539, 540, 542, 543, 544, 545, 546, 548, 549, 550, 552, 553, 554, 555, 556, 558, 560, 561, 562, 564, 565, 566, 567, 568, 570, 572, 573, 574, 575, 576, 578, 579, 580, 581, 582, 584, 585, 586, 588, 590, 591, 592, 594, 595, 596, 597, 598, 600, 602, 603, 604, 605, 606, 608, 609, 610, 612, 614, 615, 616, 618, 620, 621, 622, 623, 624, 625, 626, 627, 628, 630, 632, 633, 634, 635, 636, 637, 638, 639, 640, 642, 644, 645, 646, 648, 650, 651, 652, 654, 655, 656, 657, 658, 660, 662, 663, 664, 665, 666, 668, 669, 670, 672, 674, 675, 676, 678, 679, 680, 681, 682, 684, 685, 686, 687, 688, 690, 692, 693, 694, 695, 696, 698, 699, 700, 702, 704, 705, 706, 707, 708, 710, 711, 712, 714, 715, 716, 717, 718, 720, 721, 722, 723, 724, 725, 726, 728, 729, 730, 732, 734, 735, 736, 738, 740, 741, 742, 744, 745, 746, 747, 748, 749, 750, 752, 753, 754, 755, 756, 758, 759, 760, 762, 763, 764, 765, 766, 768, 770, 771, 772, 774, 775, 776, 777, 778, 780, 782, 783, 784, 785, 786, 788, 789, 790, 791, 792, 794, 795, 796, 798, 800, 801, 802, 804, 805, 806, 807, 808, 810, 812, 813, 814, 815, 816, 818, 819, 820, 822, 824, 825, 826, 828, 830, 831, 832, 833, 834, 835, 836, 837, 838, 840, 842, 843, 844, 845, 846, 847, 848, 849, 850, 852, 854, 855, 856, 858, 860, 861, 862, 864, 865, 866, 867, 868, 870, 872, 873, 874, 875, 876, 878, 879, 880, 882, 884, 885, 886, 888, 889, 890, 891, 892, 894, 895, 896, 897, 898, 900, 902, 903, 904, 905, 906, 908, 909, 910, 912, 914, 915, 916, 917, 918, 920, 921, 922, 924, 925, 926, 927, 928, 930, 931, 932, 933, 934, 935, 936, 938, 939, 940, 942, 944, 945, 946, 948, 950, 951, 952, 954, 955, 956, 957, 958, 959, 960, 962, 963, 964, 965, 966, 968, 969, 970, 972, 973, 974, 975, 976, 978, 980, 981, 982, 984, 985, 986, 987, 988, 990, 992, 993, 994, 995, 996, 998, 999, 1000]\n"
     ]
    }
   ],
   "source": [
    "# 11\n",
    "n_list1 = range(1,1001) # 1 a 1000\n",
    "n_list2 = range(2,10) # 2 a 9\n",
    "\n",
    "resultado = [i for i in n_list1 if True in [True for j in n_list2 if i % j == 0]]\n",
    "print(resultado)"
   ]
  },
  {
   "cell_type": "code",
   "execution_count": null,
   "metadata": {},
   "outputs": [],
   "source": []
  }
 ],
 "metadata": {
  "kernelspec": {
   "display_name": "Python 3",
   "language": "python",
   "name": "python3"
  },
  "language_info": {
   "codemirror_mode": {
    "name": "ipython",
    "version": 3
   },
   "file_extension": ".py",
   "mimetype": "text/x-python",
   "name": "python",
   "nbconvert_exporter": "python",
   "pygments_lexer": "ipython3",
   "version": "3.11.1"
  },
  "orig_nbformat": 4
 },
 "nbformat": 4,
 "nbformat_minor": 2
}
