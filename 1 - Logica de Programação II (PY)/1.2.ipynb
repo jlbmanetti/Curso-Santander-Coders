{
 "cells": [
  {
   "cell_type": "markdown",
   "metadata": {},
   "source": [
    "### Aula 1"
   ]
  },
  {
   "cell_type": "code",
   "execution_count": null,
   "metadata": {},
   "outputs": [],
   "source": []
  },
  {
   "cell_type": "markdown",
   "metadata": {},
   "source": [
    "### Aula 2"
   ]
  },
  {
   "cell_type": "code",
   "execution_count": 3,
   "metadata": {},
   "outputs": [
    {
     "name": "stdout",
     "output_type": "stream",
     "text": [
      "1\n"
     ]
    }
   ],
   "source": [
    "# ex 1 - Crie um dicionário chamado \"alunos\" que mapeie os nomes dos alunos aos seus respectivos números de matrícula.\n",
    "# Adicione pelo menos três alunos ao dicionário e escreva depois solicite ao usuário um nome de aluno e imprima o número de matrícula correspondente.\n",
    "\n",
    "lalunos = ['marcos', 'joao', 'pedro']\n",
    "ln = [1,2,3]\n",
    "\n",
    "alunos = dict(zip(lalunos,ln))\n",
    "\n",
    "var = input('qual o nome do usuário desejado? :')\n",
    "print(alunos[var])"
   ]
  },
  {
   "cell_type": "code",
   "execution_count": 5,
   "metadata": {},
   "outputs": [
    {
     "name": "stdout",
     "output_type": "stream",
     "text": [
      "27\n"
     ]
    }
   ],
   "source": [
    "# ex 2 - Crie um dicionário chamado \"estoque\" que mapeie o nome dos produtos aos seus respectivos preços. Adicione alguns produtos ao estoque e depois calcule e imprima o valor total do estoque.\n",
    "prod = ['arroz','feijao','farinha']\n",
    "preco = [10,13,4]\n",
    "dicionario = dict(zip(prod,preco))\n",
    "total = 0\n",
    "\n",
    "for i in dicionario:\n",
    "    total = total + dicionario[i]\n",
    "\n",
    "print(total)"
   ]
  },
  {
   "cell_type": "code",
   "execution_count": 9,
   "metadata": {},
   "outputs": [
    {
     "name": "stdout",
     "output_type": "stream",
     "text": [
      "A palavra não foi encontrada\n"
     ]
    }
   ],
   "source": [
    "# ex 3 - Crie um dicionário chamado \"traducoes\" que mapeie algumas palavras em inglês aos seus respectivos significados em português.\n",
    "# Em seguida, solicite ao usuário uma palavra em inglês e imprima o significado correspondente em português.\n",
    "# Se a palavra não estiver no dicionário, imprima uma mensagem informando que a palavra não foi encontrada.\n",
    "\n",
    "traducoes = {'today':'hoje', 'tomorrow':'amanha', 'yesterday':'ontem'}\n",
    "var = input('Digite uma palavra em inglês :')\n",
    "if var in traducoes:\n",
    "    print(traducoes[var])\n",
    "else:\n",
    "    print('A palavra não foi encontrada')"
   ]
  },
  {
   "cell_type": "code",
   "execution_count": null,
   "metadata": {},
   "outputs": [],
   "source": [
    "# ex 4 - Você está desenvolvendo um sistema de gerenciamento de estoque para uma loja. Crie um dicionário chamado \"estoque\" que mapeie o nome de um produto a um dicionário contendo o preço e a quantidade em estoque.\n",
    "# Adicione alguns produtos ao dicionário e incremente o programa para permitir ao usuário fazer as seguintes operações:\n",
    "# Adicionar um produto ao estoque, fornecendo o nome, o preço e a quantidade.\n",
    "# Atualizar o preço de um produto existente no estoque.\n",
    "# Vender um determinado número de unidades de um produto e atualizar a quantidade em estoque.\n",
    "# Imprimir a lista completa de produtos e suas informações (nome, preço e quantidade).\n",
    "\n",
    "nome = [prod1, prod2, prod3]\n",
    "preco = [10,20,30]\n",
    "qtd = [100,100,100]\n",
    "\n",
    "estoque = dict(zip(nome,zip(preco,estoque)))\n",
    "\n",
    "act = input('O que deseja fazer (adicionar, atualizar, vender ou imprimir)? :')\n",
    "\n",
    "#adicionar prod ao estoque\n",
    "if act == 'adicionar':\n",
    "    adc1 = input('digite o nome do produto :')\n",
    "    adc2 = input('digite o preco do produto :')\n",
    "    adc3 = input('digite a quantidade do produto :')\n",
    "    estoque.update[adc1]=dict(adc2,adc3)\n",
    "    \n",
    "\n",
    "#atualizar preco de um prod\n",
    "elif act == 'atualizar':\n",
    "\n",
    "\n",
    "\n",
    "#vender qtd prod (atualizar estoque)\n",
    "elif act == 'vender':\n",
    "\n",
    "\n",
    "\n",
    "#imprimir lista completa de produtos\n",
    "elif act == 'imprimir':\n",
    "\n",
    "\n",
    "\n",
    "else:\n",
    "    print('argumento incorreto')\n",
    "    break"
   ]
  },
  {
   "cell_type": "code",
   "execution_count": null,
   "metadata": {},
   "outputs": [],
   "source": [
    "# ex 5 - Você está construindo um sistema de votação para uma eleição. Crie um dicionário chamado \"eleicao\" que mapeie os nomes dos candidatos aos seus respectivos números de votos.\n",
    "# Inicialmente, todos os candidatos têm zero votos e as seguintes operações devem poder ser executadas:\n",
    "# Registrar um voto para um candidato específico.\n",
    "# Verificar o número total de votos de um candidato.\n",
    "# Verificar o número total de votos contabilizados.\n",
    "# Imprimir a lista de candidatos e seus números de votos.\n",
    "\n",
    "\n",
    "\n"
   ]
  }
 ],
 "metadata": {
  "kernelspec": {
   "display_name": "Python 3",
   "language": "python",
   "name": "python3"
  },
  "language_info": {
   "codemirror_mode": {
    "name": "ipython",
    "version": 3
   },
   "file_extension": ".py",
   "mimetype": "text/x-python",
   "name": "python",
   "nbconvert_exporter": "python",
   "pygments_lexer": "ipython3",
   "version": "3.11.1"
  },
  "orig_nbformat": 4
 },
 "nbformat": 4,
 "nbformat_minor": 2
}
