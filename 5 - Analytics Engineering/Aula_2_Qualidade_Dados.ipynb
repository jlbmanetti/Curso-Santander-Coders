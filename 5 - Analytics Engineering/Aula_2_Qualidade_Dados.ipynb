{
 "cells": [
  {
   "cell_type": "markdown",
   "id": "2a806ddc",
   "metadata": {},
   "source": [
    "## Módulo: Analytics Engineering\n",
    "\n",
    "## Aula 2 - Parte 1"
   ]
  },
  {
   "cell_type": "markdown",
   "id": "961dbaed",
   "metadata": {},
   "source": [
    "### Programação da Aula 2:\n",
    "\n",
    "> ### 1. **Princípios de qualidade de dados e seus benefícios**:\n",
    "> ### 2. **Qualidade de dados na prática**;\n",
    "> ### 3. **Desenvolvimento de exercício**;\n",
    "\n",
    "#### Link para o formulário de Feedback da aula:\n",
    "https://forms.gle/8aCVnUDwASzeioLN8"
   ]
  },
  {
   "cell_type": "markdown",
   "id": "28b1ef5a",
   "metadata": {},
   "source": [
    "### **Princípios da qualidade de dados**\n",
    "\n",
    "- **Precisão:** Os dados precisos são dados que estão corretos e livres de erros. Eles são baseados em fontes confiáveis e são atualizados regularmente. A precisão dos dados pode ser afetada por erros de entrada manual, integração de dados de várias fontes, omissão de dados e duplicação de dados. Para garantir a precisão dos dados, é importante realizar verificações regulares dos dados para identificar e corrigir erros.\n",
    "\n",
    "- **Consistência:** Os dados consistentes são dados que estão no mesmo formato e mantêm as mesmas definições em todos os sistemas e processos. A consistência dos dados pode ser afetada pela falta de padronização dos dados, pela variação dos nomes de campos e pela falta de integridade referencial. Para garantir a consistência dos dados, é importante estabelecer padrões para a entrada de dados e verificar regularmente se esses padrões estão sendo seguidos.\n",
    "\n",
    "- **Confiabilidade:** Os dados confiáveis são dados que são precisos e consistentes, mas também são acessíveis e seguros. Eles são protegidos contra perda, roubo e corrupção, e podem ser acessados por usuários autorizados. A confiabilidade dos dados pode ser afetada pela falta de segurança de dados, pela falta de backups regulares e pela falta de controle de acesso aos dados. Para garantir a confiabilidade dos dados, é importante implementar práticas de segurança de dados, como backups regulares e controles de acesso.\n",
    "\n",
    "- **Relevância:** Os dados relevantes são dados que são necessários para as decisões empresariais. Eles são coletados com base nos requisitos do negócio e são relevantes para os usuários finais. A relevância dos dados pode ser afetada pela coleta de dados desnecessários ou pela falta de coleta de dados importantes. Para garantir a relevância dos dados, é importante estabelecer um processo para identificar os requisitos de dados do negócio e coletar apenas os dados necessários.\n",
    "\n",
    "\n",
    "### **Benefícios da qualidade de dados**\n",
    "\n",
    "- **Tomada de decisão mais informada:** Dados precisos, consistentes, confiáveis e relevantes permitem que as empresas tomem decisões informadas com base em informações precisas e confiáveis.\n",
    "\n",
    "- **Redução de custos:** Dados de baixa qualidade podem levar a decisões equivocadas, o que pode levar a custos adicionais para a empresa. Ao melhorar a qualidade dos dados, as empresas podem reduzir os custos desnecessários associados à tomada de decisão equivocada.\n",
    "\n",
    "- **Melhoria da eficiência:** Dados precisos e consistentes podem ajudar a melhorar a eficiência dos processos empresariais, reduzindo o tempo gasto na correção de erros e retrabalho.\n",
    "\n",
    "- **Aumento da satisfação do cliente:** Dados precisos e relevantes permitem que as empresas entendam melhor as necessidades de seus clientes e ofereçam soluções personalizadas para atender a essas necessidades. Isso pode levar a um aumento na satisfação do cliente e na fidelidade à marca.\n",
    "\n"
   ]
  },
  {
   "cell_type": "markdown",
   "id": "9d0a0895",
   "metadata": {},
   "source": [
    "### **Qualidade de dados na prática**"
   ]
  },
  {
   "cell_type": "markdown",
   "id": "70f259da",
   "metadata": {},
   "source": [
    "### Instalação das biblioteca para verificação do perfil dos dados"
   ]
  },
  {
   "cell_type": "code",
   "execution_count": 1,
   "id": "436a3d57",
   "metadata": {},
   "outputs": [
    {
     "name": "stdout",
     "output_type": "stream",
     "text": [
      "Requirement already satisfied: ydata_profiling in c:\\users\\andradema\\anaconda3\\envs\\ada\\lib\\site-packages (4.5.1)\n",
      "Requirement already satisfied: pydantic<2,>=1.8.1 in c:\\users\\andradema\\anaconda3\\envs\\ada\\lib\\site-packages (from ydata_profiling) (1.10.13)\n",
      "Requirement already satisfied: tqdm<5,>=4.48.2 in c:\\users\\andradema\\anaconda3\\envs\\ada\\lib\\site-packages (from ydata_profiling) (4.66.1)\n",
      "Requirement already satisfied: imagehash==4.3.1 in c:\\users\\andradema\\anaconda3\\envs\\ada\\lib\\site-packages (from ydata_profiling) (4.3.1)\n",
      "Requirement already satisfied: requests<3,>=2.24.0 in c:\\users\\andradema\\anaconda3\\envs\\ada\\lib\\site-packages (from ydata_profiling) (2.31.0)\n",
      "Requirement already satisfied: pandas!=1.4.0,<2.1,>1.1 in c:\\users\\andradema\\anaconda3\\envs\\ada\\lib\\site-packages (from ydata_profiling) (1.3.5)\n",
      "Requirement already satisfied: seaborn<0.13,>=0.10.1 in c:\\users\\andradema\\anaconda3\\envs\\ada\\lib\\site-packages (from ydata_profiling) (0.12.2)\n",
      "Requirement already satisfied: jinja2<3.2,>=2.11.1 in c:\\users\\andradema\\anaconda3\\envs\\ada\\lib\\site-packages (from ydata_profiling) (3.1.2)\n",
      "Requirement already satisfied: phik<0.13,>=0.11.1 in c:\\users\\andradema\\anaconda3\\envs\\ada\\lib\\site-packages (from ydata_profiling) (0.12.3)\n",
      "Requirement already satisfied: numpy<1.24,>=1.16.0 in c:\\users\\andradema\\anaconda3\\envs\\ada\\lib\\site-packages (from ydata_profiling) (1.21.6)\n",
      "Requirement already satisfied: wordcloud>=1.9.1 in c:\\users\\andradema\\anaconda3\\envs\\ada\\lib\\site-packages (from ydata_profiling) (1.9.2)\n",
      "Requirement already satisfied: typeguard<3,>=2.13.2 in c:\\users\\andradema\\anaconda3\\envs\\ada\\lib\\site-packages (from ydata_profiling) (2.13.3)\n",
      "Requirement already satisfied: dacite>=1.8 in c:\\users\\andradema\\anaconda3\\envs\\ada\\lib\\site-packages (from ydata_profiling) (1.8.1)\n",
      "Requirement already satisfied: PyYAML<6.1,>=5.0.0 in c:\\users\\andradema\\anaconda3\\envs\\ada\\lib\\site-packages (from ydata_profiling) (6.0.1)\n",
      "Requirement already satisfied: htmlmin==0.1.12 in c:\\users\\andradema\\anaconda3\\envs\\ada\\lib\\site-packages (from ydata_profiling) (0.1.12)\n",
      "Requirement already satisfied: multimethod<2,>=1.4 in c:\\users\\andradema\\anaconda3\\envs\\ada\\lib\\site-packages (from ydata_profiling) (1.9.1)\n",
      "Requirement already satisfied: matplotlib<4,>=3.2 in c:\\users\\andradema\\anaconda3\\envs\\ada\\lib\\site-packages (from ydata_profiling) (3.5.3)\n",
      "Requirement already satisfied: scipy<1.12,>=1.4.1 in c:\\users\\andradema\\anaconda3\\envs\\ada\\lib\\site-packages (from ydata_profiling) (1.7.3)\n",
      "Requirement already satisfied: visions[type_image_path]==0.7.5 in c:\\users\\andradema\\anaconda3\\envs\\ada\\lib\\site-packages (from ydata_profiling) (0.7.5)\n",
      "Requirement already satisfied: statsmodels<1,>=0.13.2 in c:\\users\\andradema\\anaconda3\\envs\\ada\\lib\\site-packages (from ydata_profiling) (0.13.5)\n",
      "Requirement already satisfied: pillow in c:\\users\\andradema\\anaconda3\\envs\\ada\\lib\\site-packages (from imagehash==4.3.1->ydata_profiling) (9.5.0)\n",
      "Requirement already satisfied: PyWavelets in c:\\users\\andradema\\anaconda3\\envs\\ada\\lib\\site-packages (from imagehash==4.3.1->ydata_profiling) (1.3.0)\n",
      "Requirement already satisfied: networkx>=2.4 in c:\\users\\andradema\\anaconda3\\envs\\ada\\lib\\site-packages (from visions[type_image_path]==0.7.5->ydata_profiling) (2.6.3)\n",
      "Requirement already satisfied: tangled-up-in-unicode>=0.0.4 in c:\\users\\andradema\\anaconda3\\envs\\ada\\lib\\site-packages (from visions[type_image_path]==0.7.5->ydata_profiling) (0.2.0)\n",
      "Requirement already satisfied: attrs>=19.3.0 in c:\\users\\andradema\\anaconda3\\envs\\ada\\lib\\site-packages (from visions[type_image_path]==0.7.5->ydata_profiling) (23.1.0)\n",
      "Requirement already satisfied: MarkupSafe>=2.0 in c:\\users\\andradema\\anaconda3\\envs\\ada\\lib\\site-packages (from jinja2<3.2,>=2.11.1->ydata_profiling) (2.1.3)\n",
      "Requirement already satisfied: python-dateutil>=2.7 in c:\\users\\andradema\\anaconda3\\envs\\ada\\lib\\site-packages (from matplotlib<4,>=3.2->ydata_profiling) (2.8.2)\n",
      "Requirement already satisfied: fonttools>=4.22.0 in c:\\users\\andradema\\anaconda3\\envs\\ada\\lib\\site-packages (from matplotlib<4,>=3.2->ydata_profiling) (4.38.0)\n",
      "Requirement already satisfied: pyparsing>=2.2.1 in c:\\users\\andradema\\anaconda3\\envs\\ada\\lib\\site-packages (from matplotlib<4,>=3.2->ydata_profiling) (3.1.1)\n",
      "Requirement already satisfied: cycler>=0.10 in c:\\users\\andradema\\anaconda3\\envs\\ada\\lib\\site-packages (from matplotlib<4,>=3.2->ydata_profiling) (0.11.0)\n",
      "Requirement already satisfied: packaging>=20.0 in c:\\users\\andradema\\anaconda3\\envs\\ada\\lib\\site-packages (from matplotlib<4,>=3.2->ydata_profiling) (23.2)\n",
      "Requirement already satisfied: kiwisolver>=1.0.1 in c:\\users\\andradema\\anaconda3\\envs\\ada\\lib\\site-packages (from matplotlib<4,>=3.2->ydata_profiling) (1.4.5)\n",
      "Requirement already satisfied: pytz>=2017.3 in c:\\users\\andradema\\anaconda3\\envs\\ada\\lib\\site-packages (from pandas!=1.4.0,<2.1,>1.1->ydata_profiling) (2023.3.post1)\n",
      "Requirement already satisfied: joblib>=0.14.1 in c:\\users\\andradema\\anaconda3\\envs\\ada\\lib\\site-packages (from phik<0.13,>=0.11.1->ydata_profiling) (1.3.2)\n",
      "Requirement already satisfied: typing-extensions>=4.2.0 in c:\\users\\andradema\\anaconda3\\envs\\ada\\lib\\site-packages (from pydantic<2,>=1.8.1->ydata_profiling) (4.7.1)\n",
      "Requirement already satisfied: idna<4,>=2.5 in c:\\users\\andradema\\anaconda3\\envs\\ada\\lib\\site-packages (from requests<3,>=2.24.0->ydata_profiling) (3.4)\n",
      "Requirement already satisfied: certifi>=2017.4.17 in c:\\users\\andradema\\anaconda3\\envs\\ada\\lib\\site-packages (from requests<3,>=2.24.0->ydata_profiling) (2022.12.7)\n",
      "Requirement already satisfied: urllib3<3,>=1.21.1 in c:\\users\\andradema\\anaconda3\\envs\\ada\\lib\\site-packages (from requests<3,>=2.24.0->ydata_profiling) (2.0.6)\n",
      "Requirement already satisfied: charset-normalizer<4,>=2 in c:\\users\\andradema\\anaconda3\\envs\\ada\\lib\\site-packages (from requests<3,>=2.24.0->ydata_profiling) (3.3.0)\n",
      "Requirement already satisfied: patsy>=0.5.2 in c:\\users\\andradema\\anaconda3\\envs\\ada\\lib\\site-packages (from statsmodels<1,>=0.13.2->ydata_profiling) (0.5.3)\n",
      "Requirement already satisfied: colorama in c:\\users\\andradema\\anaconda3\\envs\\ada\\lib\\site-packages (from tqdm<5,>=4.48.2->ydata_profiling) (0.4.6)\n",
      "Requirement already satisfied: importlib-metadata in c:\\users\\andradema\\anaconda3\\envs\\ada\\lib\\site-packages (from attrs>=19.3.0->visions[type_image_path]==0.7.5->ydata_profiling) (6.7.0)\n",
      "Requirement already satisfied: six in c:\\users\\andradema\\anaconda3\\envs\\ada\\lib\\site-packages (from patsy>=0.5.2->statsmodels<1,>=0.13.2->ydata_profiling) (1.16.0)\n",
      "Requirement already satisfied: zipp>=0.5 in c:\\users\\andradema\\anaconda3\\envs\\ada\\lib\\site-packages (from importlib-metadata->attrs>=19.3.0->visions[type_image_path]==0.7.5->ydata_profiling) (3.15.0)\n"
     ]
    }
   ],
   "source": [
    "!pip install ydata_profiling"
   ]
  },
  {
   "cell_type": "markdown",
   "id": "8e32aec0",
   "metadata": {},
   "source": [
    "### Chamada da bibliotecas"
   ]
  },
  {
   "cell_type": "code",
   "execution_count": 2,
   "id": "0592af1d",
   "metadata": {},
   "outputs": [],
   "source": [
    "import pandas as pd\n",
    "from ydata_profiling import ProfileReport"
   ]
  },
  {
   "cell_type": "markdown",
   "id": "7dc76dfb",
   "metadata": {},
   "source": [
    "### Dataset sobre preço de carros usados:\n",
    "https://data.world/data-society/used-cars-data"
   ]
  },
  {
   "cell_type": "code",
   "execution_count": 3,
   "id": "b7346035",
   "metadata": {},
   "outputs": [
    {
     "data": {
      "text/html": [
       "<div>\n",
       "<style scoped>\n",
       "    .dataframe tbody tr th:only-of-type {\n",
       "        vertical-align: middle;\n",
       "    }\n",
       "\n",
       "    .dataframe tbody tr th {\n",
       "        vertical-align: top;\n",
       "    }\n",
       "\n",
       "    .dataframe thead th {\n",
       "        text-align: right;\n",
       "    }\n",
       "</style>\n",
       "<table border=\"1\" class=\"dataframe\">\n",
       "  <thead>\n",
       "    <tr style=\"text-align: right;\">\n",
       "      <th></th>\n",
       "      <th>dateCrawled</th>\n",
       "      <th>name</th>\n",
       "      <th>seller</th>\n",
       "      <th>offerType</th>\n",
       "      <th>price</th>\n",
       "      <th>abtest</th>\n",
       "      <th>vehicleType</th>\n",
       "      <th>yearOfRegistration</th>\n",
       "      <th>gearbox</th>\n",
       "      <th>powerPS</th>\n",
       "      <th>model</th>\n",
       "      <th>kilometer</th>\n",
       "      <th>monthOfRegistration</th>\n",
       "      <th>fuelType</th>\n",
       "      <th>brand</th>\n",
       "      <th>notRepairedDamage</th>\n",
       "      <th>dateCreated</th>\n",
       "      <th>nrOfPictures</th>\n",
       "      <th>postalCode</th>\n",
       "      <th>lastSeen</th>\n",
       "    </tr>\n",
       "  </thead>\n",
       "  <tbody>\n",
       "    <tr>\n",
       "      <th>0</th>\n",
       "      <td>2016-03-24 11:52:17</td>\n",
       "      <td>Golf_3_1.6</td>\n",
       "      <td>privat</td>\n",
       "      <td>Angebot</td>\n",
       "      <td>480</td>\n",
       "      <td>test</td>\n",
       "      <td>NaN</td>\n",
       "      <td>1993</td>\n",
       "      <td>manuell</td>\n",
       "      <td>0</td>\n",
       "      <td>golf</td>\n",
       "      <td>150000</td>\n",
       "      <td>0</td>\n",
       "      <td>benzin</td>\n",
       "      <td>volkswagen</td>\n",
       "      <td>NaN</td>\n",
       "      <td>2016-03-24 00:00:00</td>\n",
       "      <td>0</td>\n",
       "      <td>70435</td>\n",
       "      <td>2016-04-07 03:16:57</td>\n",
       "    </tr>\n",
       "    <tr>\n",
       "      <th>1</th>\n",
       "      <td>2016-03-24 10:58:45</td>\n",
       "      <td>A5_Sportback_2.7_Tdi</td>\n",
       "      <td>privat</td>\n",
       "      <td>Angebot</td>\n",
       "      <td>18300</td>\n",
       "      <td>test</td>\n",
       "      <td>coupe</td>\n",
       "      <td>2011</td>\n",
       "      <td>manuell</td>\n",
       "      <td>190</td>\n",
       "      <td>NaN</td>\n",
       "      <td>125000</td>\n",
       "      <td>5</td>\n",
       "      <td>diesel</td>\n",
       "      <td>audi</td>\n",
       "      <td>ja</td>\n",
       "      <td>2016-03-24 00:00:00</td>\n",
       "      <td>0</td>\n",
       "      <td>66954</td>\n",
       "      <td>2016-04-07 01:46:50</td>\n",
       "    </tr>\n",
       "    <tr>\n",
       "      <th>2</th>\n",
       "      <td>2016-03-14 12:52:21</td>\n",
       "      <td>Jeep_Grand_Cherokee_\"Overland\"</td>\n",
       "      <td>privat</td>\n",
       "      <td>Angebot</td>\n",
       "      <td>9800</td>\n",
       "      <td>test</td>\n",
       "      <td>suv</td>\n",
       "      <td>2004</td>\n",
       "      <td>automatik</td>\n",
       "      <td>163</td>\n",
       "      <td>grand</td>\n",
       "      <td>125000</td>\n",
       "      <td>8</td>\n",
       "      <td>diesel</td>\n",
       "      <td>jeep</td>\n",
       "      <td>NaN</td>\n",
       "      <td>2016-03-14 00:00:00</td>\n",
       "      <td>0</td>\n",
       "      <td>90480</td>\n",
       "      <td>2016-04-05 12:47:46</td>\n",
       "    </tr>\n",
       "  </tbody>\n",
       "</table>\n",
       "</div>"
      ],
      "text/plain": [
       "           dateCrawled                            name  seller offerType  \\\n",
       "0  2016-03-24 11:52:17                      Golf_3_1.6  privat   Angebot   \n",
       "1  2016-03-24 10:58:45            A5_Sportback_2.7_Tdi  privat   Angebot   \n",
       "2  2016-03-14 12:52:21  Jeep_Grand_Cherokee_\"Overland\"  privat   Angebot   \n",
       "\n",
       "   price abtest vehicleType  yearOfRegistration    gearbox  powerPS  model  \\\n",
       "0    480   test         NaN                1993    manuell        0   golf   \n",
       "1  18300   test       coupe                2011    manuell      190    NaN   \n",
       "2   9800   test         suv                2004  automatik      163  grand   \n",
       "\n",
       "   kilometer  monthOfRegistration fuelType       brand notRepairedDamage  \\\n",
       "0     150000                    0   benzin  volkswagen               NaN   \n",
       "1     125000                    5   diesel        audi                ja   \n",
       "2     125000                    8   diesel        jeep               NaN   \n",
       "\n",
       "           dateCreated  nrOfPictures  postalCode             lastSeen  \n",
       "0  2016-03-24 00:00:00             0       70435  2016-04-07 03:16:57  \n",
       "1  2016-03-24 00:00:00             0       66954  2016-04-07 01:46:50  \n",
       "2  2016-03-14 00:00:00             0       90480  2016-04-05 12:47:46  "
      ]
     },
     "execution_count": 3,
     "metadata": {},
     "output_type": "execute_result"
    }
   ],
   "source": [
    "df = pd.read_csv(\"dados/autos.csv\", encoding='ISO-8859-1')\n",
    "df.head(3)"
   ]
  },
  {
   "cell_type": "markdown",
   "id": "edbc22de",
   "metadata": {},
   "source": [
    "### Comando \"describe\" que retorna algumas informações do DataFrame"
   ]
  },
  {
   "cell_type": "code",
   "execution_count": 4,
   "id": "4434f10b",
   "metadata": {},
   "outputs": [
    {
     "data": {
      "text/html": [
       "<div>\n",
       "<style scoped>\n",
       "    .dataframe tbody tr th:only-of-type {\n",
       "        vertical-align: middle;\n",
       "    }\n",
       "\n",
       "    .dataframe tbody tr th {\n",
       "        vertical-align: top;\n",
       "    }\n",
       "\n",
       "    .dataframe thead th {\n",
       "        text-align: right;\n",
       "    }\n",
       "</style>\n",
       "<table border=\"1\" class=\"dataframe\">\n",
       "  <thead>\n",
       "    <tr style=\"text-align: right;\">\n",
       "      <th></th>\n",
       "      <th>price</th>\n",
       "      <th>yearOfRegistration</th>\n",
       "      <th>powerPS</th>\n",
       "      <th>kilometer</th>\n",
       "      <th>monthOfRegistration</th>\n",
       "      <th>nrOfPictures</th>\n",
       "      <th>postalCode</th>\n",
       "    </tr>\n",
       "  </thead>\n",
       "  <tbody>\n",
       "    <tr>\n",
       "      <th>count</th>\n",
       "      <td>3.715280e+05</td>\n",
       "      <td>371528.000000</td>\n",
       "      <td>371528.000000</td>\n",
       "      <td>371528.000000</td>\n",
       "      <td>371528.000000</td>\n",
       "      <td>371528.0</td>\n",
       "      <td>371528.00000</td>\n",
       "    </tr>\n",
       "    <tr>\n",
       "      <th>mean</th>\n",
       "      <td>1.729514e+04</td>\n",
       "      <td>2004.577997</td>\n",
       "      <td>115.549477</td>\n",
       "      <td>125618.688228</td>\n",
       "      <td>5.734445</td>\n",
       "      <td>0.0</td>\n",
       "      <td>50820.66764</td>\n",
       "    </tr>\n",
       "    <tr>\n",
       "      <th>std</th>\n",
       "      <td>3.587954e+06</td>\n",
       "      <td>92.866598</td>\n",
       "      <td>192.139578</td>\n",
       "      <td>40112.337051</td>\n",
       "      <td>3.712412</td>\n",
       "      <td>0.0</td>\n",
       "      <td>25799.08247</td>\n",
       "    </tr>\n",
       "    <tr>\n",
       "      <th>min</th>\n",
       "      <td>0.000000e+00</td>\n",
       "      <td>1000.000000</td>\n",
       "      <td>0.000000</td>\n",
       "      <td>5000.000000</td>\n",
       "      <td>0.000000</td>\n",
       "      <td>0.0</td>\n",
       "      <td>1067.00000</td>\n",
       "    </tr>\n",
       "    <tr>\n",
       "      <th>25%</th>\n",
       "      <td>1.150000e+03</td>\n",
       "      <td>1999.000000</td>\n",
       "      <td>70.000000</td>\n",
       "      <td>125000.000000</td>\n",
       "      <td>3.000000</td>\n",
       "      <td>0.0</td>\n",
       "      <td>30459.00000</td>\n",
       "    </tr>\n",
       "    <tr>\n",
       "      <th>50%</th>\n",
       "      <td>2.950000e+03</td>\n",
       "      <td>2003.000000</td>\n",
       "      <td>105.000000</td>\n",
       "      <td>150000.000000</td>\n",
       "      <td>6.000000</td>\n",
       "      <td>0.0</td>\n",
       "      <td>49610.00000</td>\n",
       "    </tr>\n",
       "    <tr>\n",
       "      <th>75%</th>\n",
       "      <td>7.200000e+03</td>\n",
       "      <td>2008.000000</td>\n",
       "      <td>150.000000</td>\n",
       "      <td>150000.000000</td>\n",
       "      <td>9.000000</td>\n",
       "      <td>0.0</td>\n",
       "      <td>71546.00000</td>\n",
       "    </tr>\n",
       "    <tr>\n",
       "      <th>max</th>\n",
       "      <td>2.147484e+09</td>\n",
       "      <td>9999.000000</td>\n",
       "      <td>20000.000000</td>\n",
       "      <td>150000.000000</td>\n",
       "      <td>12.000000</td>\n",
       "      <td>0.0</td>\n",
       "      <td>99998.00000</td>\n",
       "    </tr>\n",
       "  </tbody>\n",
       "</table>\n",
       "</div>"
      ],
      "text/plain": [
       "              price  yearOfRegistration        powerPS      kilometer  \\\n",
       "count  3.715280e+05       371528.000000  371528.000000  371528.000000   \n",
       "mean   1.729514e+04         2004.577997     115.549477  125618.688228   \n",
       "std    3.587954e+06           92.866598     192.139578   40112.337051   \n",
       "min    0.000000e+00         1000.000000       0.000000    5000.000000   \n",
       "25%    1.150000e+03         1999.000000      70.000000  125000.000000   \n",
       "50%    2.950000e+03         2003.000000     105.000000  150000.000000   \n",
       "75%    7.200000e+03         2008.000000     150.000000  150000.000000   \n",
       "max    2.147484e+09         9999.000000   20000.000000  150000.000000   \n",
       "\n",
       "       monthOfRegistration  nrOfPictures    postalCode  \n",
       "count        371528.000000      371528.0  371528.00000  \n",
       "mean              5.734445           0.0   50820.66764  \n",
       "std               3.712412           0.0   25799.08247  \n",
       "min               0.000000           0.0    1067.00000  \n",
       "25%               3.000000           0.0   30459.00000  \n",
       "50%               6.000000           0.0   49610.00000  \n",
       "75%               9.000000           0.0   71546.00000  \n",
       "max              12.000000           0.0   99998.00000  "
      ]
     },
     "execution_count": 4,
     "metadata": {},
     "output_type": "execute_result"
    }
   ],
   "source": [
    "df.describe()"
   ]
  },
  {
   "cell_type": "markdown",
   "id": "dead061d",
   "metadata": {},
   "source": [
    "### Relatório com informações do perfil dos dados a partir da biblioteca \"ydata_profiling\""
   ]
  },
  {
   "cell_type": "code",
   "execution_count": 5,
   "id": "be50698b",
   "metadata": {},
   "outputs": [
    {
     "data": {
      "application/vnd.jupyter.widget-view+json": {
       "model_id": "c410731f075b458d99fe7cf4457ade59",
       "version_major": 2,
       "version_minor": 0
      },
      "text/plain": [
       "Summarize dataset:   0%|          | 0/5 [00:00<?, ?it/s]"
      ]
     },
     "metadata": {},
     "output_type": "display_data"
    },
    {
     "data": {
      "application/vnd.jupyter.widget-view+json": {
       "model_id": "3abfb1e5f7344d4781dbad8d68b987be",
       "version_major": 2,
       "version_minor": 0
      },
      "text/plain": [
       "Generate report structure:   0%|          | 0/1 [00:00<?, ?it/s]"
      ]
     },
     "metadata": {},
     "output_type": "display_data"
    },
    {
     "data": {
      "application/vnd.jupyter.widget-view+json": {
       "model_id": "d272e579852c4547aa347731d6eac0cb",
       "version_major": 2,
       "version_minor": 0
      },
      "text/plain": [
       "Render HTML:   0%|          | 0/1 [00:00<?, ?it/s]"
      ]
     },
     "metadata": {},
     "output_type": "display_data"
    },
    {
     "data": {
      "application/vnd.jupyter.widget-view+json": {
       "model_id": "3f8120cd57c049f2859ef9ca6520204d",
       "version_major": 2,
       "version_minor": 0
      },
      "text/plain": [
       "Export report to file:   0%|          | 0/1 [00:00<?, ?it/s]"
      ]
     },
     "metadata": {},
     "output_type": "display_data"
    }
   ],
   "source": [
    "profile = ProfileReport(df, title=\"Pandas Profiling Report\") #cria o relatório\n",
    "\n",
    "profile.to_file(\"resultados.html\") #salva os resultados em um arquivo"
   ]
  },
  {
   "cell_type": "markdown",
   "id": "0fa7cf83",
   "metadata": {},
   "source": [
    "### Tipos de cada coluna no Dataframe"
   ]
  },
  {
   "cell_type": "code",
   "execution_count": 6,
   "id": "700a2408",
   "metadata": {},
   "outputs": [
    {
     "data": {
      "text/plain": [
       "dateCrawled            object\n",
       "name                   object\n",
       "seller                 object\n",
       "offerType              object\n",
       "price                   int64\n",
       "abtest                 object\n",
       "vehicleType            object\n",
       "yearOfRegistration      int64\n",
       "gearbox                object\n",
       "powerPS                 int64\n",
       "model                  object\n",
       "kilometer               int64\n",
       "monthOfRegistration     int64\n",
       "fuelType               object\n",
       "brand                  object\n",
       "notRepairedDamage      object\n",
       "dateCreated            object\n",
       "nrOfPictures            int64\n",
       "postalCode              int64\n",
       "lastSeen               object\n",
       "dtype: object"
      ]
     },
     "execution_count": 6,
     "metadata": {},
     "output_type": "execute_result"
    }
   ],
   "source": [
    "df.dtypes"
   ]
  },
  {
   "cell_type": "markdown",
   "id": "58d417c8",
   "metadata": {},
   "source": [
    "### Cria um dataframe copia para começar a limpeza dos dados. O primeiro passo será definir o tipo das colunas que não serão de texto."
   ]
  },
  {
   "cell_type": "code",
   "execution_count": 7,
   "id": "58479dcd",
   "metadata": {},
   "outputs": [],
   "source": [
    "df_cln = df.copy()\n",
    "\n",
    "list_datetime = ['dateCrawled', 'dateCreated', 'lastSeen'] #colunas do tipo de data e hora\n",
    "for column in list_datetime: \n",
    "    #transforma a coluna para o tipo \"datetime\" com o formato passado\n",
    "    df_cln[column] = pd.to_datetime(df_cln[column], format='%Y-%m-%d %H:%M:%S') \n",
    "\n",
    "list_int = ['yearOfRegistration', 'monthOfRegistration', 'nrOfPictures', 'postalCode'] #colunas do tipo inteiro\n",
    "for column in list_int: \n",
    "    #transforma a coluna para o tipo inteiro\n",
    "    df_cln[column] = df_cln[column].astype(\"int\")\n",
    "\n",
    "list_float = ['price', 'powerPS', 'kilometer'] #colunas do tipo float\n",
    "for column in list_float: \n",
    "    #transforma a coluna para o tipo float\n",
    "    df_cln[column] = df_cln[column].astype(\"float\")"
   ]
  },
  {
   "cell_type": "markdown",
   "id": "b47cd8d6",
   "metadata": {},
   "source": [
    "### Verifica os novos tipos de cada coluna"
   ]
  },
  {
   "cell_type": "code",
   "execution_count": 8,
   "id": "20213798",
   "metadata": {},
   "outputs": [
    {
     "data": {
      "text/plain": [
       "dateCrawled            datetime64[ns]\n",
       "name                           object\n",
       "seller                         object\n",
       "offerType                      object\n",
       "price                         float64\n",
       "abtest                         object\n",
       "vehicleType                    object\n",
       "yearOfRegistration              int32\n",
       "gearbox                        object\n",
       "powerPS                       float64\n",
       "model                          object\n",
       "kilometer                     float64\n",
       "monthOfRegistration             int32\n",
       "fuelType                       object\n",
       "brand                          object\n",
       "notRepairedDamage              object\n",
       "dateCreated            datetime64[ns]\n",
       "nrOfPictures                    int32\n",
       "postalCode                      int32\n",
       "lastSeen               datetime64[ns]\n",
       "dtype: object"
      ]
     },
     "execution_count": 8,
     "metadata": {},
     "output_type": "execute_result"
    }
   ],
   "source": [
    "df_cln.dtypes"
   ]
  },
  {
   "cell_type": "markdown",
   "id": "0b2dae2f",
   "metadata": {},
   "source": [
    "### Verifica as colunas com valores nulos"
   ]
  },
  {
   "cell_type": "code",
   "execution_count": 9,
   "id": "58415bff",
   "metadata": {},
   "outputs": [
    {
     "data": {
      "text/plain": [
       "notRepairedDamage      19.395577\n",
       "vehicleType            10.192771\n",
       "fuelType                8.986133\n",
       "model                   5.513447\n",
       "gearbox                 5.439429\n",
       "kilometer               0.000000\n",
       "postalCode              0.000000\n",
       "nrOfPictures            0.000000\n",
       "dateCreated             0.000000\n",
       "brand                   0.000000\n",
       "monthOfRegistration     0.000000\n",
       "dateCrawled             0.000000\n",
       "name                    0.000000\n",
       "powerPS                 0.000000\n",
       "yearOfRegistration      0.000000\n",
       "abtest                  0.000000\n",
       "price                   0.000000\n",
       "offerType               0.000000\n",
       "seller                  0.000000\n",
       "lastSeen                0.000000\n",
       "dtype: float64"
      ]
     },
     "execution_count": 9,
     "metadata": {},
     "output_type": "execute_result"
    }
   ],
   "source": [
    "res_missing = df_cln.isna().sum()  #soma a quantidade de valores nulos em cada coluna\n",
    "res_missing = (res_missing/len(df_cln))*100 #calcula o percentual de casos nulos\n",
    "res_missing.sort_values(ascending=False) #ordena pelas colunas com mais casos nulos"
   ]
  },
  {
   "cell_type": "markdown",
   "id": "f8edd4f6",
   "metadata": {},
   "source": [
    "### Função para verificar os casos nulos"
   ]
  },
  {
   "cell_type": "code",
   "execution_count": 10,
   "id": "8f1e7af9",
   "metadata": {},
   "outputs": [],
   "source": [
    "def check_missing(df):\n",
    "    res_missing = df_cln.isna().sum() \n",
    "    res_missing = (res_missing/len(df_cln))*100\n",
    "    return res_missing"
   ]
  },
  {
   "cell_type": "code",
   "execution_count": 11,
   "id": "aa684cc1",
   "metadata": {},
   "outputs": [
    {
     "data": {
      "text/plain": [
       "notRepairedDamage      19.395577\n",
       "vehicleType            10.192771\n",
       "fuelType                8.986133\n",
       "model                   5.513447\n",
       "gearbox                 5.439429\n",
       "kilometer               0.000000\n",
       "postalCode              0.000000\n",
       "nrOfPictures            0.000000\n",
       "dateCreated             0.000000\n",
       "brand                   0.000000\n",
       "monthOfRegistration     0.000000\n",
       "dateCrawled             0.000000\n",
       "name                    0.000000\n",
       "powerPS                 0.000000\n",
       "yearOfRegistration      0.000000\n",
       "abtest                  0.000000\n",
       "price                   0.000000\n",
       "offerType               0.000000\n",
       "seller                  0.000000\n",
       "lastSeen                0.000000\n",
       "dtype: float64"
      ]
     },
     "execution_count": 11,
     "metadata": {},
     "output_type": "execute_result"
    }
   ],
   "source": [
    "check_missing(df_cln).sort_values(ascending=False)"
   ]
  },
  {
   "cell_type": "markdown",
   "id": "0f92af67",
   "metadata": {},
   "source": [
    "### Preenchimento dos campos nulos com valores fixos "
   ]
  },
  {
   "cell_type": "code",
   "execution_count": 12,
   "id": "f7b115af",
   "metadata": {},
   "outputs": [
    {
     "data": {
      "text/plain": [
       "nein    263182\n",
       "ja       36286\n",
       "Name: notRepairedDamage, dtype: int64"
      ]
     },
     "execution_count": 12,
     "metadata": {},
     "output_type": "execute_result"
    }
   ],
   "source": [
    "df_cln['notRepairedDamage'].value_counts()"
   ]
  },
  {
   "cell_type": "code",
   "execution_count": 13,
   "id": "64f93b60",
   "metadata": {},
   "outputs": [],
   "source": [
    "df_cln['notRepairedDamage'] = df_cln['notRepairedDamage'].fillna(\"no_info\")"
   ]
  },
  {
   "cell_type": "markdown",
   "id": "b5bf5e2b",
   "metadata": {},
   "source": [
    "### Preenchimento dos campos nulos com valores fixos "
   ]
  },
  {
   "cell_type": "code",
   "execution_count": 14,
   "id": "799f9e16",
   "metadata": {},
   "outputs": [
    {
     "data": {
      "text/plain": [
       "limousine     95894\n",
       "kleinwagen    80023\n",
       "kombi         67564\n",
       "bus           30201\n",
       "cabrio        22898\n",
       "coupe         19015\n",
       "suv           14707\n",
       "andere         3357\n",
       "Name: vehicleType, dtype: int64"
      ]
     },
     "execution_count": 14,
     "metadata": {},
     "output_type": "execute_result"
    }
   ],
   "source": [
    "df_cln['vehicleType'].value_counts()"
   ]
  },
  {
   "cell_type": "code",
   "execution_count": 15,
   "id": "655858f3",
   "metadata": {},
   "outputs": [],
   "source": [
    "df_cln['vehicleType'] = df_cln['vehicleType'].fillna(\"no_info\")"
   ]
  },
  {
   "cell_type": "markdown",
   "id": "5184662c",
   "metadata": {},
   "source": [
    "### Preenchimento dos campos nulos com o campo que mais se repete"
   ]
  },
  {
   "cell_type": "code",
   "execution_count": 16,
   "id": "1f794d6f",
   "metadata": {},
   "outputs": [
    {
     "data": {
      "text/plain": [
       "benzin     223857\n",
       "diesel     107746\n",
       "lpg          5378\n",
       "cng           571\n",
       "hybrid        278\n",
       "andere        208\n",
       "elektro       104\n",
       "Name: fuelType, dtype: int64"
      ]
     },
     "execution_count": 16,
     "metadata": {},
     "output_type": "execute_result"
    }
   ],
   "source": [
    "df_cln['fuelType'].value_counts()"
   ]
  },
  {
   "cell_type": "code",
   "execution_count": 17,
   "id": "05aceacf",
   "metadata": {},
   "outputs": [],
   "source": [
    "high_freq = df_cln['fuelType'].value_counts().idxmax()\n",
    "df_cln['fuelType'] = df_cln['fuelType'].fillna(high_freq)"
   ]
  },
  {
   "cell_type": "markdown",
   "id": "7539bbe8",
   "metadata": {},
   "source": [
    "### Preenchimento dos campos nulos com valores fixos de outra coluna"
   ]
  },
  {
   "cell_type": "code",
   "execution_count": 18,
   "id": "569992ee",
   "metadata": {},
   "outputs": [],
   "source": [
    "df_cln['model'] = df_cln['model'].fillna(df_cln['vehicleType'])"
   ]
  },
  {
   "cell_type": "markdown",
   "id": "41597f08",
   "metadata": {},
   "source": [
    "### Preenchimento dos campos nulos com valores fixos de outra coluna"
   ]
  },
  {
   "cell_type": "code",
   "execution_count": 19,
   "id": "6c0c20f2",
   "metadata": {},
   "outputs": [],
   "source": [
    "df_cln['gearbox'] = df_cln['gearbox'].fillna(\"no_info\")"
   ]
  },
  {
   "cell_type": "markdown",
   "id": "80d2cb13",
   "metadata": {},
   "source": [
    "### Verifica os resultados nulos após o tratamento"
   ]
  },
  {
   "cell_type": "code",
   "execution_count": 20,
   "id": "5b1c6341",
   "metadata": {},
   "outputs": [
    {
     "data": {
      "text/plain": [
       "dateCrawled            0.0\n",
       "name                   0.0\n",
       "postalCode             0.0\n",
       "nrOfPictures           0.0\n",
       "dateCreated            0.0\n",
       "notRepairedDamage      0.0\n",
       "brand                  0.0\n",
       "fuelType               0.0\n",
       "monthOfRegistration    0.0\n",
       "kilometer              0.0\n",
       "model                  0.0\n",
       "powerPS                0.0\n",
       "gearbox                0.0\n",
       "yearOfRegistration     0.0\n",
       "vehicleType            0.0\n",
       "abtest                 0.0\n",
       "price                  0.0\n",
       "offerType              0.0\n",
       "seller                 0.0\n",
       "lastSeen               0.0\n",
       "dtype: float64"
      ]
     },
     "execution_count": 20,
     "metadata": {},
     "output_type": "execute_result"
    }
   ],
   "source": [
    "check_missing(df_cln).sort_values(ascending=False)"
   ]
  },
  {
   "cell_type": "markdown",
   "id": "d21147fd",
   "metadata": {},
   "source": [
    "### Eliminando os campos duplicados"
   ]
  },
  {
   "cell_type": "code",
   "execution_count": 21,
   "id": "e55d4444",
   "metadata": {},
   "outputs": [
    {
     "name": "stdout",
     "output_type": "stream",
     "text": [
      "N. de linhas antes de remover duplicadas: 371528\n",
      "N. de linhas depois de remover duplicadas: 371524\n"
     ]
    }
   ],
   "source": [
    "print(\"N. de linhas antes de remover duplicadas:\", len(df_cln))\n",
    "df_cln = df_cln.drop_duplicates()\n",
    "print(\"N. de linhas depois de remover duplicadas:\", len(df_cln))"
   ]
  },
  {
   "cell_type": "markdown",
   "id": "735e0d90",
   "metadata": {},
   "source": [
    "### Eliminando as colunas constantes"
   ]
  },
  {
   "cell_type": "code",
   "execution_count": 22,
   "id": "6619ffe6",
   "metadata": {},
   "outputs": [
    {
     "data": {
      "text/plain": [
       "['nrOfPictures']"
      ]
     },
     "execution_count": 22,
     "metadata": {},
     "output_type": "execute_result"
    }
   ],
   "source": [
    "list_constant = [col for col in df_cln.columns if df_cln[col].nunique() == 1]\n",
    "list_constant"
   ]
  },
  {
   "cell_type": "code",
   "execution_count": 23,
   "id": "bfe33589",
   "metadata": {},
   "outputs": [
    {
     "name": "stdout",
     "output_type": "stream",
     "text": [
      "N. de colunas antes de remover colunas constantes: 20\n",
      "N. de colunas depois de remover colunas constantes: 19\n"
     ]
    }
   ],
   "source": [
    "print(\"N. de colunas antes de remover colunas constantes:\", len(df_cln.columns))\n",
    "df_cln = df_cln.drop(list_constant, axis=1)\n",
    "print(\"N. de colunas depois de remover colunas constantes:\", len(df_cln.columns))"
   ]
  },
  {
   "cell_type": "markdown",
   "id": "32cafa87",
   "metadata": {},
   "source": [
    "### Eliminando as colunas extremamente desbalanceadas"
   ]
  },
  {
   "cell_type": "code",
   "execution_count": 24,
   "id": "fa455fc1",
   "metadata": {},
   "outputs": [
    {
     "data": {
      "text/plain": [
       "Angebot    0.999968\n",
       "Gesuch     0.000032\n",
       "Name: offerType, dtype: float64"
      ]
     },
     "execution_count": 24,
     "metadata": {},
     "output_type": "execute_result"
    }
   ],
   "source": [
    "df_cln['offerType'].value_counts(normalize=True)"
   ]
  },
  {
   "cell_type": "code",
   "execution_count": 25,
   "id": "49b3ae7d",
   "metadata": {},
   "outputs": [
    {
     "data": {
      "text/plain": [
       "0.9999677006061519"
      ]
     },
     "execution_count": 25,
     "metadata": {},
     "output_type": "execute_result"
    }
   ],
   "source": [
    "df_cln['offerType'].value_counts(normalize=True).values[0]"
   ]
  },
  {
   "cell_type": "code",
   "execution_count": 26,
   "id": "4e6b58d7",
   "metadata": {},
   "outputs": [
    {
     "name": "stdout",
     "output_type": "stream",
     "text": [
      "seller 0.999991925151538\n",
      "offerType 0.9999677006061519\n"
     ]
    }
   ],
   "source": [
    "list_imbalance = []\n",
    "limit = 0.98 #limite para o caso que mais se repete\n",
    "for col in df_cln.columns:\n",
    "    perc = df_cln[col].value_counts(normalize=True).values[0] #armazena o valor de maior repetição\n",
    "    if perc > limit: #se for mais que o limite armazena na lista das colunas desbanlanceadas\n",
    "        list_imbalance.append(col)\n",
    "        print(col, perc)"
   ]
  },
  {
   "cell_type": "code",
   "execution_count": 27,
   "id": "9d1487c3",
   "metadata": {},
   "outputs": [],
   "source": [
    "df_cln = df_cln.drop(list_imbalance, axis=1)"
   ]
  },
  {
   "cell_type": "markdown",
   "id": "6762e747",
   "metadata": {},
   "source": [
    "### Verificação dos resultados depois de eliminar as colunas extremamente desbalanceadas"
   ]
  },
  {
   "cell_type": "code",
   "execution_count": 28,
   "id": "153d0ab4",
   "metadata": {},
   "outputs": [],
   "source": [
    "list_imbalance = []\n",
    "limit = 0.98\n",
    "for col in df_cln.columns:\n",
    "    perc = df_cln[col].value_counts(normalize=True).values[0]\n",
    "    if perc > limit:\n",
    "        list_imbalance.append(col)\n",
    "        print(col, perc)"
   ]
  },
  {
   "cell_type": "markdown",
   "id": "dc475290",
   "metadata": {},
   "source": [
    "### Verificação da precisão dos dados"
   ]
  },
  {
   "cell_type": "markdown",
   "id": "5238503b",
   "metadata": {},
   "source": [
    "### Os meses precisam estar no intervalo: 1 <= meses <= 12 "
   ]
  },
  {
   "cell_type": "code",
   "execution_count": 29,
   "id": "d3a7e36c",
   "metadata": {},
   "outputs": [
    {
     "data": {
      "text/html": [
       "<div>\n",
       "<style scoped>\n",
       "    .dataframe tbody tr th:only-of-type {\n",
       "        vertical-align: middle;\n",
       "    }\n",
       "\n",
       "    .dataframe tbody tr th {\n",
       "        vertical-align: top;\n",
       "    }\n",
       "\n",
       "    .dataframe thead th {\n",
       "        text-align: right;\n",
       "    }\n",
       "</style>\n",
       "<table border=\"1\" class=\"dataframe\">\n",
       "  <thead>\n",
       "    <tr style=\"text-align: right;\">\n",
       "      <th></th>\n",
       "      <th>dateCrawled</th>\n",
       "      <th>name</th>\n",
       "      <th>price</th>\n",
       "      <th>abtest</th>\n",
       "      <th>vehicleType</th>\n",
       "      <th>yearOfRegistration</th>\n",
       "      <th>gearbox</th>\n",
       "      <th>powerPS</th>\n",
       "      <th>model</th>\n",
       "      <th>kilometer</th>\n",
       "      <th>monthOfRegistration</th>\n",
       "      <th>fuelType</th>\n",
       "      <th>brand</th>\n",
       "      <th>notRepairedDamage</th>\n",
       "      <th>dateCreated</th>\n",
       "      <th>postalCode</th>\n",
       "      <th>lastSeen</th>\n",
       "    </tr>\n",
       "  </thead>\n",
       "  <tbody>\n",
       "    <tr>\n",
       "      <th>0</th>\n",
       "      <td>2016-03-24 11:52:17</td>\n",
       "      <td>Golf_3_1.6</td>\n",
       "      <td>480.0</td>\n",
       "      <td>test</td>\n",
       "      <td>no_info</td>\n",
       "      <td>1993</td>\n",
       "      <td>manuell</td>\n",
       "      <td>0.0</td>\n",
       "      <td>golf</td>\n",
       "      <td>150000.0</td>\n",
       "      <td>0</td>\n",
       "      <td>benzin</td>\n",
       "      <td>volkswagen</td>\n",
       "      <td>no_info</td>\n",
       "      <td>2016-03-24</td>\n",
       "      <td>70435</td>\n",
       "      <td>2016-04-07 03:16:57</td>\n",
       "    </tr>\n",
       "    <tr>\n",
       "      <th>9</th>\n",
       "      <td>2016-03-17 10:53:50</td>\n",
       "      <td>VW_Golf_4_5_tuerig_zu_verkaufen_mit_Anhaengerk...</td>\n",
       "      <td>999.0</td>\n",
       "      <td>test</td>\n",
       "      <td>kleinwagen</td>\n",
       "      <td>1998</td>\n",
       "      <td>manuell</td>\n",
       "      <td>101.0</td>\n",
       "      <td>golf</td>\n",
       "      <td>150000.0</td>\n",
       "      <td>0</td>\n",
       "      <td>benzin</td>\n",
       "      <td>volkswagen</td>\n",
       "      <td>no_info</td>\n",
       "      <td>2016-03-17</td>\n",
       "      <td>27472</td>\n",
       "      <td>2016-03-31 17:17:06</td>\n",
       "    </tr>\n",
       "    <tr>\n",
       "      <th>15</th>\n",
       "      <td>2016-03-11 21:39:15</td>\n",
       "      <td>KA_Lufthansa_Edition_450_VB</td>\n",
       "      <td>450.0</td>\n",
       "      <td>test</td>\n",
       "      <td>kleinwagen</td>\n",
       "      <td>1910</td>\n",
       "      <td>no_info</td>\n",
       "      <td>0.0</td>\n",
       "      <td>ka</td>\n",
       "      <td>5000.0</td>\n",
       "      <td>0</td>\n",
       "      <td>benzin</td>\n",
       "      <td>ford</td>\n",
       "      <td>no_info</td>\n",
       "      <td>2016-03-11</td>\n",
       "      <td>24148</td>\n",
       "      <td>2016-03-19 08:46:47</td>\n",
       "    </tr>\n",
       "    <tr>\n",
       "      <th>16</th>\n",
       "      <td>2016-04-01 12:46:46</td>\n",
       "      <td>Polo_6n_1_4</td>\n",
       "      <td>300.0</td>\n",
       "      <td>test</td>\n",
       "      <td>no_info</td>\n",
       "      <td>2016</td>\n",
       "      <td>no_info</td>\n",
       "      <td>60.0</td>\n",
       "      <td>polo</td>\n",
       "      <td>150000.0</td>\n",
       "      <td>0</td>\n",
       "      <td>benzin</td>\n",
       "      <td>volkswagen</td>\n",
       "      <td>no_info</td>\n",
       "      <td>2016-04-01</td>\n",
       "      <td>38871</td>\n",
       "      <td>2016-04-01 12:46:46</td>\n",
       "    </tr>\n",
       "    <tr>\n",
       "      <th>36</th>\n",
       "      <td>2016-03-11 11:50:37</td>\n",
       "      <td>Opel_Kadett_E_CC</td>\n",
       "      <td>1600.0</td>\n",
       "      <td>control</td>\n",
       "      <td>andere</td>\n",
       "      <td>1991</td>\n",
       "      <td>manuell</td>\n",
       "      <td>75.0</td>\n",
       "      <td>kadett</td>\n",
       "      <td>70000.0</td>\n",
       "      <td>0</td>\n",
       "      <td>benzin</td>\n",
       "      <td>opel</td>\n",
       "      <td>no_info</td>\n",
       "      <td>2016-03-11</td>\n",
       "      <td>2943</td>\n",
       "      <td>2016-04-07 03:46:09</td>\n",
       "    </tr>\n",
       "    <tr>\n",
       "      <th>...</th>\n",
       "      <td>...</td>\n",
       "      <td>...</td>\n",
       "      <td>...</td>\n",
       "      <td>...</td>\n",
       "      <td>...</td>\n",
       "      <td>...</td>\n",
       "      <td>...</td>\n",
       "      <td>...</td>\n",
       "      <td>...</td>\n",
       "      <td>...</td>\n",
       "      <td>...</td>\n",
       "      <td>...</td>\n",
       "      <td>...</td>\n",
       "      <td>...</td>\n",
       "      <td>...</td>\n",
       "      <td>...</td>\n",
       "      <td>...</td>\n",
       "    </tr>\n",
       "    <tr>\n",
       "      <th>371460</th>\n",
       "      <td>2016-04-03 13:46:24</td>\n",
       "      <td>Polo_g40_auch_Tausch_vag...no_vr6_gti_1.8t</td>\n",
       "      <td>3500.0</td>\n",
       "      <td>control</td>\n",
       "      <td>no_info</td>\n",
       "      <td>1995</td>\n",
       "      <td>no_info</td>\n",
       "      <td>0.0</td>\n",
       "      <td>polo</td>\n",
       "      <td>150000.0</td>\n",
       "      <td>0</td>\n",
       "      <td>benzin</td>\n",
       "      <td>volkswagen</td>\n",
       "      <td>no_info</td>\n",
       "      <td>2016-04-03</td>\n",
       "      <td>74579</td>\n",
       "      <td>2016-04-05 12:44:38</td>\n",
       "    </tr>\n",
       "    <tr>\n",
       "      <th>371473</th>\n",
       "      <td>2016-03-15 19:57:11</td>\n",
       "      <td>Subaru_Allrad</td>\n",
       "      <td>400.0</td>\n",
       "      <td>control</td>\n",
       "      <td>kombi</td>\n",
       "      <td>1991</td>\n",
       "      <td>manuell</td>\n",
       "      <td>0.0</td>\n",
       "      <td>legacy</td>\n",
       "      <td>150000.0</td>\n",
       "      <td>0</td>\n",
       "      <td>benzin</td>\n",
       "      <td>subaru</td>\n",
       "      <td>no_info</td>\n",
       "      <td>2016-03-15</td>\n",
       "      <td>24558</td>\n",
       "      <td>2016-03-19 15:49:00</td>\n",
       "    </tr>\n",
       "    <tr>\n",
       "      <th>371482</th>\n",
       "      <td>2016-03-31 19:36:18</td>\n",
       "      <td>Peugeot_206</td>\n",
       "      <td>1300.0</td>\n",
       "      <td>control</td>\n",
       "      <td>kleinwagen</td>\n",
       "      <td>1999</td>\n",
       "      <td>manuell</td>\n",
       "      <td>75.0</td>\n",
       "      <td>2_reihe</td>\n",
       "      <td>125000.0</td>\n",
       "      <td>0</td>\n",
       "      <td>benzin</td>\n",
       "      <td>peugeot</td>\n",
       "      <td>no_info</td>\n",
       "      <td>2016-03-31</td>\n",
       "      <td>35102</td>\n",
       "      <td>2016-04-06 13:44:44</td>\n",
       "    </tr>\n",
       "    <tr>\n",
       "      <th>371486</th>\n",
       "      <td>2016-03-30 20:55:30</td>\n",
       "      <td>Zu_verkaufen</td>\n",
       "      <td>350.0</td>\n",
       "      <td>control</td>\n",
       "      <td>kleinwagen</td>\n",
       "      <td>1996</td>\n",
       "      <td>no_info</td>\n",
       "      <td>65.0</td>\n",
       "      <td>punto</td>\n",
       "      <td>150000.0</td>\n",
       "      <td>0</td>\n",
       "      <td>benzin</td>\n",
       "      <td>fiat</td>\n",
       "      <td>no_info</td>\n",
       "      <td>2016-03-30</td>\n",
       "      <td>25436</td>\n",
       "      <td>2016-04-07 13:50:41</td>\n",
       "    </tr>\n",
       "    <tr>\n",
       "      <th>371494</th>\n",
       "      <td>2016-03-26 14:38:18</td>\n",
       "      <td>BMW_760_erst_110_000_km_letze_Chance_bis_Monta...</td>\n",
       "      <td>11500.0</td>\n",
       "      <td>control</td>\n",
       "      <td>limousine</td>\n",
       "      <td>2004</td>\n",
       "      <td>automatik</td>\n",
       "      <td>445.0</td>\n",
       "      <td>7er</td>\n",
       "      <td>125000.0</td>\n",
       "      <td>0</td>\n",
       "      <td>benzin</td>\n",
       "      <td>bmw</td>\n",
       "      <td>no_info</td>\n",
       "      <td>2016-03-26</td>\n",
       "      <td>4107</td>\n",
       "      <td>2016-04-06 20:45:16</td>\n",
       "    </tr>\n",
       "  </tbody>\n",
       "</table>\n",
       "<p>37675 rows × 17 columns</p>\n",
       "</div>"
      ],
      "text/plain": [
       "               dateCrawled                                               name  \\\n",
       "0      2016-03-24 11:52:17                                         Golf_3_1.6   \n",
       "9      2016-03-17 10:53:50  VW_Golf_4_5_tuerig_zu_verkaufen_mit_Anhaengerk...   \n",
       "15     2016-03-11 21:39:15                       KA_Lufthansa_Edition_450_VB   \n",
       "16     2016-04-01 12:46:46                                        Polo_6n_1_4   \n",
       "36     2016-03-11 11:50:37                                   Opel_Kadett_E_CC   \n",
       "...                    ...                                                ...   \n",
       "371460 2016-04-03 13:46:24         Polo_g40_auch_Tausch_vag...no_vr6_gti_1.8t   \n",
       "371473 2016-03-15 19:57:11                                      Subaru_Allrad   \n",
       "371482 2016-03-31 19:36:18                                        Peugeot_206   \n",
       "371486 2016-03-30 20:55:30                                       Zu_verkaufen   \n",
       "371494 2016-03-26 14:38:18  BMW_760_erst_110_000_km_letze_Chance_bis_Monta...   \n",
       "\n",
       "          price   abtest vehicleType  yearOfRegistration    gearbox  powerPS  \\\n",
       "0         480.0     test     no_info                1993    manuell      0.0   \n",
       "9         999.0     test  kleinwagen                1998    manuell    101.0   \n",
       "15        450.0     test  kleinwagen                1910    no_info      0.0   \n",
       "16        300.0     test     no_info                2016    no_info     60.0   \n",
       "36       1600.0  control      andere                1991    manuell     75.0   \n",
       "...         ...      ...         ...                 ...        ...      ...   \n",
       "371460   3500.0  control     no_info                1995    no_info      0.0   \n",
       "371473    400.0  control       kombi                1991    manuell      0.0   \n",
       "371482   1300.0  control  kleinwagen                1999    manuell     75.0   \n",
       "371486    350.0  control  kleinwagen                1996    no_info     65.0   \n",
       "371494  11500.0  control   limousine                2004  automatik    445.0   \n",
       "\n",
       "          model  kilometer  monthOfRegistration fuelType       brand  \\\n",
       "0          golf   150000.0                    0   benzin  volkswagen   \n",
       "9          golf   150000.0                    0   benzin  volkswagen   \n",
       "15           ka     5000.0                    0   benzin        ford   \n",
       "16         polo   150000.0                    0   benzin  volkswagen   \n",
       "36       kadett    70000.0                    0   benzin        opel   \n",
       "...         ...        ...                  ...      ...         ...   \n",
       "371460     polo   150000.0                    0   benzin  volkswagen   \n",
       "371473   legacy   150000.0                    0   benzin      subaru   \n",
       "371482  2_reihe   125000.0                    0   benzin     peugeot   \n",
       "371486    punto   150000.0                    0   benzin        fiat   \n",
       "371494      7er   125000.0                    0   benzin         bmw   \n",
       "\n",
       "       notRepairedDamage dateCreated  postalCode            lastSeen  \n",
       "0                no_info  2016-03-24       70435 2016-04-07 03:16:57  \n",
       "9                no_info  2016-03-17       27472 2016-03-31 17:17:06  \n",
       "15               no_info  2016-03-11       24148 2016-03-19 08:46:47  \n",
       "16               no_info  2016-04-01       38871 2016-04-01 12:46:46  \n",
       "36               no_info  2016-03-11        2943 2016-04-07 03:46:09  \n",
       "...                  ...         ...         ...                 ...  \n",
       "371460           no_info  2016-04-03       74579 2016-04-05 12:44:38  \n",
       "371473           no_info  2016-03-15       24558 2016-03-19 15:49:00  \n",
       "371482           no_info  2016-03-31       35102 2016-04-06 13:44:44  \n",
       "371486           no_info  2016-03-30       25436 2016-04-07 13:50:41  \n",
       "371494           no_info  2016-03-26        4107 2016-04-06 20:45:16  \n",
       "\n",
       "[37675 rows x 17 columns]"
      ]
     },
     "execution_count": 29,
     "metadata": {},
     "output_type": "execute_result"
    }
   ],
   "source": [
    "df_cln[(df_cln['monthOfRegistration']<1) | (df_cln['monthOfRegistration']>12)]"
   ]
  },
  {
   "cell_type": "code",
   "execution_count": 30,
   "id": "ee6b93df",
   "metadata": {},
   "outputs": [],
   "source": [
    "df_cln.loc[(df_cln['monthOfRegistration']<1) | (df_cln['monthOfRegistration']>12), 'monthOfRegistration'] = -1"
   ]
  },
  {
   "cell_type": "markdown",
   "id": "fa28e159",
   "metadata": {},
   "source": [
    "### Verificação do resultado "
   ]
  },
  {
   "cell_type": "code",
   "execution_count": 31,
   "id": "dafaf1b8",
   "metadata": {},
   "outputs": [
    {
     "data": {
      "text/html": [
       "<div>\n",
       "<style scoped>\n",
       "    .dataframe tbody tr th:only-of-type {\n",
       "        vertical-align: middle;\n",
       "    }\n",
       "\n",
       "    .dataframe tbody tr th {\n",
       "        vertical-align: top;\n",
       "    }\n",
       "\n",
       "    .dataframe thead th {\n",
       "        text-align: right;\n",
       "    }\n",
       "</style>\n",
       "<table border=\"1\" class=\"dataframe\">\n",
       "  <thead>\n",
       "    <tr style=\"text-align: right;\">\n",
       "      <th></th>\n",
       "      <th>dateCrawled</th>\n",
       "      <th>name</th>\n",
       "      <th>price</th>\n",
       "      <th>abtest</th>\n",
       "      <th>vehicleType</th>\n",
       "      <th>yearOfRegistration</th>\n",
       "      <th>gearbox</th>\n",
       "      <th>powerPS</th>\n",
       "      <th>model</th>\n",
       "      <th>kilometer</th>\n",
       "      <th>monthOfRegistration</th>\n",
       "      <th>fuelType</th>\n",
       "      <th>brand</th>\n",
       "      <th>notRepairedDamage</th>\n",
       "      <th>dateCreated</th>\n",
       "      <th>postalCode</th>\n",
       "      <th>lastSeen</th>\n",
       "    </tr>\n",
       "  </thead>\n",
       "  <tbody>\n",
       "  </tbody>\n",
       "</table>\n",
       "</div>"
      ],
      "text/plain": [
       "Empty DataFrame\n",
       "Columns: [dateCrawled, name, price, abtest, vehicleType, yearOfRegistration, gearbox, powerPS, model, kilometer, monthOfRegistration, fuelType, brand, notRepairedDamage, dateCreated, postalCode, lastSeen]\n",
       "Index: []"
      ]
     },
     "execution_count": 31,
     "metadata": {},
     "output_type": "execute_result"
    }
   ],
   "source": [
    "df_cln[((df_cln['monthOfRegistration']<1) | (df_cln['monthOfRegistration']>12)) & (df_cln['monthOfRegistration']!=-1)]"
   ]
  },
  {
   "cell_type": "markdown",
   "id": "220c5379",
   "metadata": {},
   "source": [
    "### Os meses precisam estar no intervalo: 1900 <= ano <= 2016 "
   ]
  },
  {
   "cell_type": "code",
   "execution_count": 32,
   "id": "3fbfc1a7",
   "metadata": {},
   "outputs": [],
   "source": [
    "df_cln.loc[(df_cln['yearOfRegistration']<1900) | (df_cln['yearOfRegistration']>2016), 'yearOfRegistration'] = 1900"
   ]
  },
  {
   "cell_type": "markdown",
   "id": "8d396d65",
   "metadata": {},
   "source": [
    "### Verificação do resultado "
   ]
  },
  {
   "cell_type": "code",
   "execution_count": 33,
   "id": "1e71f39e",
   "metadata": {},
   "outputs": [
    {
     "data": {
      "text/html": [
       "<div>\n",
       "<style scoped>\n",
       "    .dataframe tbody tr th:only-of-type {\n",
       "        vertical-align: middle;\n",
       "    }\n",
       "\n",
       "    .dataframe tbody tr th {\n",
       "        vertical-align: top;\n",
       "    }\n",
       "\n",
       "    .dataframe thead th {\n",
       "        text-align: right;\n",
       "    }\n",
       "</style>\n",
       "<table border=\"1\" class=\"dataframe\">\n",
       "  <thead>\n",
       "    <tr style=\"text-align: right;\">\n",
       "      <th></th>\n",
       "      <th>dateCrawled</th>\n",
       "      <th>name</th>\n",
       "      <th>price</th>\n",
       "      <th>abtest</th>\n",
       "      <th>vehicleType</th>\n",
       "      <th>yearOfRegistration</th>\n",
       "      <th>gearbox</th>\n",
       "      <th>powerPS</th>\n",
       "      <th>model</th>\n",
       "      <th>kilometer</th>\n",
       "      <th>monthOfRegistration</th>\n",
       "      <th>fuelType</th>\n",
       "      <th>brand</th>\n",
       "      <th>notRepairedDamage</th>\n",
       "      <th>dateCreated</th>\n",
       "      <th>postalCode</th>\n",
       "      <th>lastSeen</th>\n",
       "    </tr>\n",
       "  </thead>\n",
       "  <tbody>\n",
       "  </tbody>\n",
       "</table>\n",
       "</div>"
      ],
      "text/plain": [
       "Empty DataFrame\n",
       "Columns: [dateCrawled, name, price, abtest, vehicleType, yearOfRegistration, gearbox, powerPS, model, kilometer, monthOfRegistration, fuelType, brand, notRepairedDamage, dateCreated, postalCode, lastSeen]\n",
       "Index: []"
      ]
     },
     "execution_count": 33,
     "metadata": {},
     "output_type": "execute_result"
    }
   ],
   "source": [
    "df_cln[(df_cln['yearOfRegistration']<1900) | (df_cln['yearOfRegistration']>2016)]"
   ]
  },
  {
   "cell_type": "code",
   "execution_count": 34,
   "id": "5bbb82d0",
   "metadata": {},
   "outputs": [
    {
     "data": {
      "text/html": [
       "<div>\n",
       "<style scoped>\n",
       "    .dataframe tbody tr th:only-of-type {\n",
       "        vertical-align: middle;\n",
       "    }\n",
       "\n",
       "    .dataframe tbody tr th {\n",
       "        vertical-align: top;\n",
       "    }\n",
       "\n",
       "    .dataframe thead th {\n",
       "        text-align: right;\n",
       "    }\n",
       "</style>\n",
       "<table border=\"1\" class=\"dataframe\">\n",
       "  <thead>\n",
       "    <tr style=\"text-align: right;\">\n",
       "      <th></th>\n",
       "      <th>price</th>\n",
       "      <th>yearOfRegistration</th>\n",
       "      <th>powerPS</th>\n",
       "      <th>kilometer</th>\n",
       "      <th>monthOfRegistration</th>\n",
       "      <th>postalCode</th>\n",
       "    </tr>\n",
       "  </thead>\n",
       "  <tbody>\n",
       "    <tr>\n",
       "      <th>count</th>\n",
       "      <td>3.715240e+05</td>\n",
       "      <td>371524.000000</td>\n",
       "      <td>371524.000000</td>\n",
       "      <td>371524.000000</td>\n",
       "      <td>371524.000000</td>\n",
       "      <td>371524.00000</td>\n",
       "    </tr>\n",
       "    <tr>\n",
       "      <th>mean</th>\n",
       "      <td>1.729530e+04</td>\n",
       "      <td>1998.699879</td>\n",
       "      <td>115.549039</td>\n",
       "      <td>125618.842928</td>\n",
       "      <td>5.633044</td>\n",
       "      <td>50820.49427</td>\n",
       "    </tr>\n",
       "    <tr>\n",
       "      <th>std</th>\n",
       "      <td>3.587973e+06</td>\n",
       "      <td>21.335832</td>\n",
       "      <td>192.140488</td>\n",
       "      <td>40112.138811</td>\n",
       "      <td>3.877658</td>\n",
       "      <td>25799.08841</td>\n",
       "    </tr>\n",
       "    <tr>\n",
       "      <th>min</th>\n",
       "      <td>0.000000e+00</td>\n",
       "      <td>1900.000000</td>\n",
       "      <td>0.000000</td>\n",
       "      <td>5000.000000</td>\n",
       "      <td>-1.000000</td>\n",
       "      <td>1067.00000</td>\n",
       "    </tr>\n",
       "    <tr>\n",
       "      <th>25%</th>\n",
       "      <td>1.150000e+03</td>\n",
       "      <td>1998.000000</td>\n",
       "      <td>70.000000</td>\n",
       "      <td>125000.000000</td>\n",
       "      <td>3.000000</td>\n",
       "      <td>30459.00000</td>\n",
       "    </tr>\n",
       "    <tr>\n",
       "      <th>50%</th>\n",
       "      <td>2.950000e+03</td>\n",
       "      <td>2003.000000</td>\n",
       "      <td>105.000000</td>\n",
       "      <td>150000.000000</td>\n",
       "      <td>6.000000</td>\n",
       "      <td>49610.00000</td>\n",
       "    </tr>\n",
       "    <tr>\n",
       "      <th>75%</th>\n",
       "      <td>7.200000e+03</td>\n",
       "      <td>2007.000000</td>\n",
       "      <td>150.000000</td>\n",
       "      <td>150000.000000</td>\n",
       "      <td>9.000000</td>\n",
       "      <td>71546.00000</td>\n",
       "    </tr>\n",
       "    <tr>\n",
       "      <th>max</th>\n",
       "      <td>2.147484e+09</td>\n",
       "      <td>2016.000000</td>\n",
       "      <td>20000.000000</td>\n",
       "      <td>150000.000000</td>\n",
       "      <td>12.000000</td>\n",
       "      <td>99998.00000</td>\n",
       "    </tr>\n",
       "  </tbody>\n",
       "</table>\n",
       "</div>"
      ],
      "text/plain": [
       "              price  yearOfRegistration        powerPS      kilometer  \\\n",
       "count  3.715240e+05       371524.000000  371524.000000  371524.000000   \n",
       "mean   1.729530e+04         1998.699879     115.549039  125618.842928   \n",
       "std    3.587973e+06           21.335832     192.140488   40112.138811   \n",
       "min    0.000000e+00         1900.000000       0.000000    5000.000000   \n",
       "25%    1.150000e+03         1998.000000      70.000000  125000.000000   \n",
       "50%    2.950000e+03         2003.000000     105.000000  150000.000000   \n",
       "75%    7.200000e+03         2007.000000     150.000000  150000.000000   \n",
       "max    2.147484e+09         2016.000000   20000.000000  150000.000000   \n",
       "\n",
       "       monthOfRegistration    postalCode  \n",
       "count        371524.000000  371524.00000  \n",
       "mean              5.633044   50820.49427  \n",
       "std               3.877658   25799.08841  \n",
       "min              -1.000000    1067.00000  \n",
       "25%               3.000000   30459.00000  \n",
       "50%               6.000000   49610.00000  \n",
       "75%               9.000000   71546.00000  \n",
       "max              12.000000   99998.00000  "
      ]
     },
     "execution_count": 34,
     "metadata": {},
     "output_type": "execute_result"
    }
   ],
   "source": [
    "df_cln.describe()"
   ]
  },
  {
   "cell_type": "markdown",
   "id": "81b69b80",
   "metadata": {},
   "source": [
    "### Os preços precisam ser maiores que 0"
   ]
  },
  {
   "cell_type": "code",
   "execution_count": 35,
   "id": "328975aa",
   "metadata": {},
   "outputs": [],
   "source": [
    "df_cln = df_cln[df_cln['price']>0]"
   ]
  },
  {
   "cell_type": "code",
   "execution_count": 36,
   "id": "4e7ae0f5",
   "metadata": {},
   "outputs": [
    {
     "data": {
      "text/html": [
       "<div>\n",
       "<style scoped>\n",
       "    .dataframe tbody tr th:only-of-type {\n",
       "        vertical-align: middle;\n",
       "    }\n",
       "\n",
       "    .dataframe tbody tr th {\n",
       "        vertical-align: top;\n",
       "    }\n",
       "\n",
       "    .dataframe thead th {\n",
       "        text-align: right;\n",
       "    }\n",
       "</style>\n",
       "<table border=\"1\" class=\"dataframe\">\n",
       "  <thead>\n",
       "    <tr style=\"text-align: right;\">\n",
       "      <th></th>\n",
       "      <th>price</th>\n",
       "      <th>yearOfRegistration</th>\n",
       "      <th>powerPS</th>\n",
       "      <th>kilometer</th>\n",
       "      <th>monthOfRegistration</th>\n",
       "      <th>postalCode</th>\n",
       "    </tr>\n",
       "  </thead>\n",
       "  <tbody>\n",
       "    <tr>\n",
       "      <th>count</th>\n",
       "      <td>3.607460e+05</td>\n",
       "      <td>360746.000000</td>\n",
       "      <td>360746.000000</td>\n",
       "      <td>360746.000000</td>\n",
       "      <td>360746.000000</td>\n",
       "      <td>360746.000000</td>\n",
       "    </tr>\n",
       "    <tr>\n",
       "      <th>mean</th>\n",
       "      <td>1.781203e+04</td>\n",
       "      <td>1998.905718</td>\n",
       "      <td>116.575923</td>\n",
       "      <td>125661.823000</td>\n",
       "      <td>5.703282</td>\n",
       "      <td>50996.062246</td>\n",
       "    </tr>\n",
       "    <tr>\n",
       "      <th>std</th>\n",
       "      <td>3.641176e+06</td>\n",
       "      <td>21.095961</td>\n",
       "      <td>190.609039</td>\n",
       "      <td>39836.433575</td>\n",
       "      <td>3.837602</td>\n",
       "      <td>25760.472206</td>\n",
       "    </tr>\n",
       "    <tr>\n",
       "      <th>min</th>\n",
       "      <td>1.000000e+00</td>\n",
       "      <td>1900.000000</td>\n",
       "      <td>0.000000</td>\n",
       "      <td>5000.000000</td>\n",
       "      <td>-1.000000</td>\n",
       "      <td>1067.000000</td>\n",
       "    </tr>\n",
       "    <tr>\n",
       "      <th>25%</th>\n",
       "      <td>1.250000e+03</td>\n",
       "      <td>1998.000000</td>\n",
       "      <td>72.000000</td>\n",
       "      <td>100000.000000</td>\n",
       "      <td>3.000000</td>\n",
       "      <td>30823.000000</td>\n",
       "    </tr>\n",
       "    <tr>\n",
       "      <th>50%</th>\n",
       "      <td>3.000000e+03</td>\n",
       "      <td>2003.000000</td>\n",
       "      <td>105.000000</td>\n",
       "      <td>150000.000000</td>\n",
       "      <td>6.000000</td>\n",
       "      <td>49751.000000</td>\n",
       "    </tr>\n",
       "    <tr>\n",
       "      <th>75%</th>\n",
       "      <td>7.490000e+03</td>\n",
       "      <td>2007.000000</td>\n",
       "      <td>150.000000</td>\n",
       "      <td>150000.000000</td>\n",
       "      <td>9.000000</td>\n",
       "      <td>71672.000000</td>\n",
       "    </tr>\n",
       "    <tr>\n",
       "      <th>max</th>\n",
       "      <td>2.147484e+09</td>\n",
       "      <td>2016.000000</td>\n",
       "      <td>20000.000000</td>\n",
       "      <td>150000.000000</td>\n",
       "      <td>12.000000</td>\n",
       "      <td>99998.000000</td>\n",
       "    </tr>\n",
       "  </tbody>\n",
       "</table>\n",
       "</div>"
      ],
      "text/plain": [
       "              price  yearOfRegistration        powerPS      kilometer  \\\n",
       "count  3.607460e+05       360746.000000  360746.000000  360746.000000   \n",
       "mean   1.781203e+04         1998.905718     116.575923  125661.823000   \n",
       "std    3.641176e+06           21.095961     190.609039   39836.433575   \n",
       "min    1.000000e+00         1900.000000       0.000000    5000.000000   \n",
       "25%    1.250000e+03         1998.000000      72.000000  100000.000000   \n",
       "50%    3.000000e+03         2003.000000     105.000000  150000.000000   \n",
       "75%    7.490000e+03         2007.000000     150.000000  150000.000000   \n",
       "max    2.147484e+09         2016.000000   20000.000000  150000.000000   \n",
       "\n",
       "       monthOfRegistration     postalCode  \n",
       "count        360746.000000  360746.000000  \n",
       "mean              5.703282   50996.062246  \n",
       "std               3.837602   25760.472206  \n",
       "min              -1.000000    1067.000000  \n",
       "25%               3.000000   30823.000000  \n",
       "50%               6.000000   49751.000000  \n",
       "75%               9.000000   71672.000000  \n",
       "max              12.000000   99998.000000  "
      ]
     },
     "execution_count": 36,
     "metadata": {},
     "output_type": "execute_result"
    }
   ],
   "source": [
    "df_cln.describe()"
   ]
  },
  {
   "cell_type": "markdown",
   "id": "fe292170",
   "metadata": {},
   "source": [
    "### Eliminação de Outliers"
   ]
  },
  {
   "cell_type": "markdown",
   "id": "b574712b",
   "metadata": {},
   "source": [
    "#### Exemplo de distribuição e quantil\n",
    "<img src=\"https://media.geeksforgeeks.org/wp-content/uploads/20201127112813/NORMALDISTRIBUTION-660x362.png\"  width=\"80%\" height=\"60%\">"
   ]
  },
  {
   "cell_type": "code",
   "execution_count": 37,
   "id": "2946f9bb",
   "metadata": {},
   "outputs": [
    {
     "data": {
      "text/plain": [
       "price      200.0\n",
       "powerPS      0.0\n",
       "Name: 0.02, dtype: float64"
      ]
     },
     "execution_count": 37,
     "metadata": {},
     "output_type": "execute_result"
    }
   ],
   "source": [
    "#valor do quantil de 2% a esquerda\n",
    "df_cln[['price', 'powerPS']].quantile(.02)"
   ]
  },
  {
   "cell_type": "code",
   "execution_count": 38,
   "id": "fc1ec919",
   "metadata": {},
   "outputs": [
    {
     "data": {
      "text/plain": [
       "price      28500.0\n",
       "powerPS      300.0\n",
       "Name: 0.98, dtype: float64"
      ]
     },
     "execution_count": 38,
     "metadata": {},
     "output_type": "execute_result"
    }
   ],
   "source": [
    "#valor do quantil de 2% a direita\n",
    "df_cln[['price', 'powerPS']].quantile(.98)"
   ]
  },
  {
   "cell_type": "code",
   "execution_count": 39,
   "id": "645519e8",
   "metadata": {},
   "outputs": [
    {
     "name": "stdout",
     "output_type": "stream",
     "text": [
      "Quantidade de linhas antes de eliminar os outliers: 360746\n",
      "Quantidade de linhas antes de eliminar os outliers: 306747\n"
     ]
    }
   ],
   "source": [
    "print(\"Quantidade de linhas antes de eliminar os outliers:\", len(df_cln))\n",
    "list_quantile = ['price', 'powerPS'] #colunas para considerar a eliminação de outliers\n",
    "df_aux = df_cln.copy()\n",
    "for col in list_quantile:\n",
    "    low_limit = df_aux[col].quantile(.02) #valor do quantil de 2% a esquerda\n",
    "    high_limit = df_aux[col].quantile(.98) #valor do quantil de 2% a direita\n",
    "    df_cln = df_cln[(df_cln[col]>low_limit) & (df_cln[col]<high_limit)] #filtra a partir do quantil\n",
    "\n",
    "print(\"Quantidade de linhas antes de eliminar os outliers:\", len(df_cln))"
   ]
  },
  {
   "cell_type": "code",
   "execution_count": 40,
   "id": "eeb0bb85",
   "metadata": {},
   "outputs": [
    {
     "data": {
      "text/html": [
       "<div>\n",
       "<style scoped>\n",
       "    .dataframe tbody tr th:only-of-type {\n",
       "        vertical-align: middle;\n",
       "    }\n",
       "\n",
       "    .dataframe tbody tr th {\n",
       "        vertical-align: top;\n",
       "    }\n",
       "\n",
       "    .dataframe thead th {\n",
       "        text-align: right;\n",
       "    }\n",
       "</style>\n",
       "<table border=\"1\" class=\"dataframe\">\n",
       "  <thead>\n",
       "    <tr style=\"text-align: right;\">\n",
       "      <th></th>\n",
       "      <th>price</th>\n",
       "      <th>yearOfRegistration</th>\n",
       "      <th>powerPS</th>\n",
       "      <th>kilometer</th>\n",
       "      <th>monthOfRegistration</th>\n",
       "      <th>postalCode</th>\n",
       "    </tr>\n",
       "  </thead>\n",
       "  <tbody>\n",
       "    <tr>\n",
       "      <th>count</th>\n",
       "      <td>306747.000000</td>\n",
       "      <td>306747.000000</td>\n",
       "      <td>306747.000000</td>\n",
       "      <td>306747.000000</td>\n",
       "      <td>306747.000000</td>\n",
       "      <td>306747.000000</td>\n",
       "    </tr>\n",
       "    <tr>\n",
       "      <th>mean</th>\n",
       "      <td>5340.119343</td>\n",
       "      <td>1999.688421</td>\n",
       "      <td>120.376809</td>\n",
       "      <td>126738.224009</td>\n",
       "      <td>5.936378</td>\n",
       "      <td>51358.191099</td>\n",
       "    </tr>\n",
       "    <tr>\n",
       "      <th>std</th>\n",
       "      <td>5444.798096</td>\n",
       "      <td>19.581832</td>\n",
       "      <td>49.774169</td>\n",
       "      <td>38105.625551</td>\n",
       "      <td>3.691866</td>\n",
       "      <td>25740.200570</td>\n",
       "    </tr>\n",
       "    <tr>\n",
       "      <th>min</th>\n",
       "      <td>202.000000</td>\n",
       "      <td>1900.000000</td>\n",
       "      <td>1.000000</td>\n",
       "      <td>5000.000000</td>\n",
       "      <td>-1.000000</td>\n",
       "      <td>1067.000000</td>\n",
       "    </tr>\n",
       "    <tr>\n",
       "      <th>25%</th>\n",
       "      <td>1440.000000</td>\n",
       "      <td>1999.000000</td>\n",
       "      <td>80.000000</td>\n",
       "      <td>125000.000000</td>\n",
       "      <td>3.000000</td>\n",
       "      <td>31084.000000</td>\n",
       "    </tr>\n",
       "    <tr>\n",
       "      <th>50%</th>\n",
       "      <td>3300.000000</td>\n",
       "      <td>2003.000000</td>\n",
       "      <td>115.000000</td>\n",
       "      <td>150000.000000</td>\n",
       "      <td>6.000000</td>\n",
       "      <td>50354.000000</td>\n",
       "    </tr>\n",
       "    <tr>\n",
       "      <th>75%</th>\n",
       "      <td>7450.000000</td>\n",
       "      <td>2007.000000</td>\n",
       "      <td>150.000000</td>\n",
       "      <td>150000.000000</td>\n",
       "      <td>9.000000</td>\n",
       "      <td>72160.000000</td>\n",
       "    </tr>\n",
       "    <tr>\n",
       "      <th>max</th>\n",
       "      <td>28499.000000</td>\n",
       "      <td>2016.000000</td>\n",
       "      <td>299.000000</td>\n",
       "      <td>150000.000000</td>\n",
       "      <td>12.000000</td>\n",
       "      <td>99998.000000</td>\n",
       "    </tr>\n",
       "  </tbody>\n",
       "</table>\n",
       "</div>"
      ],
      "text/plain": [
       "               price  yearOfRegistration        powerPS      kilometer  \\\n",
       "count  306747.000000       306747.000000  306747.000000  306747.000000   \n",
       "mean     5340.119343         1999.688421     120.376809  126738.224009   \n",
       "std      5444.798096           19.581832      49.774169   38105.625551   \n",
       "min       202.000000         1900.000000       1.000000    5000.000000   \n",
       "25%      1440.000000         1999.000000      80.000000  125000.000000   \n",
       "50%      3300.000000         2003.000000     115.000000  150000.000000   \n",
       "75%      7450.000000         2007.000000     150.000000  150000.000000   \n",
       "max     28499.000000         2016.000000     299.000000  150000.000000   \n",
       "\n",
       "       monthOfRegistration     postalCode  \n",
       "count        306747.000000  306747.000000  \n",
       "mean              5.936378   51358.191099  \n",
       "std               3.691866   25740.200570  \n",
       "min              -1.000000    1067.000000  \n",
       "25%               3.000000   31084.000000  \n",
       "50%               6.000000   50354.000000  \n",
       "75%               9.000000   72160.000000  \n",
       "max              12.000000   99998.000000  "
      ]
     },
     "execution_count": 40,
     "metadata": {},
     "output_type": "execute_result"
    }
   ],
   "source": [
    "df_cln.describe()"
   ]
  },
  {
   "cell_type": "markdown",
   "id": "ad8a89f4",
   "metadata": {},
   "source": [
    "### Gera os novos resultados"
   ]
  },
  {
   "cell_type": "code",
   "execution_count": 41,
   "id": "11b90ffc",
   "metadata": {},
   "outputs": [
    {
     "data": {
      "application/vnd.jupyter.widget-view+json": {
       "model_id": "1767fcd823dc406683e965c831ccfa9b",
       "version_major": 2,
       "version_minor": 0
      },
      "text/plain": [
       "Summarize dataset:   0%|          | 0/5 [00:00<?, ?it/s]"
      ]
     },
     "metadata": {},
     "output_type": "display_data"
    },
    {
     "data": {
      "application/vnd.jupyter.widget-view+json": {
       "model_id": "d17a094cec4a47cb8b94bc016fb4ed31",
       "version_major": 2,
       "version_minor": 0
      },
      "text/plain": [
       "Generate report structure:   0%|          | 0/1 [00:00<?, ?it/s]"
      ]
     },
     "metadata": {},
     "output_type": "display_data"
    },
    {
     "data": {
      "application/vnd.jupyter.widget-view+json": {
       "model_id": "4b6cb8fba9034213a03ea3ea2404fb2c",
       "version_major": 2,
       "version_minor": 0
      },
      "text/plain": [
       "Render HTML:   0%|          | 0/1 [00:00<?, ?it/s]"
      ]
     },
     "metadata": {},
     "output_type": "display_data"
    },
    {
     "data": {
      "application/vnd.jupyter.widget-view+json": {
       "model_id": "5dadc8bc0be94eed9bfb14ef398dae67",
       "version_major": 2,
       "version_minor": 0
      },
      "text/plain": [
       "Export report to file:   0%|          | 0/1 [00:00<?, ?it/s]"
      ]
     },
     "metadata": {},
     "output_type": "display_data"
    }
   ],
   "source": [
    "profile = ProfileReport(df_cln, title=\"Pandas Profiling Report\")\n",
    "\n",
    "profile.to_file(\"novos_resultados.html\")"
   ]
  }
 ],
 "metadata": {
  "kernelspec": {
   "display_name": "Python 3 (ipykernel)",
   "language": "python",
   "name": "python3"
  },
  "language_info": {
   "codemirror_mode": {
    "name": "ipython",
    "version": 3
   },
   "file_extension": ".py",
   "mimetype": "text/x-python",
   "name": "python",
   "nbconvert_exporter": "python",
   "pygments_lexer": "ipython3",
   "version": "3.7.16"
  }
 },
 "nbformat": 4,
 "nbformat_minor": 5
}
