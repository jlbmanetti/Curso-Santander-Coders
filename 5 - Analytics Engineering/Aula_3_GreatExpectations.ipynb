{
 "cells": [
  {
   "cell_type": "markdown",
   "metadata": {},
   "source": [
    "## Módulo: Analytics Engineering\n",
    "    \n",
    "## Aula 3 - Parte 1"
   ]
  },
  {
   "cell_type": "markdown",
   "metadata": {},
   "source": [
    "### Programação da Aula 3:\n",
    "\n",
    "> ### 1. **O que é a \"Great Expectations\"**:\n",
    "> ### 2. **\"Great Expectations\" na prática**;\n",
    "> ### 3. **Apresentação do projeto**;\n",
    "> ### 4. **Desenvolvimento de exercício ou projeto**;\n",
    "\n",
    "#### Link para o formulário para informar os integrantes do grupo do projeto:\n",
    "https://forms.gle/8kCUMyV7TDZCWz5t6\n",
    "\n",
    "#### Link para o formulário de Feedback da aula:\n",
    "https://forms.gle/WTqMrUForj3z1rbK6"
   ]
  },
  {
   "cell_type": "markdown",
   "metadata": {},
   "source": [
    "### Great Expectations\n",
    "\n",
    "#### Great Expectations é uma biblioteca para testar e documentar a qualidade dos dados em projetos. Ela permite que você defina, documente e teste as expectativas em seus dados, garantindo que eles atendam aos critérios desejados. Isso é útil para verificar a integridade, precisão e consistência dos seus dados.\n",
    "\n",
    "<div style=\"text-align: center;\">\n",
    "\n",
    "<br>\n",
    "\n",
    "<img src=\"https://docs.greatexpectations.io/assets/images/data_context_does_for_you-df2eca32d0152ead16cccd5d3d226abb.png\"  width=\"80%\" height=\"60%\">\n",
    "\n",
    "###### Fonte: https://docs.greatexpectations.io/assets/images/data_context_does_for_you-df2eca32d0152ead16cccd5d3d226abb.png\n",
    "<br>\n",
    "\n",
    "<img src=\"https://docs.greatexpectations.io/assets/images/data_context_flowchart-2d63bd4a6be784aa4d7f44a962a65b72.png\"  width=\"80%\" height=\"60%\">\n",
    "\n",
    "###### Fonte: https://docs.greatexpectations.io/assets/images/data_context_flowchart-2d63bd4a6be784aa4d7f44a962a65b72.png\n",
    "<br>\n",
    "\n",
    "<br>\n",
    "\n",
    "<img src=\"https://docs.greatexpectations.io/assets/images/datasource_flowchart-73d07084d7c20d480f92dacb8001222f.png\"  width=\"80%\" height=\"60%\">\n",
    "\n",
    "###### Fonte: https://docs.greatexpectations.io/assets/images/datasource_flowchart-73d07084d7c20d480f92dacb8001222f.png\n",
    "<br>\n",
    "\n",
    "<img src=\"https://docs.greatexpectations.io/assets/images/checkpoint_flowchart-80a2dc06e90a4739f6cfdec60a115c1e.png\"  width=\"80%\" height=\"60%\">\n",
    "\n",
    "###### Fonte: https://docs.greatexpectations.io/assets/images/checkpoint_flowchart-80a2dc06e90a4739f6cfdec60a115c1e.png\n",
    "<br>"
   ]
  },
  {
   "cell_type": "markdown",
   "metadata": {},
   "source": [
    "### Instalação da biblioteca \"Great Expectations\""
   ]
  },
  {
   "cell_type": "code",
   "execution_count": 1,
   "metadata": {},
   "outputs": [
    {
     "name": "stdout",
     "output_type": "stream",
     "text": [
      "Requirement already satisfied: great_expectations in c:\\users\\andradema\\anaconda3\\envs\\ada\\lib\\site-packages (0.17.21)\n",
      "Requirement already satisfied: altair<5.0.0,>=4.2.1 in c:\\users\\andradema\\anaconda3\\envs\\ada\\lib\\site-packages (from great_expectations) (4.2.2)\n",
      "Requirement already satisfied: Click!=8.1.4,>=7.1.2 in c:\\users\\andradema\\anaconda3\\envs\\ada\\lib\\site-packages (from great_expectations) (8.1.7)\n",
      "Requirement already satisfied: colorama>=0.4.3 in c:\\users\\andradema\\anaconda3\\envs\\ada\\lib\\site-packages (from great_expectations) (0.4.6)\n",
      "Requirement already satisfied: cryptography>=3.2 in c:\\users\\andradema\\anaconda3\\envs\\ada\\lib\\site-packages (from great_expectations) (41.0.4)\n",
      "Requirement already satisfied: Ipython>=7.16.3 in c:\\users\\andradema\\anaconda3\\envs\\ada\\lib\\site-packages (from great_expectations) (8.16.1)\n",
      "Requirement already satisfied: ipywidgets>=7.5.1 in c:\\users\\andradema\\anaconda3\\envs\\ada\\lib\\site-packages (from great_expectations) (8.1.1)\n",
      "Requirement already satisfied: jinja2>=2.10 in c:\\users\\andradema\\anaconda3\\envs\\ada\\lib\\site-packages (from great_expectations) (3.1.2)\n",
      "Requirement already satisfied: jsonpatch>=1.22 in c:\\users\\andradema\\anaconda3\\envs\\ada\\lib\\site-packages (from great_expectations) (1.33)\n",
      "Requirement already satisfied: jsonschema>=2.5.1 in c:\\users\\andradema\\anaconda3\\envs\\ada\\lib\\site-packages (from great_expectations) (4.19.1)\n",
      "Requirement already satisfied: makefun<2,>=1.7.0 in c:\\users\\andradema\\anaconda3\\envs\\ada\\lib\\site-packages (from great_expectations) (1.15.1)\n",
      "Requirement already satisfied: marshmallow<4.0.0,>=3.7.1 in c:\\users\\andradema\\anaconda3\\envs\\ada\\lib\\site-packages (from great_expectations) (3.20.1)\n",
      "Requirement already satisfied: mistune>=0.8.4 in c:\\users\\andradema\\anaconda3\\envs\\ada\\lib\\site-packages (from great_expectations) (3.0.2)\n",
      "Requirement already satisfied: nbformat>=5.0 in c:\\users\\andradema\\anaconda3\\envs\\ada\\lib\\site-packages (from great_expectations) (5.9.2)\n",
      "Requirement already satisfied: notebook>=6.4.10 in c:\\users\\andradema\\anaconda3\\envs\\ada\\lib\\site-packages (from great_expectations) (7.0.4)\n",
      "Requirement already satisfied: packaging in c:\\users\\andradema\\anaconda3\\envs\\ada\\lib\\site-packages (from great_expectations) (23.2)\n",
      "Requirement already satisfied: pydantic>=1.9.2 in c:\\users\\andradema\\anaconda3\\envs\\ada\\lib\\site-packages (from great_expectations) (1.10.13)\n",
      "Requirement already satisfied: pyparsing>=2.4 in c:\\users\\andradema\\anaconda3\\envs\\ada\\lib\\site-packages (from great_expectations) (3.1.1)\n",
      "Requirement already satisfied: python-dateutil>=2.8.1 in c:\\users\\andradema\\anaconda3\\envs\\ada\\lib\\site-packages (from great_expectations) (2.8.2)\n",
      "Requirement already satisfied: pytz>=2021.3 in c:\\users\\andradema\\anaconda3\\envs\\ada\\lib\\site-packages (from great_expectations) (2023.3.post1)\n",
      "Requirement already satisfied: requests>=2.20 in c:\\users\\andradema\\anaconda3\\envs\\ada\\lib\\site-packages (from great_expectations) (2.31.0)\n",
      "Requirement already satisfied: ruamel.yaml<0.17.18,>=0.16 in c:\\users\\andradema\\anaconda3\\envs\\ada\\lib\\site-packages (from great_expectations) (0.17.17)\n",
      "Requirement already satisfied: scipy>=1.6.0 in c:\\users\\andradema\\anaconda3\\envs\\ada\\lib\\site-packages (from great_expectations) (1.11.3)\n",
      "Requirement already satisfied: tqdm>=4.59.0 in c:\\users\\andradema\\anaconda3\\envs\\ada\\lib\\site-packages (from great_expectations) (4.66.1)\n",
      "Requirement already satisfied: typing-extensions>=3.10.0.0 in c:\\users\\andradema\\anaconda3\\envs\\ada\\lib\\site-packages (from great_expectations) (4.8.0)\n",
      "Requirement already satisfied: tzlocal>=1.2 in c:\\users\\andradema\\anaconda3\\envs\\ada\\lib\\site-packages (from great_expectations) (5.1)\n",
      "Requirement already satisfied: urllib3>=1.26 in c:\\users\\andradema\\anaconda3\\envs\\ada\\lib\\site-packages (from great_expectations) (2.0.6)\n",
      "Requirement already satisfied: numpy>=1.21.6 in c:\\users\\andradema\\anaconda3\\envs\\ada\\lib\\site-packages (from great_expectations) (1.25.2)\n",
      "Requirement already satisfied: pandas>=1.1.3 in c:\\users\\andradema\\anaconda3\\envs\\ada\\lib\\site-packages (from great_expectations) (2.0.3)\n",
      "Requirement already satisfied: entrypoints in c:\\users\\andradema\\anaconda3\\envs\\ada\\lib\\site-packages (from altair<5.0.0,>=4.2.1->great_expectations) (0.4)\n",
      "Requirement already satisfied: toolz in c:\\users\\andradema\\anaconda3\\envs\\ada\\lib\\site-packages (from altair<5.0.0,>=4.2.1->great_expectations) (0.12.0)\n",
      "Requirement already satisfied: cffi>=1.12 in c:\\users\\andradema\\anaconda3\\envs\\ada\\lib\\site-packages (from cryptography>=3.2->great_expectations) (1.16.0)\n",
      "Requirement already satisfied: backcall in c:\\users\\andradema\\anaconda3\\envs\\ada\\lib\\site-packages (from Ipython>=7.16.3->great_expectations) (0.2.0)\n",
      "Requirement already satisfied: decorator in c:\\users\\andradema\\anaconda3\\envs\\ada\\lib\\site-packages (from Ipython>=7.16.3->great_expectations) (5.1.1)\n",
      "Requirement already satisfied: jedi>=0.16 in c:\\users\\andradema\\anaconda3\\envs\\ada\\lib\\site-packages (from Ipython>=7.16.3->great_expectations) (0.19.1)\n",
      "Requirement already satisfied: matplotlib-inline in c:\\users\\andradema\\anaconda3\\envs\\ada\\lib\\site-packages (from Ipython>=7.16.3->great_expectations) (0.1.6)\n",
      "Requirement already satisfied: pickleshare in c:\\users\\andradema\\anaconda3\\envs\\ada\\lib\\site-packages (from Ipython>=7.16.3->great_expectations) (0.7.5)\n",
      "Requirement already satisfied: prompt-toolkit!=3.0.37,<3.1.0,>=3.0.30 in c:\\users\\andradema\\anaconda3\\envs\\ada\\lib\\site-packages (from Ipython>=7.16.3->great_expectations) (3.0.39)\n",
      "Requirement already satisfied: pygments>=2.4.0 in c:\\users\\andradema\\anaconda3\\envs\\ada\\lib\\site-packages (from Ipython>=7.16.3->great_expectations) (2.16.1)\n",
      "Requirement already satisfied: stack-data in c:\\users\\andradema\\anaconda3\\envs\\ada\\lib\\site-packages (from Ipython>=7.16.3->great_expectations) (0.6.2)\n",
      "Requirement already satisfied: traitlets>=5 in c:\\users\\andradema\\anaconda3\\envs\\ada\\lib\\site-packages (from Ipython>=7.16.3->great_expectations) (5.11.2)\n",
      "Requirement already satisfied: exceptiongroup in c:\\users\\andradema\\anaconda3\\envs\\ada\\lib\\site-packages (from Ipython>=7.16.3->great_expectations) (1.1.3)\n",
      "Requirement already satisfied: comm>=0.1.3 in c:\\users\\andradema\\anaconda3\\envs\\ada\\lib\\site-packages (from ipywidgets>=7.5.1->great_expectations) (0.1.4)\n",
      "Requirement already satisfied: widgetsnbextension~=4.0.9 in c:\\users\\andradema\\anaconda3\\envs\\ada\\lib\\site-packages (from ipywidgets>=7.5.1->great_expectations) (4.0.9)\n",
      "Requirement already satisfied: jupyterlab-widgets~=3.0.9 in c:\\users\\andradema\\anaconda3\\envs\\ada\\lib\\site-packages (from ipywidgets>=7.5.1->great_expectations) (3.0.9)\n",
      "Requirement already satisfied: MarkupSafe>=2.0 in c:\\users\\andradema\\anaconda3\\envs\\ada\\lib\\site-packages (from jinja2>=2.10->great_expectations) (2.1.3)\n",
      "Requirement already satisfied: jsonpointer>=1.9 in c:\\users\\andradema\\anaconda3\\envs\\ada\\lib\\site-packages (from jsonpatch>=1.22->great_expectations) (2.4)\n",
      "Requirement already satisfied: attrs>=22.2.0 in c:\\users\\andradema\\anaconda3\\envs\\ada\\lib\\site-packages (from jsonschema>=2.5.1->great_expectations) (23.1.0)\n",
      "Requirement already satisfied: jsonschema-specifications>=2023.03.6 in c:\\users\\andradema\\anaconda3\\envs\\ada\\lib\\site-packages (from jsonschema>=2.5.1->great_expectations) (2023.7.1)\n",
      "Requirement already satisfied: referencing>=0.28.4 in c:\\users\\andradema\\anaconda3\\envs\\ada\\lib\\site-packages (from jsonschema>=2.5.1->great_expectations) (0.30.2)\n",
      "Requirement already satisfied: rpds-py>=0.7.1 in c:\\users\\andradema\\anaconda3\\envs\\ada\\lib\\site-packages (from jsonschema>=2.5.1->great_expectations) (0.10.4)\n",
      "Requirement already satisfied: fastjsonschema in c:\\users\\andradema\\anaconda3\\envs\\ada\\lib\\site-packages (from nbformat>=5.0->great_expectations) (2.18.1)\n",
      "Requirement already satisfied: jupyter-core in c:\\users\\andradema\\anaconda3\\envs\\ada\\lib\\site-packages (from nbformat>=5.0->great_expectations) (5.4.0)\n",
      "Requirement already satisfied: jupyter-server<3,>=2.4.0 in c:\\users\\andradema\\anaconda3\\envs\\ada\\lib\\site-packages (from notebook>=6.4.10->great_expectations) (2.7.3)\n",
      "Requirement already satisfied: jupyterlab-server<3,>=2.22.1 in c:\\users\\andradema\\anaconda3\\envs\\ada\\lib\\site-packages (from notebook>=6.4.10->great_expectations) (2.25.0)\n",
      "Requirement already satisfied: jupyterlab<5,>=4.0.2 in c:\\users\\andradema\\anaconda3\\envs\\ada\\lib\\site-packages (from notebook>=6.4.10->great_expectations) (4.0.6)\n",
      "Requirement already satisfied: notebook-shim<0.3,>=0.2 in c:\\users\\andradema\\anaconda3\\envs\\ada\\lib\\site-packages (from notebook>=6.4.10->great_expectations) (0.2.3)\n",
      "Requirement already satisfied: tornado>=6.2.0 in c:\\users\\andradema\\anaconda3\\envs\\ada\\lib\\site-packages (from notebook>=6.4.10->great_expectations) (6.2)\n",
      "Requirement already satisfied: tzdata>=2022.1 in c:\\users\\andradema\\anaconda3\\envs\\ada\\lib\\site-packages (from pandas>=1.1.3->great_expectations) (2023.3)\n",
      "Requirement already satisfied: six>=1.5 in c:\\users\\andradema\\anaconda3\\envs\\ada\\lib\\site-packages (from python-dateutil>=2.8.1->great_expectations) (1.16.0)\n",
      "Requirement already satisfied: charset-normalizer<4,>=2 in c:\\users\\andradema\\anaconda3\\envs\\ada\\lib\\site-packages (from requests>=2.20->great_expectations) (3.3.0)\n",
      "Requirement already satisfied: idna<4,>=2.5 in c:\\users\\andradema\\anaconda3\\envs\\ada\\lib\\site-packages (from requests>=2.20->great_expectations) (3.4)\n",
      "Requirement already satisfied: certifi>=2017.4.17 in c:\\users\\andradema\\anaconda3\\envs\\ada\\lib\\site-packages (from requests>=2.20->great_expectations) (2023.7.22)\n",
      "Requirement already satisfied: ruamel.yaml.clib>=0.1.2 in c:\\users\\andradema\\anaconda3\\envs\\ada\\lib\\site-packages (from ruamel.yaml<0.17.18,>=0.16->great_expectations) (0.2.8)\n",
      "Requirement already satisfied: pycparser in c:\\users\\andradema\\anaconda3\\envs\\ada\\lib\\site-packages (from cffi>=1.12->cryptography>=3.2->great_expectations) (2.21)\n",
      "Requirement already satisfied: parso<0.9.0,>=0.8.3 in c:\\users\\andradema\\anaconda3\\envs\\ada\\lib\\site-packages (from jedi>=0.16->Ipython>=7.16.3->great_expectations) (0.8.3)\n",
      "Requirement already satisfied: anyio>=3.1.0 in c:\\users\\andradema\\anaconda3\\envs\\ada\\lib\\site-packages (from jupyter-server<3,>=2.4.0->notebook>=6.4.10->great_expectations) (4.0.0)\n",
      "Requirement already satisfied: argon2-cffi in c:\\users\\andradema\\anaconda3\\envs\\ada\\lib\\site-packages (from jupyter-server<3,>=2.4.0->notebook>=6.4.10->great_expectations) (23.1.0)\n",
      "Requirement already satisfied: jupyter-client>=7.4.4 in c:\\users\\andradema\\anaconda3\\envs\\ada\\lib\\site-packages (from jupyter-server<3,>=2.4.0->notebook>=6.4.10->great_expectations) (8.3.1)\n",
      "Requirement already satisfied: jupyter-events>=0.6.0 in c:\\users\\andradema\\anaconda3\\envs\\ada\\lib\\site-packages (from jupyter-server<3,>=2.4.0->notebook>=6.4.10->great_expectations) (0.7.0)\n",
      "Requirement already satisfied: jupyter-server-terminals in c:\\users\\andradema\\anaconda3\\envs\\ada\\lib\\site-packages (from jupyter-server<3,>=2.4.0->notebook>=6.4.10->great_expectations) (0.4.4)\n",
      "Requirement already satisfied: nbconvert>=6.4.4 in c:\\users\\andradema\\anaconda3\\envs\\ada\\lib\\site-packages (from jupyter-server<3,>=2.4.0->notebook>=6.4.10->great_expectations) (7.9.2)\n",
      "Requirement already satisfied: overrides in c:\\users\\andradema\\anaconda3\\envs\\ada\\lib\\site-packages (from jupyter-server<3,>=2.4.0->notebook>=6.4.10->great_expectations) (7.4.0)\n",
      "Requirement already satisfied: prometheus-client in c:\\users\\andradema\\anaconda3\\envs\\ada\\lib\\site-packages (from jupyter-server<3,>=2.4.0->notebook>=6.4.10->great_expectations) (0.17.1)\n",
      "Requirement already satisfied: pywinpty in c:\\users\\andradema\\anaconda3\\envs\\ada\\lib\\site-packages (from jupyter-server<3,>=2.4.0->notebook>=6.4.10->great_expectations) (2.0.12)\n",
      "Requirement already satisfied: pyzmq>=24 in c:\\users\\andradema\\anaconda3\\envs\\ada\\lib\\site-packages (from jupyter-server<3,>=2.4.0->notebook>=6.4.10->great_expectations) (25.1.1)\n",
      "Requirement already satisfied: send2trash>=1.8.2 in c:\\users\\andradema\\anaconda3\\envs\\ada\\lib\\site-packages (from jupyter-server<3,>=2.4.0->notebook>=6.4.10->great_expectations) (1.8.2)\n",
      "Requirement already satisfied: terminado>=0.8.3 in c:\\users\\andradema\\anaconda3\\envs\\ada\\lib\\site-packages (from jupyter-server<3,>=2.4.0->notebook>=6.4.10->great_expectations) (0.17.1)\n",
      "Requirement already satisfied: websocket-client in c:\\users\\andradema\\anaconda3\\envs\\ada\\lib\\site-packages (from jupyter-server<3,>=2.4.0->notebook>=6.4.10->great_expectations) (1.6.4)\n",
      "Requirement already satisfied: platformdirs>=2.5 in c:\\users\\andradema\\anaconda3\\envs\\ada\\lib\\site-packages (from jupyter-core->nbformat>=5.0->great_expectations) (3.11.0)\n",
      "Requirement already satisfied: pywin32>=300 in c:\\users\\andradema\\anaconda3\\envs\\ada\\lib\\site-packages (from jupyter-core->nbformat>=5.0->great_expectations) (305.1)\n",
      "Requirement already satisfied: async-lru>=1.0.0 in c:\\users\\andradema\\anaconda3\\envs\\ada\\lib\\site-packages (from jupyterlab<5,>=4.0.2->notebook>=6.4.10->great_expectations) (2.0.4)\n",
      "Requirement already satisfied: importlib-metadata>=4.8.3 in c:\\users\\andradema\\anaconda3\\envs\\ada\\lib\\site-packages (from jupyterlab<5,>=4.0.2->notebook>=6.4.10->great_expectations) (6.8.0)\n",
      "Requirement already satisfied: ipykernel in c:\\users\\andradema\\anaconda3\\envs\\ada\\lib\\site-packages (from jupyterlab<5,>=4.0.2->notebook>=6.4.10->great_expectations) (6.25.2)\n",
      "Requirement already satisfied: jupyter-lsp>=2.0.0 in c:\\users\\andradema\\anaconda3\\envs\\ada\\lib\\site-packages (from jupyterlab<5,>=4.0.2->notebook>=6.4.10->great_expectations) (2.2.0)\n",
      "Requirement already satisfied: tomli in c:\\users\\andradema\\anaconda3\\envs\\ada\\lib\\site-packages (from jupyterlab<5,>=4.0.2->notebook>=6.4.10->great_expectations) (2.0.1)\n",
      "Requirement already satisfied: babel>=2.10 in c:\\users\\andradema\\anaconda3\\envs\\ada\\lib\\site-packages (from jupyterlab-server<3,>=2.22.1->notebook>=6.4.10->great_expectations) (2.13.0)\n",
      "Requirement already satisfied: json5>=0.9.0 in c:\\users\\andradema\\anaconda3\\envs\\ada\\lib\\site-packages (from jupyterlab-server<3,>=2.22.1->notebook>=6.4.10->great_expectations) (0.9.14)\n",
      "Requirement already satisfied: wcwidth in c:\\users\\andradema\\anaconda3\\envs\\ada\\lib\\site-packages (from prompt-toolkit!=3.0.37,<3.1.0,>=3.0.30->Ipython>=7.16.3->great_expectations) (0.2.8)\n",
      "Requirement already satisfied: executing>=1.2.0 in c:\\users\\andradema\\anaconda3\\envs\\ada\\lib\\site-packages (from stack-data->Ipython>=7.16.3->great_expectations) (1.2.0)\n",
      "Requirement already satisfied: asttokens>=2.1.0 in c:\\users\\andradema\\anaconda3\\envs\\ada\\lib\\site-packages (from stack-data->Ipython>=7.16.3->great_expectations) (2.4.0)\n",
      "Requirement already satisfied: pure-eval in c:\\users\\andradema\\anaconda3\\envs\\ada\\lib\\site-packages (from stack-data->Ipython>=7.16.3->great_expectations) (0.2.2)\n",
      "Requirement already satisfied: sniffio>=1.1 in c:\\users\\andradema\\anaconda3\\envs\\ada\\lib\\site-packages (from anyio>=3.1.0->jupyter-server<3,>=2.4.0->notebook>=6.4.10->great_expectations) (1.3.0)\n",
      "Requirement already satisfied: zipp>=0.5 in c:\\users\\andradema\\anaconda3\\envs\\ada\\lib\\site-packages (from importlib-metadata>=4.8.3->jupyterlab<5,>=4.0.2->notebook>=6.4.10->great_expectations) (3.17.0)\n",
      "Requirement already satisfied: python-json-logger>=2.0.4 in c:\\users\\andradema\\anaconda3\\envs\\ada\\lib\\site-packages (from jupyter-events>=0.6.0->jupyter-server<3,>=2.4.0->notebook>=6.4.10->great_expectations) (2.0.7)\n",
      "Requirement already satisfied: pyyaml>=5.3 in c:\\users\\andradema\\anaconda3\\envs\\ada\\lib\\site-packages (from jupyter-events>=0.6.0->jupyter-server<3,>=2.4.0->notebook>=6.4.10->great_expectations) (6.0.1)\n",
      "Requirement already satisfied: rfc3339-validator in c:\\users\\andradema\\anaconda3\\envs\\ada\\lib\\site-packages (from jupyter-events>=0.6.0->jupyter-server<3,>=2.4.0->notebook>=6.4.10->great_expectations) (0.1.4)\n",
      "Requirement already satisfied: rfc3986-validator>=0.1.1 in c:\\users\\andradema\\anaconda3\\envs\\ada\\lib\\site-packages (from jupyter-events>=0.6.0->jupyter-server<3,>=2.4.0->notebook>=6.4.10->great_expectations) (0.1.1)\n",
      "Requirement already satisfied: beautifulsoup4 in c:\\users\\andradema\\anaconda3\\envs\\ada\\lib\\site-packages (from nbconvert>=6.4.4->jupyter-server<3,>=2.4.0->notebook>=6.4.10->great_expectations) (4.12.2)\n",
      "Requirement already satisfied: bleach!=5.0.0 in c:\\users\\andradema\\anaconda3\\envs\\ada\\lib\\site-packages (from nbconvert>=6.4.4->jupyter-server<3,>=2.4.0->notebook>=6.4.10->great_expectations) (6.1.0)\n",
      "Requirement already satisfied: defusedxml in c:\\users\\andradema\\anaconda3\\envs\\ada\\lib\\site-packages (from nbconvert>=6.4.4->jupyter-server<3,>=2.4.0->notebook>=6.4.10->great_expectations) (0.7.1)\n",
      "Requirement already satisfied: jupyterlab-pygments in c:\\users\\andradema\\anaconda3\\envs\\ada\\lib\\site-packages (from nbconvert>=6.4.4->jupyter-server<3,>=2.4.0->notebook>=6.4.10->great_expectations) (0.2.2)\n",
      "Requirement already satisfied: nbclient>=0.5.0 in c:\\users\\andradema\\anaconda3\\envs\\ada\\lib\\site-packages (from nbconvert>=6.4.4->jupyter-server<3,>=2.4.0->notebook>=6.4.10->great_expectations) (0.8.0)\n",
      "Requirement already satisfied: pandocfilters>=1.4.1 in c:\\users\\andradema\\anaconda3\\envs\\ada\\lib\\site-packages (from nbconvert>=6.4.4->jupyter-server<3,>=2.4.0->notebook>=6.4.10->great_expectations) (1.5.0)\n",
      "Requirement already satisfied: tinycss2 in c:\\users\\andradema\\anaconda3\\envs\\ada\\lib\\site-packages (from nbconvert>=6.4.4->jupyter-server<3,>=2.4.0->notebook>=6.4.10->great_expectations) (1.2.1)\n",
      "Requirement already satisfied: argon2-cffi-bindings in c:\\users\\andradema\\anaconda3\\envs\\ada\\lib\\site-packages (from argon2-cffi->jupyter-server<3,>=2.4.0->notebook>=6.4.10->great_expectations) (21.2.0)\n",
      "Requirement already satisfied: debugpy>=1.6.5 in c:\\users\\andradema\\anaconda3\\envs\\ada\\lib\\site-packages (from ipykernel->jupyterlab<5,>=4.0.2->notebook>=6.4.10->great_expectations) (1.6.7)\n",
      "Requirement already satisfied: nest-asyncio in c:\\users\\andradema\\anaconda3\\envs\\ada\\lib\\site-packages (from ipykernel->jupyterlab<5,>=4.0.2->notebook>=6.4.10->great_expectations) (1.5.6)\n",
      "Requirement already satisfied: psutil in c:\\users\\andradema\\anaconda3\\envs\\ada\\lib\\site-packages (from ipykernel->jupyterlab<5,>=4.0.2->notebook>=6.4.10->great_expectations) (5.9.0)\n",
      "Requirement already satisfied: webencodings in c:\\users\\andradema\\anaconda3\\envs\\ada\\lib\\site-packages (from bleach!=5.0.0->nbconvert>=6.4.4->jupyter-server<3,>=2.4.0->notebook>=6.4.10->great_expectations) (0.5.1)\n",
      "Requirement already satisfied: fqdn in c:\\users\\andradema\\anaconda3\\envs\\ada\\lib\\site-packages (from jsonschema>=2.5.1->great_expectations) (1.5.1)\n",
      "Requirement already satisfied: isoduration in c:\\users\\andradema\\anaconda3\\envs\\ada\\lib\\site-packages (from jsonschema>=2.5.1->great_expectations) (20.11.0)\n",
      "Requirement already satisfied: uri-template in c:\\users\\andradema\\anaconda3\\envs\\ada\\lib\\site-packages (from jsonschema>=2.5.1->great_expectations) (1.3.0)\n",
      "Requirement already satisfied: webcolors>=1.11 in c:\\users\\andradema\\anaconda3\\envs\\ada\\lib\\site-packages (from jsonschema>=2.5.1->great_expectations) (1.13)\n",
      "Requirement already satisfied: soupsieve>1.2 in c:\\users\\andradema\\anaconda3\\envs\\ada\\lib\\site-packages (from beautifulsoup4->nbconvert>=6.4.4->jupyter-server<3,>=2.4.0->notebook>=6.4.10->great_expectations) (2.5)\n",
      "Requirement already satisfied: arrow>=0.15.0 in c:\\users\\andradema\\anaconda3\\envs\\ada\\lib\\site-packages (from isoduration->jsonschema>=2.5.1->great_expectations) (1.3.0)\n",
      "Requirement already satisfied: types-python-dateutil>=2.8.10 in c:\\users\\andradema\\anaconda3\\envs\\ada\\lib\\site-packages (from arrow>=0.15.0->isoduration->jsonschema>=2.5.1->great_expectations) (2.8.19.14)\n"
     ]
    }
   ],
   "source": [
    "!pip install great_expectations"
   ]
  },
  {
   "cell_type": "code",
   "execution_count": 2,
   "metadata": {},
   "outputs": [
    {
     "name": "stdout",
     "output_type": "stream",
     "text": [
      "Name: great-expectations\n",
      "Version: 0.17.21\n",
      "Summary: Always know what to expect from your data.\n",
      "Home-page: https://greatexpectations.io\n",
      "Author: The Great Expectations Team\n",
      "Author-email: team@greatexpectations.io\n",
      "License: Apache-2.0\n",
      "Location: c:\\users\\andradema\\anaconda3\\envs\\ada\\lib\\site-packages\n",
      "Requires: altair, Click, colorama, cryptography, Ipython, ipywidgets, jinja2, jsonpatch, jsonschema, makefun, marshmallow, mistune, nbformat, notebook, numpy, packaging, pandas, pydantic, pyparsing, python-dateutil, pytz, requests, ruamel.yaml, scipy, tqdm, typing-extensions, tzlocal, urllib3\n",
      "Required-by: \n"
     ]
    }
   ],
   "source": [
    "!pip show great_expectations"
   ]
  },
  {
   "cell_type": "markdown",
   "metadata": {},
   "source": [
    "### Leitura de um arquivo csv com o Pandas direto pelo \"great_expectations\""
   ]
  },
  {
   "cell_type": "code",
   "execution_count": 3,
   "metadata": {},
   "outputs": [
    {
     "data": {
      "text/html": [
       "<div>\n",
       "<style scoped>\n",
       "    .dataframe tbody tr th:only-of-type {\n",
       "        vertical-align: middle;\n",
       "    }\n",
       "\n",
       "    .dataframe tbody tr th {\n",
       "        vertical-align: top;\n",
       "    }\n",
       "\n",
       "    .dataframe thead th {\n",
       "        text-align: right;\n",
       "    }\n",
       "</style>\n",
       "<table border=\"1\" class=\"dataframe\">\n",
       "  <thead>\n",
       "    <tr style=\"text-align: right;\">\n",
       "      <th></th>\n",
       "      <th>dateCrawled</th>\n",
       "      <th>name</th>\n",
       "      <th>seller</th>\n",
       "      <th>offerType</th>\n",
       "      <th>price</th>\n",
       "      <th>abtest</th>\n",
       "      <th>vehicleType</th>\n",
       "      <th>yearOfRegistration</th>\n",
       "      <th>gearbox</th>\n",
       "      <th>powerPS</th>\n",
       "      <th>model</th>\n",
       "      <th>kilometer</th>\n",
       "      <th>monthOfRegistration</th>\n",
       "      <th>fuelType</th>\n",
       "      <th>brand</th>\n",
       "      <th>notRepairedDamage</th>\n",
       "      <th>dateCreated</th>\n",
       "      <th>nrOfPictures</th>\n",
       "      <th>postalCode</th>\n",
       "      <th>lastSeen</th>\n",
       "    </tr>\n",
       "  </thead>\n",
       "  <tbody>\n",
       "    <tr>\n",
       "      <th>0</th>\n",
       "      <td>2016-03-24 11:52:17</td>\n",
       "      <td>Golf_3_1.6</td>\n",
       "      <td>privat</td>\n",
       "      <td>Angebot</td>\n",
       "      <td>480</td>\n",
       "      <td>test</td>\n",
       "      <td>NaN</td>\n",
       "      <td>1993</td>\n",
       "      <td>manuell</td>\n",
       "      <td>0</td>\n",
       "      <td>golf</td>\n",
       "      <td>150000</td>\n",
       "      <td>0</td>\n",
       "      <td>benzin</td>\n",
       "      <td>volkswagen</td>\n",
       "      <td>NaN</td>\n",
       "      <td>2016-03-24 00:00:00</td>\n",
       "      <td>0</td>\n",
       "      <td>70435</td>\n",
       "      <td>2016-04-07 03:16:57</td>\n",
       "    </tr>\n",
       "    <tr>\n",
       "      <th>1</th>\n",
       "      <td>2016-03-24 10:58:45</td>\n",
       "      <td>A5_Sportback_2.7_Tdi</td>\n",
       "      <td>privat</td>\n",
       "      <td>Angebot</td>\n",
       "      <td>18300</td>\n",
       "      <td>test</td>\n",
       "      <td>coupe</td>\n",
       "      <td>2011</td>\n",
       "      <td>manuell</td>\n",
       "      <td>190</td>\n",
       "      <td>NaN</td>\n",
       "      <td>125000</td>\n",
       "      <td>5</td>\n",
       "      <td>diesel</td>\n",
       "      <td>audi</td>\n",
       "      <td>ja</td>\n",
       "      <td>2016-03-24 00:00:00</td>\n",
       "      <td>0</td>\n",
       "      <td>66954</td>\n",
       "      <td>2016-04-07 01:46:50</td>\n",
       "    </tr>\n",
       "    <tr>\n",
       "      <th>2</th>\n",
       "      <td>2016-03-14 12:52:21</td>\n",
       "      <td>Jeep_Grand_Cherokee_\"Overland\"</td>\n",
       "      <td>privat</td>\n",
       "      <td>Angebot</td>\n",
       "      <td>9800</td>\n",
       "      <td>test</td>\n",
       "      <td>suv</td>\n",
       "      <td>2004</td>\n",
       "      <td>automatik</td>\n",
       "      <td>163</td>\n",
       "      <td>grand</td>\n",
       "      <td>125000</td>\n",
       "      <td>8</td>\n",
       "      <td>diesel</td>\n",
       "      <td>jeep</td>\n",
       "      <td>NaN</td>\n",
       "      <td>2016-03-14 00:00:00</td>\n",
       "      <td>0</td>\n",
       "      <td>90480</td>\n",
       "      <td>2016-04-05 12:47:46</td>\n",
       "    </tr>\n",
       "    <tr>\n",
       "      <th>3</th>\n",
       "      <td>2016-03-17 16:54:04</td>\n",
       "      <td>GOLF_4_1_4__3TÜRER</td>\n",
       "      <td>privat</td>\n",
       "      <td>Angebot</td>\n",
       "      <td>1500</td>\n",
       "      <td>test</td>\n",
       "      <td>kleinwagen</td>\n",
       "      <td>2001</td>\n",
       "      <td>manuell</td>\n",
       "      <td>75</td>\n",
       "      <td>golf</td>\n",
       "      <td>150000</td>\n",
       "      <td>6</td>\n",
       "      <td>benzin</td>\n",
       "      <td>volkswagen</td>\n",
       "      <td>nein</td>\n",
       "      <td>2016-03-17 00:00:00</td>\n",
       "      <td>0</td>\n",
       "      <td>91074</td>\n",
       "      <td>2016-03-17 17:40:17</td>\n",
       "    </tr>\n",
       "    <tr>\n",
       "      <th>4</th>\n",
       "      <td>2016-03-31 17:25:20</td>\n",
       "      <td>Skoda_Fabia_1.4_TDI_PD_Classic</td>\n",
       "      <td>privat</td>\n",
       "      <td>Angebot</td>\n",
       "      <td>3600</td>\n",
       "      <td>test</td>\n",
       "      <td>kleinwagen</td>\n",
       "      <td>2008</td>\n",
       "      <td>manuell</td>\n",
       "      <td>69</td>\n",
       "      <td>fabia</td>\n",
       "      <td>90000</td>\n",
       "      <td>7</td>\n",
       "      <td>diesel</td>\n",
       "      <td>skoda</td>\n",
       "      <td>nein</td>\n",
       "      <td>2016-03-31 00:00:00</td>\n",
       "      <td>0</td>\n",
       "      <td>60437</td>\n",
       "      <td>2016-04-06 10:17:21</td>\n",
       "    </tr>\n",
       "  </tbody>\n",
       "</table>\n",
       "</div>"
      ],
      "text/plain": [
       "           dateCrawled                            name  seller offerType  \\\n",
       "0  2016-03-24 11:52:17                      Golf_3_1.6  privat   Angebot   \n",
       "1  2016-03-24 10:58:45            A5_Sportback_2.7_Tdi  privat   Angebot   \n",
       "2  2016-03-14 12:52:21  Jeep_Grand_Cherokee_\"Overland\"  privat   Angebot   \n",
       "3  2016-03-17 16:54:04              GOLF_4_1_4__3TÜRER  privat   Angebot   \n",
       "4  2016-03-31 17:25:20  Skoda_Fabia_1.4_TDI_PD_Classic  privat   Angebot   \n",
       "\n",
       "   price abtest vehicleType  yearOfRegistration    gearbox  powerPS  model  \\\n",
       "0    480   test         NaN                1993    manuell        0   golf   \n",
       "1  18300   test       coupe                2011    manuell      190    NaN   \n",
       "2   9800   test         suv                2004  automatik      163  grand   \n",
       "3   1500   test  kleinwagen                2001    manuell       75   golf   \n",
       "4   3600   test  kleinwagen                2008    manuell       69  fabia   \n",
       "\n",
       "   kilometer  monthOfRegistration fuelType       brand notRepairedDamage  \\\n",
       "0     150000                    0   benzin  volkswagen               NaN   \n",
       "1     125000                    5   diesel        audi                ja   \n",
       "2     125000                    8   diesel        jeep               NaN   \n",
       "3     150000                    6   benzin  volkswagen              nein   \n",
       "4      90000                    7   diesel       skoda              nein   \n",
       "\n",
       "           dateCreated  nrOfPictures  postalCode             lastSeen  \n",
       "0  2016-03-24 00:00:00             0       70435  2016-04-07 03:16:57  \n",
       "1  2016-03-24 00:00:00             0       66954  2016-04-07 01:46:50  \n",
       "2  2016-03-14 00:00:00             0       90480  2016-04-05 12:47:46  \n",
       "3  2016-03-17 00:00:00             0       91074  2016-03-17 17:40:17  \n",
       "4  2016-03-31 00:00:00             0       60437  2016-04-06 10:17:21  "
      ]
     },
     "execution_count": 3,
     "metadata": {},
     "output_type": "execute_result"
    }
   ],
   "source": [
    "import great_expectations as gx\n",
    "\n",
    "df = gx.read_csv(\"dados/autos.csv\", encoding='ISO-8859-1')\n",
    "df.head() #as funções funcionam igual"
   ]
  },
  {
   "cell_type": "markdown",
   "metadata": {},
   "source": [
    "### Ou leitura do arquivo com o Pandas e depois convertando para o formato do \"great_expectations\""
   ]
  },
  {
   "cell_type": "code",
   "execution_count": 4,
   "metadata": {},
   "outputs": [
    {
     "data": {
      "text/html": [
       "<div>\n",
       "<style scoped>\n",
       "    .dataframe tbody tr th:only-of-type {\n",
       "        vertical-align: middle;\n",
       "    }\n",
       "\n",
       "    .dataframe tbody tr th {\n",
       "        vertical-align: top;\n",
       "    }\n",
       "\n",
       "    .dataframe thead th {\n",
       "        text-align: right;\n",
       "    }\n",
       "</style>\n",
       "<table border=\"1\" class=\"dataframe\">\n",
       "  <thead>\n",
       "    <tr style=\"text-align: right;\">\n",
       "      <th></th>\n",
       "      <th>dateCrawled</th>\n",
       "      <th>name</th>\n",
       "      <th>seller</th>\n",
       "      <th>offerType</th>\n",
       "      <th>price</th>\n",
       "      <th>abtest</th>\n",
       "      <th>vehicleType</th>\n",
       "      <th>yearOfRegistration</th>\n",
       "      <th>gearbox</th>\n",
       "      <th>powerPS</th>\n",
       "      <th>model</th>\n",
       "      <th>kilometer</th>\n",
       "      <th>monthOfRegistration</th>\n",
       "      <th>fuelType</th>\n",
       "      <th>brand</th>\n",
       "      <th>notRepairedDamage</th>\n",
       "      <th>dateCreated</th>\n",
       "      <th>nrOfPictures</th>\n",
       "      <th>postalCode</th>\n",
       "      <th>lastSeen</th>\n",
       "    </tr>\n",
       "  </thead>\n",
       "  <tbody>\n",
       "    <tr>\n",
       "      <th>0</th>\n",
       "      <td>2016-03-24 11:52:17</td>\n",
       "      <td>Golf_3_1.6</td>\n",
       "      <td>privat</td>\n",
       "      <td>Angebot</td>\n",
       "      <td>480</td>\n",
       "      <td>test</td>\n",
       "      <td>NaN</td>\n",
       "      <td>1993</td>\n",
       "      <td>manuell</td>\n",
       "      <td>0</td>\n",
       "      <td>golf</td>\n",
       "      <td>150000</td>\n",
       "      <td>0</td>\n",
       "      <td>benzin</td>\n",
       "      <td>volkswagen</td>\n",
       "      <td>NaN</td>\n",
       "      <td>2016-03-24 00:00:00</td>\n",
       "      <td>0</td>\n",
       "      <td>70435</td>\n",
       "      <td>2016-04-07 03:16:57</td>\n",
       "    </tr>\n",
       "    <tr>\n",
       "      <th>1</th>\n",
       "      <td>2016-03-24 10:58:45</td>\n",
       "      <td>A5_Sportback_2.7_Tdi</td>\n",
       "      <td>privat</td>\n",
       "      <td>Angebot</td>\n",
       "      <td>18300</td>\n",
       "      <td>test</td>\n",
       "      <td>coupe</td>\n",
       "      <td>2011</td>\n",
       "      <td>manuell</td>\n",
       "      <td>190</td>\n",
       "      <td>NaN</td>\n",
       "      <td>125000</td>\n",
       "      <td>5</td>\n",
       "      <td>diesel</td>\n",
       "      <td>audi</td>\n",
       "      <td>ja</td>\n",
       "      <td>2016-03-24 00:00:00</td>\n",
       "      <td>0</td>\n",
       "      <td>66954</td>\n",
       "      <td>2016-04-07 01:46:50</td>\n",
       "    </tr>\n",
       "    <tr>\n",
       "      <th>2</th>\n",
       "      <td>2016-03-14 12:52:21</td>\n",
       "      <td>Jeep_Grand_Cherokee_\"Overland\"</td>\n",
       "      <td>privat</td>\n",
       "      <td>Angebot</td>\n",
       "      <td>9800</td>\n",
       "      <td>test</td>\n",
       "      <td>suv</td>\n",
       "      <td>2004</td>\n",
       "      <td>automatik</td>\n",
       "      <td>163</td>\n",
       "      <td>grand</td>\n",
       "      <td>125000</td>\n",
       "      <td>8</td>\n",
       "      <td>diesel</td>\n",
       "      <td>jeep</td>\n",
       "      <td>NaN</td>\n",
       "      <td>2016-03-14 00:00:00</td>\n",
       "      <td>0</td>\n",
       "      <td>90480</td>\n",
       "      <td>2016-04-05 12:47:46</td>\n",
       "    </tr>\n",
       "    <tr>\n",
       "      <th>3</th>\n",
       "      <td>2016-03-17 16:54:04</td>\n",
       "      <td>GOLF_4_1_4__3TÜRER</td>\n",
       "      <td>privat</td>\n",
       "      <td>Angebot</td>\n",
       "      <td>1500</td>\n",
       "      <td>test</td>\n",
       "      <td>kleinwagen</td>\n",
       "      <td>2001</td>\n",
       "      <td>manuell</td>\n",
       "      <td>75</td>\n",
       "      <td>golf</td>\n",
       "      <td>150000</td>\n",
       "      <td>6</td>\n",
       "      <td>benzin</td>\n",
       "      <td>volkswagen</td>\n",
       "      <td>nein</td>\n",
       "      <td>2016-03-17 00:00:00</td>\n",
       "      <td>0</td>\n",
       "      <td>91074</td>\n",
       "      <td>2016-03-17 17:40:17</td>\n",
       "    </tr>\n",
       "    <tr>\n",
       "      <th>4</th>\n",
       "      <td>2016-03-31 17:25:20</td>\n",
       "      <td>Skoda_Fabia_1.4_TDI_PD_Classic</td>\n",
       "      <td>privat</td>\n",
       "      <td>Angebot</td>\n",
       "      <td>3600</td>\n",
       "      <td>test</td>\n",
       "      <td>kleinwagen</td>\n",
       "      <td>2008</td>\n",
       "      <td>manuell</td>\n",
       "      <td>69</td>\n",
       "      <td>fabia</td>\n",
       "      <td>90000</td>\n",
       "      <td>7</td>\n",
       "      <td>diesel</td>\n",
       "      <td>skoda</td>\n",
       "      <td>nein</td>\n",
       "      <td>2016-03-31 00:00:00</td>\n",
       "      <td>0</td>\n",
       "      <td>60437</td>\n",
       "      <td>2016-04-06 10:17:21</td>\n",
       "    </tr>\n",
       "  </tbody>\n",
       "</table>\n",
       "</div>"
      ],
      "text/plain": [
       "           dateCrawled                            name  seller offerType  \\\n",
       "0  2016-03-24 11:52:17                      Golf_3_1.6  privat   Angebot   \n",
       "1  2016-03-24 10:58:45            A5_Sportback_2.7_Tdi  privat   Angebot   \n",
       "2  2016-03-14 12:52:21  Jeep_Grand_Cherokee_\"Overland\"  privat   Angebot   \n",
       "3  2016-03-17 16:54:04              GOLF_4_1_4__3TÜRER  privat   Angebot   \n",
       "4  2016-03-31 17:25:20  Skoda_Fabia_1.4_TDI_PD_Classic  privat   Angebot   \n",
       "\n",
       "   price abtest vehicleType  yearOfRegistration    gearbox  powerPS  model  \\\n",
       "0    480   test         NaN                1993    manuell        0   golf   \n",
       "1  18300   test       coupe                2011    manuell      190    NaN   \n",
       "2   9800   test         suv                2004  automatik      163  grand   \n",
       "3   1500   test  kleinwagen                2001    manuell       75   golf   \n",
       "4   3600   test  kleinwagen                2008    manuell       69  fabia   \n",
       "\n",
       "   kilometer  monthOfRegistration fuelType       brand notRepairedDamage  \\\n",
       "0     150000                    0   benzin  volkswagen               NaN   \n",
       "1     125000                    5   diesel        audi                ja   \n",
       "2     125000                    8   diesel        jeep               NaN   \n",
       "3     150000                    6   benzin  volkswagen              nein   \n",
       "4      90000                    7   diesel       skoda              nein   \n",
       "\n",
       "           dateCreated  nrOfPictures  postalCode             lastSeen  \n",
       "0  2016-03-24 00:00:00             0       70435  2016-04-07 03:16:57  \n",
       "1  2016-03-24 00:00:00             0       66954  2016-04-07 01:46:50  \n",
       "2  2016-03-14 00:00:00             0       90480  2016-04-05 12:47:46  \n",
       "3  2016-03-17 00:00:00             0       91074  2016-03-17 17:40:17  \n",
       "4  2016-03-31 00:00:00             0       60437  2016-04-06 10:17:21  "
      ]
     },
     "execution_count": 4,
     "metadata": {},
     "output_type": "execute_result"
    }
   ],
   "source": [
    "import pandas as pd\n",
    "\n",
    "df = pd.read_csv(\"dados/autos.csv\", encoding='ISO-8859-1')\n",
    "df = gx.from_pandas(df) #de um dataframe pandas para o formato do \"great_expectations\"\n",
    "df.head()"
   ]
  },
  {
   "cell_type": "markdown",
   "metadata": {},
   "source": [
    "### Adiciona duas expectativas de tipo de coluna para a base de dados "
   ]
  },
  {
   "cell_type": "code",
   "execution_count": 5,
   "metadata": {},
   "outputs": [
    {
     "data": {
      "text/plain": [
       "{\n",
       "  \"success\": true,\n",
       "  \"result\": {\n",
       "    \"observed_value\": \"int64\"\n",
       "  },\n",
       "  \"meta\": {},\n",
       "  \"exception_info\": {\n",
       "    \"raised_exception\": false,\n",
       "    \"exception_traceback\": null,\n",
       "    \"exception_message\": null\n",
       "  }\n",
       "}"
      ]
     },
     "execution_count": 5,
     "metadata": {},
     "output_type": "execute_result"
    }
   ],
   "source": [
    "#expectativa de que a coluna 'yearOfRegistration' precisa ser do tipo 'int64'\n",
    "df.expect_column_values_to_be_of_type(column='yearOfRegistration', type_='int64')\n",
    "#expectativa de que a coluna 'monthOfRegistration' precisa ser do tipo 'int64'\n",
    "df.expect_column_values_to_be_of_type(column='monthOfRegistration', type_='int64')"
   ]
  },
  {
   "cell_type": "markdown",
   "metadata": {},
   "source": [
    "### Lista com todas as expectativas disponíveis:\n",
    "https://greatexpectations.io/expectations/"
   ]
  },
  {
   "cell_type": "markdown",
   "metadata": {},
   "source": [
    "### As expectativas ficam armazenadas em um \"Expectation Suite\":"
   ]
  },
  {
   "cell_type": "code",
   "execution_count": 6,
   "metadata": {},
   "outputs": [
    {
     "data": {
      "text/plain": [
       "{\n",
       "  \"expectation_suite_name\": \"default\",\n",
       "  \"ge_cloud_id\": null,\n",
       "  \"expectations\": [\n",
       "    {\n",
       "      \"expectation_type\": \"expect_column_values_to_be_of_type\",\n",
       "      \"kwargs\": {\n",
       "        \"column\": \"yearOfRegistration\",\n",
       "        \"type_\": \"int64\"\n",
       "      },\n",
       "      \"meta\": {}\n",
       "    },\n",
       "    {\n",
       "      \"expectation_type\": \"expect_column_values_to_be_of_type\",\n",
       "      \"kwargs\": {\n",
       "        \"column\": \"monthOfRegistration\",\n",
       "        \"type_\": \"int64\"\n",
       "      },\n",
       "      \"meta\": {}\n",
       "    }\n",
       "  ],\n",
       "  \"data_asset_type\": \"Dataset\",\n",
       "  \"meta\": {\n",
       "    \"great_expectations_version\": \"0.17.21\"\n",
       "  }\n",
       "}"
      ]
     },
     "execution_count": 6,
     "metadata": {},
     "output_type": "execute_result"
    }
   ],
   "source": [
    "df.get_expectation_suite()"
   ]
  },
  {
   "cell_type": "markdown",
   "metadata": {},
   "source": [
    "### Adicionando uma nova expectativa, agora com relação a valores esperados de 1 a 12 para a coluna 'monthOfRegistration'"
   ]
  },
  {
   "cell_type": "code",
   "execution_count": 7,
   "metadata": {},
   "outputs": [
    {
     "data": {
      "text/plain": [
       "{\n",
       "  \"success\": false,\n",
       "  \"result\": {\n",
       "    \"element_count\": 371528,\n",
       "    \"missing_count\": 0,\n",
       "    \"missing_percent\": 0.0,\n",
       "    \"unexpected_count\": 37675,\n",
       "    \"unexpected_percent\": 10.14055468228505,\n",
       "    \"unexpected_percent_total\": 10.14055468228505,\n",
       "    \"unexpected_percent_nonmissing\": 10.14055468228505,\n",
       "    \"partial_unexpected_list\": [\n",
       "      0,\n",
       "      0,\n",
       "      0,\n",
       "      0,\n",
       "      0,\n",
       "      0,\n",
       "      0,\n",
       "      0,\n",
       "      0,\n",
       "      0,\n",
       "      0,\n",
       "      0,\n",
       "      0,\n",
       "      0,\n",
       "      0,\n",
       "      0,\n",
       "      0,\n",
       "      0,\n",
       "      0,\n",
       "      0\n",
       "    ]\n",
       "  },\n",
       "  \"meta\": {},\n",
       "  \"exception_info\": {\n",
       "    \"raised_exception\": false,\n",
       "    \"exception_traceback\": null,\n",
       "    \"exception_message\": null\n",
       "  }\n",
       "}"
      ]
     },
     "execution_count": 7,
     "metadata": {},
     "output_type": "execute_result"
    }
   ],
   "source": [
    "df.expect_column_values_to_be_between(\n",
    "    column=\"monthOfRegistration\",\n",
    "    min_value=1,  #valor minimo esperado\n",
    "    max_value=12, #valor maximo esperado\n",
    ")"
   ]
  },
  {
   "cell_type": "markdown",
   "metadata": {},
   "source": [
    "### Agora trabalhando com checkpoints e validadores "
   ]
  },
  {
   "cell_type": "code",
   "execution_count": 9,
   "metadata": {},
   "outputs": [
    {
     "name": "stdout",
     "output_type": "stream",
     "text": [
      "{\n",
      "  \"anonymous_usage_statistics\": {\n",
      "    \"explicit_id\": true,\n",
      "    \"explicit_url\": false,\n",
      "    \"usage_statistics_url\": \"https://stats.greatexpectations.io/great_expectations/v1/usage_statistics\",\n",
      "    \"data_context_id\": \"67ce6685-ca15-4fc3-9d28-ead580ab7237\",\n",
      "    \"enabled\": true\n",
      "  },\n",
      "  \"checkpoint_store_name\": \"checkpoint_store\",\n",
      "  \"config_version\": 3,\n",
      "  \"data_docs_sites\": {\n",
      "    \"local_site\": {\n",
      "      \"class_name\": \"SiteBuilder\",\n",
      "      \"show_how_to_buttons\": true,\n",
      "      \"store_backend\": {\n",
      "        \"class_name\": \"TupleFilesystemStoreBackend\",\n",
      "        \"base_directory\": \"C:\\\\Users\\\\ANDRAD~1\\\\AppData\\\\Local\\\\Temp\\\\tmp13_epbz7\"\n",
      "      },\n",
      "      \"site_index_builder\": {\n",
      "        \"class_name\": \"DefaultSiteIndexBuilder\"\n",
      "      }\n",
      "    }\n",
      "  },\n",
      "  \"datasources\": {},\n",
      "  \"evaluation_parameter_store_name\": \"evaluation_parameter_store\",\n",
      "  \"expectations_store_name\": \"expectations_store\",\n",
      "  \"fluent_datasources\": {},\n",
      "  \"include_rendered_content\": {\n",
      "    \"expectation_suite\": false,\n",
      "    \"expectation_validation_result\": false,\n",
      "    \"globally\": false\n",
      "  },\n",
      "  \"profiler_store_name\": \"profiler_store\",\n",
      "  \"stores\": {\n",
      "    \"expectations_store\": {\n",
      "      \"class_name\": \"ExpectationsStore\",\n",
      "      \"store_backend\": {\n",
      "        \"class_name\": \"InMemoryStoreBackend\"\n",
      "      }\n",
      "    },\n",
      "    \"validations_store\": {\n",
      "      \"class_name\": \"ValidationsStore\",\n",
      "      \"store_backend\": {\n",
      "        \"class_name\": \"InMemoryStoreBackend\"\n",
      "      }\n",
      "    },\n",
      "    \"evaluation_parameter_store\": {\n",
      "      \"class_name\": \"EvaluationParameterStore\"\n",
      "    },\n",
      "    \"checkpoint_store\": {\n",
      "      \"class_name\": \"CheckpointStore\",\n",
      "      \"store_backend\": {\n",
      "        \"class_name\": \"InMemoryStoreBackend\"\n",
      "      }\n",
      "    },\n",
      "    \"profiler_store\": {\n",
      "      \"class_name\": \"ProfilerStore\",\n",
      "      \"store_backend\": {\n",
      "        \"class_name\": \"InMemoryStoreBackend\"\n",
      "      }\n",
      "    }\n",
      "  },\n",
      "  \"validations_store_name\": \"validations_store\"\n",
      "}\n"
     ]
    }
   ],
   "source": [
    "import great_expectations as gx\n",
    "\n",
    "context = gx.get_context() #inicia um contexto do \"great_expectations\"\n",
    "\n",
    "print(context)"
   ]
  },
  {
   "cell_type": "markdown",
   "metadata": {},
   "source": [
    "### Perceba que o contexto inicia sem nenhuma lista de Expectativas (as \"Expectation Suites\")"
   ]
  },
  {
   "cell_type": "code",
   "execution_count": 10,
   "metadata": {},
   "outputs": [
    {
     "data": {
      "text/plain": [
       "[]"
      ]
     },
     "execution_count": 10,
     "metadata": {},
     "output_type": "execute_result"
    }
   ],
   "source": [
    "context.list_expectation_suite_names()"
   ]
  },
  {
   "cell_type": "markdown",
   "metadata": {},
   "source": [
    "### Cria um validador a partir da base de dados pelo arquivo csv e o Pandas"
   ]
  },
  {
   "cell_type": "code",
   "execution_count": 11,
   "metadata": {},
   "outputs": [
    {
     "data": {
      "application/vnd.jupyter.widget-view+json": {
       "model_id": "7181536ac426420fb22fe716ef95b88b",
       "version_major": 2,
       "version_minor": 0
      },
      "text/plain": [
       "Calculating Metrics:   0%|          | 0/1 [00:00<?, ?it/s]"
      ]
     },
     "metadata": {},
     "output_type": "display_data"
    },
    {
     "data": {
      "application/vnd.jupyter.widget-view+json": {
       "model_id": "edb13bcd57524f5b89fa521487638c56",
       "version_major": 2,
       "version_minor": 0
      },
      "text/plain": [
       "Calculating Metrics:   0%|          | 0/1 [00:00<?, ?it/s]"
      ]
     },
     "metadata": {},
     "output_type": "display_data"
    },
    {
     "data": {
      "application/vnd.jupyter.widget-view+json": {
       "model_id": "ade9dd8b8424406da76d4b374faf87fc",
       "version_major": 2,
       "version_minor": 0
      },
      "text/plain": [
       "Calculating Metrics:   0%|          | 0/8 [00:00<?, ?it/s]"
      ]
     },
     "metadata": {},
     "output_type": "display_data"
    },
    {
     "data": {
      "application/vnd.jupyter.widget-view+json": {
       "model_id": "3a7f356dcae74d9a92729365cbfe9e4f",
       "version_major": 2,
       "version_minor": 0
      },
      "text/plain": [
       "Calculating Metrics:   0%|          | 0/8 [00:00<?, ?it/s]"
      ]
     },
     "metadata": {},
     "output_type": "display_data"
    },
    {
     "data": {
      "text/plain": [
       "{\n",
       "  \"success\": false,\n",
       "  \"result\": {\n",
       "    \"element_count\": 371528,\n",
       "    \"unexpected_count\": 14748,\n",
       "    \"unexpected_percent\": 3.9695527658749814,\n",
       "    \"partial_unexpected_list\": [\n",
       "      2018,\n",
       "      2017,\n",
       "      2017,\n",
       "      2017,\n",
       "      2018,\n",
       "      2017,\n",
       "      2017,\n",
       "      2017,\n",
       "      2018,\n",
       "      2018,\n",
       "      2017,\n",
       "      2017,\n",
       "      2017,\n",
       "      2017,\n",
       "      2017,\n",
       "      2017,\n",
       "      2017,\n",
       "      2017,\n",
       "      2018,\n",
       "      2017\n",
       "    ],\n",
       "    \"missing_count\": 0,\n",
       "    \"missing_percent\": 0.0,\n",
       "    \"unexpected_percent_total\": 3.9695527658749814,\n",
       "    \"unexpected_percent_nonmissing\": 3.9695527658749814\n",
       "  },\n",
       "  \"meta\": {},\n",
       "  \"exception_info\": {\n",
       "    \"raised_exception\": false,\n",
       "    \"exception_traceback\": null,\n",
       "    \"exception_message\": null\n",
       "  }\n",
       "}"
      ]
     },
     "execution_count": 11,
     "metadata": {},
     "output_type": "execute_result"
    }
   ],
   "source": [
    "validator = context.sources.pandas_default.read_csv(\"dados/autos.csv\", encoding='ISO-8859-1') #cria o validador\n",
    "\n",
    "#expectativa de que a coluna 'yearOfRegistration' precisa ser do tipo 'int64'\n",
    "validator.expect_column_values_to_be_of_type(column='yearOfRegistration', type_='int64') \n",
    "#expectativa de que a coluna 'monthOfRegistration' precisa ser do tipo 'int64'\n",
    "validator.expect_column_values_to_be_of_type(column='monthOfRegistration', type_='int64')\n",
    "\n",
    "#expectativa de valores esperados entre 1000 e 500000 para a coluna 'kilometer'\n",
    "validator.expect_column_values_to_be_between(\n",
    "    column=\"kilometer\",\n",
    "    min_value=1000,\n",
    "    max_value=500000,\n",
    ")\n",
    "\n",
    "#expectativa de valores esperados entre 1900 e 2016 para a coluna 'yearOfRegistration'\n",
    "validator.expect_column_values_to_be_between(\n",
    "    column=\"yearOfRegistration\",\n",
    "    min_value=1900,\n",
    "    max_value=2016,\n",
    ")"
   ]
  },
  {
   "cell_type": "markdown",
   "metadata": {},
   "source": [
    "### Salva a \"Expectation Suite\" criada pelo validador"
   ]
  },
  {
   "cell_type": "code",
   "execution_count": 12,
   "metadata": {},
   "outputs": [],
   "source": [
    "#o parametro \"discard_failed_expectations\" igual a \"False\" indica que mesmos as expectativas que não foram cumpridas serão salvas\n",
    "validator.save_expectation_suite(discard_failed_expectations=False) "
   ]
  },
  {
   "cell_type": "code",
   "execution_count": 21,
   "metadata": {},
   "outputs": [
    {
     "data": {
      "text/plain": [
       "['default']"
      ]
     },
     "execution_count": 21,
     "metadata": {},
     "output_type": "execute_result"
    }
   ],
   "source": [
    "#agora pode se observer que a \"Expectation Suite\" está disponível no \"contexto\"\n",
    "context.list_expectation_suite_names()"
   ]
  },
  {
   "cell_type": "markdown",
   "metadata": {},
   "source": [
    "### Cria um \"checkpoint\" a partir do resultado atual do validador"
   ]
  },
  {
   "cell_type": "code",
   "execution_count": 14,
   "metadata": {},
   "outputs": [],
   "source": [
    "checkpoint = context.add_or_update_checkpoint(name=\"primeiro_checkpoint\", validator=validator)"
   ]
  },
  {
   "cell_type": "markdown",
   "metadata": {},
   "source": [
    "### Processa esse \"checkpoint\""
   ]
  },
  {
   "cell_type": "code",
   "execution_count": 15,
   "metadata": {},
   "outputs": [
    {
     "data": {
      "application/vnd.jupyter.widget-view+json": {
       "model_id": "4fc91ab1eabd437d88986944782404d3",
       "version_major": 2,
       "version_minor": 0
      },
      "text/plain": [
       "Calculating Metrics:   0%|          | 0/17 [00:00<?, ?it/s]"
      ]
     },
     "metadata": {},
     "output_type": "display_data"
    }
   ],
   "source": [
    "checkpoint_result = checkpoint.run()"
   ]
  },
  {
   "cell_type": "markdown",
   "metadata": {},
   "source": [
    "### Disponibiliza uma documentação web com as informações das expectativas e testes dos \"checkpoints\" no link indicado"
   ]
  },
  {
   "cell_type": "code",
   "execution_count": 16,
   "metadata": {},
   "outputs": [
    {
     "data": {
      "text/plain": [
       "{'local_site': 'file://C:\\\\Users\\\\ANDRAD~1\\\\AppData\\\\Local\\\\Temp\\\\tmp13_epbz7\\\\index.html'}"
      ]
     },
     "execution_count": 16,
     "metadata": {},
     "output_type": "execute_result"
    }
   ],
   "source": [
    "context.build_data_docs()"
   ]
  },
  {
   "cell_type": "markdown",
   "metadata": {},
   "source": [
    "### Continuação dos testes com a adição de uma nova expectativa"
   ]
  },
  {
   "cell_type": "code",
   "execution_count": 17,
   "metadata": {},
   "outputs": [
    {
     "data": {
      "application/vnd.jupyter.widget-view+json": {
       "model_id": "ab5e3767978847e3b75d567d6f2c79f1",
       "version_major": 2,
       "version_minor": 0
      },
      "text/plain": [
       "Calculating Metrics:   0%|          | 0/8 [00:00<?, ?it/s]"
      ]
     },
     "metadata": {},
     "output_type": "display_data"
    },
    {
     "data": {
      "text/plain": [
       "{\n",
       "  \"success\": true,\n",
       "  \"result\": {\n",
       "    \"element_count\": 371528,\n",
       "    \"unexpected_count\": 0,\n",
       "    \"unexpected_percent\": 0.0,\n",
       "    \"partial_unexpected_list\": [],\n",
       "    \"missing_count\": 0,\n",
       "    \"missing_percent\": 0.0,\n",
       "    \"unexpected_percent_total\": 0.0,\n",
       "    \"unexpected_percent_nonmissing\": 0.0\n",
       "  },\n",
       "  \"meta\": {},\n",
       "  \"exception_info\": {\n",
       "    \"raised_exception\": false,\n",
       "    \"exception_traceback\": null,\n",
       "    \"exception_message\": null\n",
       "  }\n",
       "}"
      ]
     },
     "execution_count": 17,
     "metadata": {},
     "output_type": "execute_result"
    }
   ],
   "source": [
    "#expectativa de valores esperados entre 0 e 30000 para a coluna 'powerPS'\n",
    "validator.expect_column_values_to_be_between(\n",
    "    column=\"powerPS\",\n",
    "    min_value=0,\n",
    "    max_value=30000,\n",
    ")"
   ]
  },
  {
   "cell_type": "markdown",
   "metadata": {},
   "source": [
    "### Salva a novo conjunto de expectativas (\"Expectation Suite\") e processa mais um \"checkpoint\""
   ]
  },
  {
   "cell_type": "code",
   "execution_count": 18,
   "metadata": {},
   "outputs": [],
   "source": [
    "validator.save_expectation_suite(discard_failed_expectations=False)"
   ]
  },
  {
   "cell_type": "code",
   "execution_count": 19,
   "metadata": {},
   "outputs": [],
   "source": [
    "checkpoint = context.add_or_update_checkpoint(name=\"segundo_checkpoint\", validator=validator)"
   ]
  },
  {
   "cell_type": "code",
   "execution_count": 20,
   "metadata": {},
   "outputs": [
    {
     "data": {
      "application/vnd.jupyter.widget-view+json": {
       "model_id": "9a073c817e3f4dd28707a15f3c3b568e",
       "version_major": 2,
       "version_minor": 0
      },
      "text/plain": [
       "Calculating Metrics:   0%|          | 0/24 [00:00<?, ?it/s]"
      ]
     },
     "metadata": {},
     "output_type": "display_data"
    }
   ],
   "source": [
    "checkpoint_result = checkpoint.run()"
   ]
  }
 ],
 "metadata": {
  "kernelspec": {
   "display_name": "ada",
   "language": "python",
   "name": "python3"
  },
  "language_info": {
   "codemirror_mode": {
    "name": "ipython",
    "version": 3
   },
   "file_extension": ".py",
   "mimetype": "text/x-python",
   "name": "python",
   "nbconvert_exporter": "python",
   "pygments_lexer": "ipython3",
   "version": "3.9.18"
  }
 },
 "nbformat": 4,
 "nbformat_minor": 2
}
